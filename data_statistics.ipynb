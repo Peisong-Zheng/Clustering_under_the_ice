{
 "cells": [
  {
   "cell_type": "code",
   "execution_count": 4,
   "metadata": {},
   "outputs": [],
   "source": [
    "# define the path of the data and project\n",
    "data_path = 'D:/VScode/MRes/scienceweb.whoi.edu/itp/data/'"
   ]
  },
  {
   "cell_type": "code",
   "execution_count": 5,
   "metadata": {},
   "outputs": [],
   "source": [
    "# read the cleaned xarray from local file\n",
    "import xarray as xr\n",
    "ds_cleaned=xr.open_dataset(f\"{data_path}/ds_cleaned.nc\")"
   ]
  },
  {
   "cell_type": "code",
   "execution_count": 6,
   "metadata": {},
   "outputs": [
    {
     "data": {
      "text/html": [
       "<div><svg style=\"position: absolute; width: 0; height: 0; overflow: hidden\">\n",
       "<defs>\n",
       "<symbol id=\"icon-database\" viewBox=\"0 0 32 32\">\n",
       "<path d=\"M16 0c-8.837 0-16 2.239-16 5v4c0 2.761 7.163 5 16 5s16-2.239 16-5v-4c0-2.761-7.163-5-16-5z\"></path>\n",
       "<path d=\"M16 17c-8.837 0-16-2.239-16-5v6c0 2.761 7.163 5 16 5s16-2.239 16-5v-6c0 2.761-7.163 5-16 5z\"></path>\n",
       "<path d=\"M16 26c-8.837 0-16-2.239-16-5v6c0 2.761 7.163 5 16 5s16-2.239 16-5v-6c0 2.761-7.163 5-16 5z\"></path>\n",
       "</symbol>\n",
       "<symbol id=\"icon-file-text2\" viewBox=\"0 0 32 32\">\n",
       "<path d=\"M28.681 7.159c-0.694-0.947-1.662-2.053-2.724-3.116s-2.169-2.030-3.116-2.724c-1.612-1.182-2.393-1.319-2.841-1.319h-15.5c-1.378 0-2.5 1.121-2.5 2.5v27c0 1.378 1.122 2.5 2.5 2.5h23c1.378 0 2.5-1.122 2.5-2.5v-19.5c0-0.448-0.137-1.23-1.319-2.841zM24.543 5.457c0.959 0.959 1.712 1.825 2.268 2.543h-4.811v-4.811c0.718 0.556 1.584 1.309 2.543 2.268zM28 29.5c0 0.271-0.229 0.5-0.5 0.5h-23c-0.271 0-0.5-0.229-0.5-0.5v-27c0-0.271 0.229-0.5 0.5-0.5 0 0 15.499-0 15.5 0v7c0 0.552 0.448 1 1 1h7v19.5z\"></path>\n",
       "<path d=\"M23 26h-14c-0.552 0-1-0.448-1-1s0.448-1 1-1h14c0.552 0 1 0.448 1 1s-0.448 1-1 1z\"></path>\n",
       "<path d=\"M23 22h-14c-0.552 0-1-0.448-1-1s0.448-1 1-1h14c0.552 0 1 0.448 1 1s-0.448 1-1 1z\"></path>\n",
       "<path d=\"M23 18h-14c-0.552 0-1-0.448-1-1s0.448-1 1-1h14c0.552 0 1 0.448 1 1s-0.448 1-1 1z\"></path>\n",
       "</symbol>\n",
       "</defs>\n",
       "</svg>\n",
       "<style>/* CSS stylesheet for displaying xarray objects in jupyterlab.\n",
       " *\n",
       " */\n",
       "\n",
       ":root {\n",
       "  --xr-font-color0: var(--jp-content-font-color0, rgba(0, 0, 0, 1));\n",
       "  --xr-font-color2: var(--jp-content-font-color2, rgba(0, 0, 0, 0.54));\n",
       "  --xr-font-color3: var(--jp-content-font-color3, rgba(0, 0, 0, 0.38));\n",
       "  --xr-border-color: var(--jp-border-color2, #e0e0e0);\n",
       "  --xr-disabled-color: var(--jp-layout-color3, #bdbdbd);\n",
       "  --xr-background-color: var(--jp-layout-color0, white);\n",
       "  --xr-background-color-row-even: var(--jp-layout-color1, white);\n",
       "  --xr-background-color-row-odd: var(--jp-layout-color2, #eeeeee);\n",
       "}\n",
       "\n",
       "html[theme=dark],\n",
       "body[data-theme=dark],\n",
       "body.vscode-dark {\n",
       "  --xr-font-color0: rgba(255, 255, 255, 1);\n",
       "  --xr-font-color2: rgba(255, 255, 255, 0.54);\n",
       "  --xr-font-color3: rgba(255, 255, 255, 0.38);\n",
       "  --xr-border-color: #1F1F1F;\n",
       "  --xr-disabled-color: #515151;\n",
       "  --xr-background-color: #111111;\n",
       "  --xr-background-color-row-even: #111111;\n",
       "  --xr-background-color-row-odd: #313131;\n",
       "}\n",
       "\n",
       ".xr-wrap {\n",
       "  display: block !important;\n",
       "  min-width: 300px;\n",
       "  max-width: 700px;\n",
       "}\n",
       "\n",
       ".xr-text-repr-fallback {\n",
       "  /* fallback to plain text repr when CSS is not injected (untrusted notebook) */\n",
       "  display: none;\n",
       "}\n",
       "\n",
       ".xr-header {\n",
       "  padding-top: 6px;\n",
       "  padding-bottom: 6px;\n",
       "  margin-bottom: 4px;\n",
       "  border-bottom: solid 1px var(--xr-border-color);\n",
       "}\n",
       "\n",
       ".xr-header > div,\n",
       ".xr-header > ul {\n",
       "  display: inline;\n",
       "  margin-top: 0;\n",
       "  margin-bottom: 0;\n",
       "}\n",
       "\n",
       ".xr-obj-type,\n",
       ".xr-array-name {\n",
       "  margin-left: 2px;\n",
       "  margin-right: 10px;\n",
       "}\n",
       "\n",
       ".xr-obj-type {\n",
       "  color: var(--xr-font-color2);\n",
       "}\n",
       "\n",
       ".xr-sections {\n",
       "  padding-left: 0 !important;\n",
       "  display: grid;\n",
       "  grid-template-columns: 150px auto auto 1fr 20px 20px;\n",
       "}\n",
       "\n",
       ".xr-section-item {\n",
       "  display: contents;\n",
       "}\n",
       "\n",
       ".xr-section-item input {\n",
       "  display: none;\n",
       "}\n",
       "\n",
       ".xr-section-item input + label {\n",
       "  color: var(--xr-disabled-color);\n",
       "}\n",
       "\n",
       ".xr-section-item input:enabled + label {\n",
       "  cursor: pointer;\n",
       "  color: var(--xr-font-color2);\n",
       "}\n",
       "\n",
       ".xr-section-item input:enabled + label:hover {\n",
       "  color: var(--xr-font-color0);\n",
       "}\n",
       "\n",
       ".xr-section-summary {\n",
       "  grid-column: 1;\n",
       "  color: var(--xr-font-color2);\n",
       "  font-weight: 500;\n",
       "}\n",
       "\n",
       ".xr-section-summary > span {\n",
       "  display: inline-block;\n",
       "  padding-left: 0.5em;\n",
       "}\n",
       "\n",
       ".xr-section-summary-in:disabled + label {\n",
       "  color: var(--xr-font-color2);\n",
       "}\n",
       "\n",
       ".xr-section-summary-in + label:before {\n",
       "  display: inline-block;\n",
       "  content: '►';\n",
       "  font-size: 11px;\n",
       "  width: 15px;\n",
       "  text-align: center;\n",
       "}\n",
       "\n",
       ".xr-section-summary-in:disabled + label:before {\n",
       "  color: var(--xr-disabled-color);\n",
       "}\n",
       "\n",
       ".xr-section-summary-in:checked + label:before {\n",
       "  content: '▼';\n",
       "}\n",
       "\n",
       ".xr-section-summary-in:checked + label > span {\n",
       "  display: none;\n",
       "}\n",
       "\n",
       ".xr-section-summary,\n",
       ".xr-section-inline-details {\n",
       "  padding-top: 4px;\n",
       "  padding-bottom: 4px;\n",
       "}\n",
       "\n",
       ".xr-section-inline-details {\n",
       "  grid-column: 2 / -1;\n",
       "}\n",
       "\n",
       ".xr-section-details {\n",
       "  display: none;\n",
       "  grid-column: 1 / -1;\n",
       "  margin-bottom: 5px;\n",
       "}\n",
       "\n",
       ".xr-section-summary-in:checked ~ .xr-section-details {\n",
       "  display: contents;\n",
       "}\n",
       "\n",
       ".xr-array-wrap {\n",
       "  grid-column: 1 / -1;\n",
       "  display: grid;\n",
       "  grid-template-columns: 20px auto;\n",
       "}\n",
       "\n",
       ".xr-array-wrap > label {\n",
       "  grid-column: 1;\n",
       "  vertical-align: top;\n",
       "}\n",
       "\n",
       ".xr-preview {\n",
       "  color: var(--xr-font-color3);\n",
       "}\n",
       "\n",
       ".xr-array-preview,\n",
       ".xr-array-data {\n",
       "  padding: 0 5px !important;\n",
       "  grid-column: 2;\n",
       "}\n",
       "\n",
       ".xr-array-data,\n",
       ".xr-array-in:checked ~ .xr-array-preview {\n",
       "  display: none;\n",
       "}\n",
       "\n",
       ".xr-array-in:checked ~ .xr-array-data,\n",
       ".xr-array-preview {\n",
       "  display: inline-block;\n",
       "}\n",
       "\n",
       ".xr-dim-list {\n",
       "  display: inline-block !important;\n",
       "  list-style: none;\n",
       "  padding: 0 !important;\n",
       "  margin: 0;\n",
       "}\n",
       "\n",
       ".xr-dim-list li {\n",
       "  display: inline-block;\n",
       "  padding: 0;\n",
       "  margin: 0;\n",
       "}\n",
       "\n",
       ".xr-dim-list:before {\n",
       "  content: '(';\n",
       "}\n",
       "\n",
       ".xr-dim-list:after {\n",
       "  content: ')';\n",
       "}\n",
       "\n",
       ".xr-dim-list li:not(:last-child):after {\n",
       "  content: ',';\n",
       "  padding-right: 5px;\n",
       "}\n",
       "\n",
       ".xr-has-index {\n",
       "  font-weight: bold;\n",
       "}\n",
       "\n",
       ".xr-var-list,\n",
       ".xr-var-item {\n",
       "  display: contents;\n",
       "}\n",
       "\n",
       ".xr-var-item > div,\n",
       ".xr-var-item label,\n",
       ".xr-var-item > .xr-var-name span {\n",
       "  background-color: var(--xr-background-color-row-even);\n",
       "  margin-bottom: 0;\n",
       "}\n",
       "\n",
       ".xr-var-item > .xr-var-name:hover span {\n",
       "  padding-right: 5px;\n",
       "}\n",
       "\n",
       ".xr-var-list > li:nth-child(odd) > div,\n",
       ".xr-var-list > li:nth-child(odd) > label,\n",
       ".xr-var-list > li:nth-child(odd) > .xr-var-name span {\n",
       "  background-color: var(--xr-background-color-row-odd);\n",
       "}\n",
       "\n",
       ".xr-var-name {\n",
       "  grid-column: 1;\n",
       "}\n",
       "\n",
       ".xr-var-dims {\n",
       "  grid-column: 2;\n",
       "}\n",
       "\n",
       ".xr-var-dtype {\n",
       "  grid-column: 3;\n",
       "  text-align: right;\n",
       "  color: var(--xr-font-color2);\n",
       "}\n",
       "\n",
       ".xr-var-preview {\n",
       "  grid-column: 4;\n",
       "}\n",
       "\n",
       ".xr-index-preview {\n",
       "  grid-column: 2 / 5;\n",
       "  color: var(--xr-font-color2);\n",
       "}\n",
       "\n",
       ".xr-var-name,\n",
       ".xr-var-dims,\n",
       ".xr-var-dtype,\n",
       ".xr-preview,\n",
       ".xr-attrs dt {\n",
       "  white-space: nowrap;\n",
       "  overflow: hidden;\n",
       "  text-overflow: ellipsis;\n",
       "  padding-right: 10px;\n",
       "}\n",
       "\n",
       ".xr-var-name:hover,\n",
       ".xr-var-dims:hover,\n",
       ".xr-var-dtype:hover,\n",
       ".xr-attrs dt:hover {\n",
       "  overflow: visible;\n",
       "  width: auto;\n",
       "  z-index: 1;\n",
       "}\n",
       "\n",
       ".xr-var-attrs,\n",
       ".xr-var-data,\n",
       ".xr-index-data {\n",
       "  display: none;\n",
       "  background-color: var(--xr-background-color) !important;\n",
       "  padding-bottom: 5px !important;\n",
       "}\n",
       "\n",
       ".xr-var-attrs-in:checked ~ .xr-var-attrs,\n",
       ".xr-var-data-in:checked ~ .xr-var-data,\n",
       ".xr-index-data-in:checked ~ .xr-index-data {\n",
       "  display: block;\n",
       "}\n",
       "\n",
       ".xr-var-data > table {\n",
       "  float: right;\n",
       "}\n",
       "\n",
       ".xr-var-name span,\n",
       ".xr-var-data,\n",
       ".xr-index-name div,\n",
       ".xr-index-data,\n",
       ".xr-attrs {\n",
       "  padding-left: 25px !important;\n",
       "}\n",
       "\n",
       ".xr-attrs,\n",
       ".xr-var-attrs,\n",
       ".xr-var-data,\n",
       ".xr-index-data {\n",
       "  grid-column: 1 / -1;\n",
       "}\n",
       "\n",
       "dl.xr-attrs {\n",
       "  padding: 0;\n",
       "  margin: 0;\n",
       "  display: grid;\n",
       "  grid-template-columns: 125px auto;\n",
       "}\n",
       "\n",
       ".xr-attrs dt,\n",
       ".xr-attrs dd {\n",
       "  padding: 0;\n",
       "  margin: 0;\n",
       "  float: left;\n",
       "  padding-right: 10px;\n",
       "  width: auto;\n",
       "}\n",
       "\n",
       ".xr-attrs dt {\n",
       "  font-weight: normal;\n",
       "  grid-column: 1;\n",
       "}\n",
       "\n",
       ".xr-attrs dt:hover span {\n",
       "  display: inline-block;\n",
       "  background: var(--xr-background-color);\n",
       "  padding-right: 10px;\n",
       "}\n",
       "\n",
       ".xr-attrs dd {\n",
       "  grid-column: 2;\n",
       "  white-space: pre-wrap;\n",
       "  word-break: break-all;\n",
       "}\n",
       "\n",
       ".xr-icon-database,\n",
       ".xr-icon-file-text2,\n",
       ".xr-no-icon {\n",
       "  display: inline-block;\n",
       "  vertical-align: middle;\n",
       "  width: 1em;\n",
       "  height: 1.5em !important;\n",
       "  stroke-width: 0;\n",
       "  stroke: currentColor;\n",
       "  fill: currentColor;\n",
       "}\n",
       "</style><pre class='xr-text-repr-fallback'>&lt;xarray.Dataset&gt;\n",
       "Dimensions:      (nprof: 47890, pressure: 99)\n",
       "Coordinates:\n",
       "    profiler     (nprof) int32 ...\n",
       "    date         (nprof) datetime64[ns] ...\n",
       "    lon          (nprof) float64 ...\n",
       "    lat          (nprof) float64 ...\n",
       "  * pressure     (pressure) float64 -10.0 -15.0 -20.0 ... -490.0 -495.0 -500.0\n",
       "Dimensions without coordinates: nprof\n",
       "Data variables:\n",
       "    temperature  (nprof, pressure) float64 ...\n",
       "    salinity     (nprof, pressure) float64 ...</pre><div class='xr-wrap' style='display:none'><div class='xr-header'><div class='xr-obj-type'>xarray.Dataset</div></div><ul class='xr-sections'><li class='xr-section-item'><input id='section-fa62fa21-9ea2-43ce-9281-1a7434ee1718' class='xr-section-summary-in' type='checkbox' disabled ><label for='section-fa62fa21-9ea2-43ce-9281-1a7434ee1718' class='xr-section-summary'  title='Expand/collapse section'>Dimensions:</label><div class='xr-section-inline-details'><ul class='xr-dim-list'><li><span>nprof</span>: 47890</li><li><span class='xr-has-index'>pressure</span>: 99</li></ul></div><div class='xr-section-details'></div></li><li class='xr-section-item'><input id='section-28e3fcd5-e92e-48f5-a1a6-931755368948' class='xr-section-summary-in' type='checkbox'  checked><label for='section-28e3fcd5-e92e-48f5-a1a6-931755368948' class='xr-section-summary' >Coordinates: <span>(5)</span></label><div class='xr-section-inline-details'></div><div class='xr-section-details'><ul class='xr-var-list'><li class='xr-var-item'><div class='xr-var-name'><span>profiler</span></div><div class='xr-var-dims'>(nprof)</div><div class='xr-var-dtype'>int32</div><div class='xr-var-preview xr-preview'>...</div><input id='attrs-38a9f170-9c66-4583-b5ce-8d0284c6b8ce' class='xr-var-attrs-in' type='checkbox' disabled><label for='attrs-38a9f170-9c66-4583-b5ce-8d0284c6b8ce' title='Show/Hide attributes'><svg class='icon xr-icon-file-text2'><use xlink:href='#icon-file-text2'></use></svg></label><input id='data-7cff6291-7736-4377-be1f-3a6f1fe323ef' class='xr-var-data-in' type='checkbox'><label for='data-7cff6291-7736-4377-be1f-3a6f1fe323ef' title='Show/Hide data repr'><svg class='icon xr-icon-database'><use xlink:href='#icon-database'></use></svg></label><div class='xr-var-attrs'><dl class='xr-attrs'></dl></div><div class='xr-var-data'><pre>[47890 values with dtype=int32]</pre></div></li><li class='xr-var-item'><div class='xr-var-name'><span>date</span></div><div class='xr-var-dims'>(nprof)</div><div class='xr-var-dtype'>datetime64[ns]</div><div class='xr-var-preview xr-preview'>...</div><input id='attrs-81ee2a1d-df48-4e34-ad04-ae4c78053dc2' class='xr-var-attrs-in' type='checkbox' disabled><label for='attrs-81ee2a1d-df48-4e34-ad04-ae4c78053dc2' title='Show/Hide attributes'><svg class='icon xr-icon-file-text2'><use xlink:href='#icon-file-text2'></use></svg></label><input id='data-d408d802-94b1-4d46-8832-27d8a191ee1e' class='xr-var-data-in' type='checkbox'><label for='data-d408d802-94b1-4d46-8832-27d8a191ee1e' title='Show/Hide data repr'><svg class='icon xr-icon-database'><use xlink:href='#icon-database'></use></svg></label><div class='xr-var-attrs'><dl class='xr-attrs'></dl></div><div class='xr-var-data'><pre>[47890 values with dtype=datetime64[ns]]</pre></div></li><li class='xr-var-item'><div class='xr-var-name'><span>lon</span></div><div class='xr-var-dims'>(nprof)</div><div class='xr-var-dtype'>float64</div><div class='xr-var-preview xr-preview'>...</div><input id='attrs-3cc43ae8-cfb9-4714-96c8-8cb79e60af08' class='xr-var-attrs-in' type='checkbox' disabled><label for='attrs-3cc43ae8-cfb9-4714-96c8-8cb79e60af08' title='Show/Hide attributes'><svg class='icon xr-icon-file-text2'><use xlink:href='#icon-file-text2'></use></svg></label><input id='data-240a19af-c8e9-4ec3-a7c4-04e2065f3acc' class='xr-var-data-in' type='checkbox'><label for='data-240a19af-c8e9-4ec3-a7c4-04e2065f3acc' title='Show/Hide data repr'><svg class='icon xr-icon-database'><use xlink:href='#icon-database'></use></svg></label><div class='xr-var-attrs'><dl class='xr-attrs'></dl></div><div class='xr-var-data'><pre>[47890 values with dtype=float64]</pre></div></li><li class='xr-var-item'><div class='xr-var-name'><span>lat</span></div><div class='xr-var-dims'>(nprof)</div><div class='xr-var-dtype'>float64</div><div class='xr-var-preview xr-preview'>...</div><input id='attrs-3a746ee9-4a37-4cc9-91f7-7787543b6bc4' class='xr-var-attrs-in' type='checkbox' disabled><label for='attrs-3a746ee9-4a37-4cc9-91f7-7787543b6bc4' title='Show/Hide attributes'><svg class='icon xr-icon-file-text2'><use xlink:href='#icon-file-text2'></use></svg></label><input id='data-68b0da26-e86c-44f8-857b-369e7e87415e' class='xr-var-data-in' type='checkbox'><label for='data-68b0da26-e86c-44f8-857b-369e7e87415e' title='Show/Hide data repr'><svg class='icon xr-icon-database'><use xlink:href='#icon-database'></use></svg></label><div class='xr-var-attrs'><dl class='xr-attrs'></dl></div><div class='xr-var-data'><pre>[47890 values with dtype=float64]</pre></div></li><li class='xr-var-item'><div class='xr-var-name'><span class='xr-has-index'>pressure</span></div><div class='xr-var-dims'>(pressure)</div><div class='xr-var-dtype'>float64</div><div class='xr-var-preview xr-preview'>-10.0 -15.0 -20.0 ... -495.0 -500.0</div><input id='attrs-9f149d6d-8d16-44fc-bfa9-605d786dcb33' class='xr-var-attrs-in' type='checkbox' disabled><label for='attrs-9f149d6d-8d16-44fc-bfa9-605d786dcb33' title='Show/Hide attributes'><svg class='icon xr-icon-file-text2'><use xlink:href='#icon-file-text2'></use></svg></label><input id='data-0e5135d3-0ca6-4878-af11-51a3568a35b3' class='xr-var-data-in' type='checkbox'><label for='data-0e5135d3-0ca6-4878-af11-51a3568a35b3' title='Show/Hide data repr'><svg class='icon xr-icon-database'><use xlink:href='#icon-database'></use></svg></label><div class='xr-var-attrs'><dl class='xr-attrs'></dl></div><div class='xr-var-data'><pre>array([ -10.,  -15.,  -20.,  -25.,  -30.,  -35.,  -40.,  -45.,  -50.,  -55.,\n",
       "        -60.,  -65.,  -70.,  -75.,  -80.,  -85.,  -90.,  -95., -100., -105.,\n",
       "       -110., -115., -120., -125., -130., -135., -140., -145., -150., -155.,\n",
       "       -160., -165., -170., -175., -180., -185., -190., -195., -200., -205.,\n",
       "       -210., -215., -220., -225., -230., -235., -240., -245., -250., -255.,\n",
       "       -260., -265., -270., -275., -280., -285., -290., -295., -300., -305.,\n",
       "       -310., -315., -320., -325., -330., -335., -340., -345., -350., -355.,\n",
       "       -360., -365., -370., -375., -380., -385., -390., -395., -400., -405.,\n",
       "       -410., -415., -420., -425., -430., -435., -440., -445., -450., -455.,\n",
       "       -460., -465., -470., -475., -480., -485., -490., -495., -500.])</pre></div></li></ul></div></li><li class='xr-section-item'><input id='section-874a1b7c-bf7d-4cdc-ae7d-ad770dbc6c48' class='xr-section-summary-in' type='checkbox'  checked><label for='section-874a1b7c-bf7d-4cdc-ae7d-ad770dbc6c48' class='xr-section-summary' >Data variables: <span>(2)</span></label><div class='xr-section-inline-details'></div><div class='xr-section-details'><ul class='xr-var-list'><li class='xr-var-item'><div class='xr-var-name'><span>temperature</span></div><div class='xr-var-dims'>(nprof, pressure)</div><div class='xr-var-dtype'>float64</div><div class='xr-var-preview xr-preview'>...</div><input id='attrs-04144eda-2207-4fac-b2c1-d9f40d31d1bd' class='xr-var-attrs-in' type='checkbox' disabled><label for='attrs-04144eda-2207-4fac-b2c1-d9f40d31d1bd' title='Show/Hide attributes'><svg class='icon xr-icon-file-text2'><use xlink:href='#icon-file-text2'></use></svg></label><input id='data-4d96f42c-4691-4c4c-87e8-0e79747c39a3' class='xr-var-data-in' type='checkbox'><label for='data-4d96f42c-4691-4c4c-87e8-0e79747c39a3' title='Show/Hide data repr'><svg class='icon xr-icon-database'><use xlink:href='#icon-database'></use></svg></label><div class='xr-var-attrs'><dl class='xr-attrs'></dl></div><div class='xr-var-data'><pre>[4741110 values with dtype=float64]</pre></div></li><li class='xr-var-item'><div class='xr-var-name'><span>salinity</span></div><div class='xr-var-dims'>(nprof, pressure)</div><div class='xr-var-dtype'>float64</div><div class='xr-var-preview xr-preview'>...</div><input id='attrs-9347dfc1-a8c2-4b99-9208-6d036ecff265' class='xr-var-attrs-in' type='checkbox' disabled><label for='attrs-9347dfc1-a8c2-4b99-9208-6d036ecff265' title='Show/Hide attributes'><svg class='icon xr-icon-file-text2'><use xlink:href='#icon-file-text2'></use></svg></label><input id='data-a2a1217c-f5ba-4a21-a2e1-8d4ab307e132' class='xr-var-data-in' type='checkbox'><label for='data-a2a1217c-f5ba-4a21-a2e1-8d4ab307e132' title='Show/Hide data repr'><svg class='icon xr-icon-database'><use xlink:href='#icon-database'></use></svg></label><div class='xr-var-attrs'><dl class='xr-attrs'></dl></div><div class='xr-var-data'><pre>[4741110 values with dtype=float64]</pre></div></li></ul></div></li><li class='xr-section-item'><input id='section-50111450-b202-46b0-ba33-c0660da35761' class='xr-section-summary-in' type='checkbox'  ><label for='section-50111450-b202-46b0-ba33-c0660da35761' class='xr-section-summary' >Indexes: <span>(1)</span></label><div class='xr-section-inline-details'></div><div class='xr-section-details'><ul class='xr-var-list'><li class='xr-var-item'><div class='xr-index-name'><div>pressure</div></div><div class='xr-index-preview'>PandasIndex</div><div></div><input id='index-ebc4eb86-ff4a-41d5-8a7a-181dddd1d527' class='xr-index-data-in' type='checkbox'/><label for='index-ebc4eb86-ff4a-41d5-8a7a-181dddd1d527' title='Show/Hide index repr'><svg class='icon xr-icon-database'><use xlink:href='#icon-database'></use></svg></label><div class='xr-index-data'><pre>PandasIndex(Float64Index([ -10.0,  -15.0,  -20.0,  -25.0,  -30.0,  -35.0,  -40.0,  -45.0,\n",
       "               -50.0,  -55.0,  -60.0,  -65.0,  -70.0,  -75.0,  -80.0,  -85.0,\n",
       "               -90.0,  -95.0, -100.0, -105.0, -110.0, -115.0, -120.0, -125.0,\n",
       "              -130.0, -135.0, -140.0, -145.0, -150.0, -155.0, -160.0, -165.0,\n",
       "              -170.0, -175.0, -180.0, -185.0, -190.0, -195.0, -200.0, -205.0,\n",
       "              -210.0, -215.0, -220.0, -225.0, -230.0, -235.0, -240.0, -245.0,\n",
       "              -250.0, -255.0, -260.0, -265.0, -270.0, -275.0, -280.0, -285.0,\n",
       "              -290.0, -295.0, -300.0, -305.0, -310.0, -315.0, -320.0, -325.0,\n",
       "              -330.0, -335.0, -340.0, -345.0, -350.0, -355.0, -360.0, -365.0,\n",
       "              -370.0, -375.0, -380.0, -385.0, -390.0, -395.0, -400.0, -405.0,\n",
       "              -410.0, -415.0, -420.0, -425.0, -430.0, -435.0, -440.0, -445.0,\n",
       "              -450.0, -455.0, -460.0, -465.0, -470.0, -475.0, -480.0, -485.0,\n",
       "              -490.0, -495.0, -500.0],\n",
       "             dtype=&#x27;float64&#x27;, name=&#x27;pressure&#x27;))</pre></div></li></ul></div></li><li class='xr-section-item'><input id='section-4ecff882-0650-48e1-a115-f91db66123fd' class='xr-section-summary-in' type='checkbox' disabled ><label for='section-4ecff882-0650-48e1-a115-f91db66123fd' class='xr-section-summary'  title='Expand/collapse section'>Attributes: <span>(0)</span></label><div class='xr-section-inline-details'></div><div class='xr-section-details'><dl class='xr-attrs'></dl></div></li></ul></div></div>"
      ],
      "text/plain": [
       "<xarray.Dataset>\n",
       "Dimensions:      (nprof: 47890, pressure: 99)\n",
       "Coordinates:\n",
       "    profiler     (nprof) int32 ...\n",
       "    date         (nprof) datetime64[ns] ...\n",
       "    lon          (nprof) float64 ...\n",
       "    lat          (nprof) float64 ...\n",
       "  * pressure     (pressure) float64 -10.0 -15.0 -20.0 ... -490.0 -495.0 -500.0\n",
       "Dimensions without coordinates: nprof\n",
       "Data variables:\n",
       "    temperature  (nprof, pressure) float64 ...\n",
       "    salinity     (nprof, pressure) float64 ..."
      ]
     },
     "execution_count": 6,
     "metadata": {},
     "output_type": "execute_result"
    }
   ],
   "source": [
    "ds_cleaned"
   ]
  },
  {
   "cell_type": "code",
   "execution_count": 10,
   "metadata": {},
   "outputs": [
    {
     "name": "stdout",
     "output_type": "stream",
     "text": [
      "xarray.Dataset {\n",
      "dimensions:\n",
      "\tnprof = 47890 ;\n",
      "\tpressure = 99 ;\n",
      "\n",
      "variables:\n",
      "\tfloat64 temperature(nprof, pressure) ;\n",
      "\tfloat64 salinity(nprof, pressure) ;\n",
      "\tint32 profiler(nprof) ;\n",
      "\tdatetime64[ns] date(nprof) ;\n",
      "\tfloat64 lon(nprof) ;\n",
      "\tfloat64 lat(nprof) ;\n",
      "\tfloat64 pressure(pressure) ;\n",
      "\n",
      "// global attributes:\n",
      "}"
     ]
    }
   ],
   "source": [
    "ds_cleaned.info()"
   ]
  },
  {
   "cell_type": "code",
   "execution_count": 22,
   "metadata": {},
   "outputs": [
    {
     "data": {
      "application/vnd.plotly.v1+json": {
       "config": {
        "plotlyServerURL": "https://plot.ly"
       },
       "data": [
        {
         "mode": "lines",
         "name": "Mean Temperature",
         "type": "scatter",
         "x": [
          -1.5619788490626154,
          -1.5566023277090604,
          -1.5447745420733656,
          -1.5202415663809408,
          -1.4804603214635874,
          -1.4170879246516956,
          -1.31002985600214,
          -1.1858567369435709,
          -1.0805626320204411,
          -1.0263129431859854,
          -1.0218653250629182,
          -1.0426722717311359,
          -1.0733529581276344,
          -1.1067282982403188,
          -1.140956060583443,
          -1.1710355057737145,
          -1.1937374130679979,
          -1.207005655082402,
          -1.2123855913105703,
          -1.2101879958197614,
          -1.202199981388648,
          -1.1883567954940684,
          -1.1699505658968552,
          -1.1477745986084644,
          -1.1229066997918131,
          -1.0955821134755273,
          -1.066533269723442,
          -1.0357126137966894,
          -1.002988813901016,
          -0.9680747224407462,
          -0.9305181188159148,
          -0.8899900497926646,
          -0.8470422738738419,
          -0.8012625721556758,
          -0.751488448727729,
          -0.6963245647234589,
          -0.6370570220534477,
          -0.5760290731747377,
          -0.5148722399549872,
          -0.45318333229870733,
          -0.3922185465780206,
          -0.3322652459124832,
          -0.2741939183965962,
          -0.2161300773911475,
          -0.15886690442610785,
          -0.10237506029363948,
          -0.0464463407693841,
          0.008556067290884877,
          0.06322640442493475,
          0.11762991259779605,
          0.16980249312073936,
          0.22100731425079714,
          0.27133856834419906,
          0.3185508789395754,
          0.36254927391854475,
          0.4046651144013051,
          0.4445372016637899,
          0.48202215833461104,
          0.5163536010941385,
          0.5487759958026149,
          0.5784110199580319,
          0.603913245641566,
          0.6272686679383976,
          0.6486128600352996,
          0.6677814504728846,
          0.6859873622447549,
          0.7034989749638147,
          0.720195290085035,
          0.7360173442839555,
          0.7508955110900278,
          0.7635050610560102,
          0.7730193138054662,
          0.7802895944881125,
          0.785913429133235,
          0.7901801662676272,
          0.7933488473831569,
          0.7954965743861918,
          0.7962554964600659,
          0.7955309563339182,
          0.7935396847613454,
          0.7903593274625467,
          0.7862533905586601,
          0.7816271123477079,
          0.7769083549366771,
          0.772298486389492,
          0.7675469528768422,
          0.7627786065187072,
          0.7579268803274392,
          0.7528367630718574,
          0.7474721780263246,
          0.7419587221168569,
          0.7360386658072036,
          0.7298399161106477,
          0.7230829038186901,
          0.7158148976759158,
          0.7081939190364143,
          0.7003864712714517,
          0.6921061827266082,
          0.6834606236154511
         ],
         "y": [
          -10,
          -15,
          -20,
          -25,
          -30,
          -35,
          -40,
          -45,
          -50,
          -55,
          -60,
          -65,
          -70,
          -75,
          -80,
          -85,
          -90,
          -95,
          -100,
          -105,
          -110,
          -115,
          -120,
          -125,
          -130,
          -135,
          -140,
          -145,
          -150,
          -155,
          -160,
          -165,
          -170,
          -175,
          -180,
          -185,
          -190,
          -195,
          -200,
          -205,
          -210,
          -215,
          -220,
          -225,
          -230,
          -235,
          -240,
          -245,
          -250,
          -255,
          -260,
          -265,
          -270,
          -275,
          -280,
          -285,
          -290,
          -295,
          -300,
          -305,
          -310,
          -315,
          -320,
          -325,
          -330,
          -335,
          -340,
          -345,
          -350,
          -355,
          -360,
          -365,
          -370,
          -375,
          -380,
          -385,
          -390,
          -395,
          -400,
          -405,
          -410,
          -415,
          -420,
          -425,
          -430,
          -435,
          -440,
          -445,
          -450,
          -455,
          -460,
          -465,
          -470,
          -475,
          -480,
          -485,
          -490,
          -495,
          -500
         ]
        },
        {
         "mode": "lines",
         "name": "5th Percentile",
         "type": "scatter",
         "x": [
          -1.8074910000000002,
          -1.8075,
          -1.8081,
          -1.8087,
          -1.8082955,
          -1.8083,
          -1.8083155,
          -1.8088,
          -1.8081,
          -1.8061,
          -1.8036625000000002,
          -1.8011,
          -1.7977,
          -1.7883663636363636,
          -1.775015,
          -1.7565,
          -1.7259,
          -1.678982,
          -1.6283795454545456,
          -1.5826384999999998,
          -1.5437877272727274,
          -1.522,
          -1.5077,
          -1.4985383636363636,
          -1.4899959090909092,
          -1.4914865000000002,
          -1.4963,
          -1.494815,
          -1.4958,
          -1.5036,
          -1.5085795454545454,
          -1.5129440909090908,
          -1.5200959090909092,
          -1.5236,
          -1.5268,
          -1.5278,
          -1.5266493636363636,
          -1.5207855,
          -1.5119,
          -1.500391818181818,
          -1.486,
          -1.4716,
          -1.4549322727272727,
          -1.4359,
          -1.404,
          -1.3557199999999998,
          -1.2980345454545454,
          -1.230205,
          -1.154755,
          -1.0707185000000001,
          -0.9780449999999998,
          -0.8848895454545451,
          -0.7881054999999998,
          -0.6964959090909092,
          -0.6081549999999999,
          -0.5198922727272726,
          -0.43592499999999984,
          -0.35605499999999995,
          -0.2802,
          -0.20472999999999972,
          -0.13305499999999998,
          -0.06658363636363636,
          -0.0016600000000000748,
          0.05875204545454563,
          0.1163834999999998,
          0.16761227272727278,
          0.2211,
          0.2649,
          0.3087737727272729,
          0.3468400000000001,
          0.377,
          0.3971835,
          0.4144,
          0.4291505000000001,
          0.43892700000000007,
          0.4465,
          0.4528,
          0.45888500000000004,
          0.46337,
          0.4631,
          0.46229000000000003,
          0.4619095,
          0.462,
          0.46104500000000004,
          0.4601135,
          0.45830409090909086,
          0.4562,
          0.4542,
          0.4515627272727273,
          0.4488,
          0.446489,
          0.44391850000000005,
          0.4416,
          0.4404,
          0.43916375,
          0.4377081818181818,
          0.43609,
          0.4341,
          0.4318657272727273
         ],
         "y": [
          -10,
          -15,
          -20,
          -25,
          -30,
          -35,
          -40,
          -45,
          -50,
          -55,
          -60,
          -65,
          -70,
          -75,
          -80,
          -85,
          -90,
          -95,
          -100,
          -105,
          -110,
          -115,
          -120,
          -125,
          -130,
          -135,
          -140,
          -145,
          -150,
          -155,
          -160,
          -165,
          -170,
          -175,
          -180,
          -185,
          -190,
          -195,
          -200,
          -205,
          -210,
          -215,
          -220,
          -225,
          -230,
          -235,
          -240,
          -245,
          -250,
          -255,
          -260,
          -265,
          -270,
          -275,
          -280,
          -285,
          -290,
          -295,
          -300,
          -305,
          -310,
          -315,
          -320,
          -325,
          -330,
          -335,
          -340,
          -345,
          -350,
          -355,
          -360,
          -365,
          -370,
          -375,
          -380,
          -385,
          -390,
          -395,
          -400,
          -405,
          -410,
          -415,
          -420,
          -425,
          -430,
          -435,
          -440,
          -445,
          -450,
          -455,
          -460,
          -465,
          -470,
          -475,
          -480,
          -485,
          -490,
          -495,
          -500
         ]
        },
        {
         "mode": "lines",
         "name": "95th Percentile",
         "type": "scatter",
         "x": [
          -1.2974286363636367,
          -1.259077727272728,
          -1.160045000000002,
          -1.0173905000000003,
          -0.9395670000000003,
          -0.7336300000000014,
          -0.3314835000000001,
          -0.027051500000001172,
          0.12607749999999976,
          0.23065499999999955,
          0.2543699999999987,
          0.2032649999999987,
          0.13865499999999956,
          0.03786499999999869,
          -0.08305545454545607,
          -0.21253400000000042,
          -0.3422450000000004,
          -0.4608950000000001,
          -0.5592840000000004,
          -0.612096363636364,
          -0.6453,
          -0.6205505000000004,
          -0.5192900000000008,
          -0.3793286363636373,
          -0.23553000000000046,
          -0.0819,
          0.0716768181818151,
          0.22945499999999958,
          0.3645199999999983,
          0.4820079999999994,
          0.5989749999999996,
          0.737082,
          0.9093016666666655,
          1.0635544999999995,
          1.1482727272727267,
          1.2053055000000001,
          1.2322384999999996,
          1.2520649999999995,
          1.2744549999999994,
          1.2926,
          1.303927772727272,
          1.3194549999999994,
          1.3355549999999994,
          1.3456818181818175,
          1.345,
          1.350191,
          1.3545499999999997,
          1.361291818181818,
          1.380114999999999,
          1.3969603636363634,
          1.4093084545454542,
          1.4187,
          1.4327044999999994,
          1.4437249999999981,
          1.4422289999999993,
          1.4366959090909093,
          1.4326795454545453,
          1.4245604999999997,
          1.417582,
          1.4111877272727271,
          1.4039649999999986,
          1.3965549999999995,
          1.3872549999999995,
          1.3802055,
          1.376872,
          1.3765365,
          1.3776,
          1.3805590909090906,
          1.382,
          1.3792199999999983,
          1.3761739999999996,
          1.3672099999999991,
          1.3581549999999996,
          1.3476879999999987,
          1.3364459999999994,
          1.3212549999999994,
          1.302,
          1.2836534545454545,
          1.2671649999999988,
          1.2498813636363626,
          1.2291549999999996,
          1.211,
          1.1929622727272722,
          1.1730549999999995,
          1.1491299999999973,
          1.1272600000000002,
          1.1063381818181817,
          1.0878589545454544,
          1.0690868181818183,
          1.0541044999999991,
          1.0396,
          1.0231549999999996,
          1.0075349999999998,
          0.9872399999999998,
          0.9703,
          0.9506399999999996,
          0.933795909090909,
          0.9171729999999997,
          0.9015713636363634
         ],
         "y": [
          -10,
          -15,
          -20,
          -25,
          -30,
          -35,
          -40,
          -45,
          -50,
          -55,
          -60,
          -65,
          -70,
          -75,
          -80,
          -85,
          -90,
          -95,
          -100,
          -105,
          -110,
          -115,
          -120,
          -125,
          -130,
          -135,
          -140,
          -145,
          -150,
          -155,
          -160,
          -165,
          -170,
          -175,
          -180,
          -185,
          -190,
          -195,
          -200,
          -205,
          -210,
          -215,
          -220,
          -225,
          -230,
          -235,
          -240,
          -245,
          -250,
          -255,
          -260,
          -265,
          -270,
          -275,
          -280,
          -285,
          -290,
          -295,
          -300,
          -305,
          -310,
          -315,
          -320,
          -325,
          -330,
          -335,
          -340,
          -345,
          -350,
          -355,
          -360,
          -365,
          -370,
          -375,
          -380,
          -385,
          -390,
          -395,
          -400,
          -405,
          -410,
          -415,
          -420,
          -425,
          -430,
          -435,
          -440,
          -445,
          -450,
          -455,
          -460,
          -465,
          -470,
          -475,
          -480,
          -485,
          -490,
          -495,
          -500
         ]
        }
       ],
       "layout": {
        "height": 700,
        "template": {
         "data": {
          "bar": [
           {
            "error_x": {
             "color": "#2a3f5f"
            },
            "error_y": {
             "color": "#2a3f5f"
            },
            "marker": {
             "line": {
              "color": "#E5ECF6",
              "width": 0.5
             },
             "pattern": {
              "fillmode": "overlay",
              "size": 10,
              "solidity": 0.2
             }
            },
            "type": "bar"
           }
          ],
          "barpolar": [
           {
            "marker": {
             "line": {
              "color": "#E5ECF6",
              "width": 0.5
             },
             "pattern": {
              "fillmode": "overlay",
              "size": 10,
              "solidity": 0.2
             }
            },
            "type": "barpolar"
           }
          ],
          "carpet": [
           {
            "aaxis": {
             "endlinecolor": "#2a3f5f",
             "gridcolor": "white",
             "linecolor": "white",
             "minorgridcolor": "white",
             "startlinecolor": "#2a3f5f"
            },
            "baxis": {
             "endlinecolor": "#2a3f5f",
             "gridcolor": "white",
             "linecolor": "white",
             "minorgridcolor": "white",
             "startlinecolor": "#2a3f5f"
            },
            "type": "carpet"
           }
          ],
          "choropleth": [
           {
            "colorbar": {
             "outlinewidth": 0,
             "ticks": ""
            },
            "type": "choropleth"
           }
          ],
          "contour": [
           {
            "colorbar": {
             "outlinewidth": 0,
             "ticks": ""
            },
            "colorscale": [
             [
              0,
              "#0d0887"
             ],
             [
              0.1111111111111111,
              "#46039f"
             ],
             [
              0.2222222222222222,
              "#7201a8"
             ],
             [
              0.3333333333333333,
              "#9c179e"
             ],
             [
              0.4444444444444444,
              "#bd3786"
             ],
             [
              0.5555555555555556,
              "#d8576b"
             ],
             [
              0.6666666666666666,
              "#ed7953"
             ],
             [
              0.7777777777777778,
              "#fb9f3a"
             ],
             [
              0.8888888888888888,
              "#fdca26"
             ],
             [
              1,
              "#f0f921"
             ]
            ],
            "type": "contour"
           }
          ],
          "contourcarpet": [
           {
            "colorbar": {
             "outlinewidth": 0,
             "ticks": ""
            },
            "type": "contourcarpet"
           }
          ],
          "heatmap": [
           {
            "colorbar": {
             "outlinewidth": 0,
             "ticks": ""
            },
            "colorscale": [
             [
              0,
              "#0d0887"
             ],
             [
              0.1111111111111111,
              "#46039f"
             ],
             [
              0.2222222222222222,
              "#7201a8"
             ],
             [
              0.3333333333333333,
              "#9c179e"
             ],
             [
              0.4444444444444444,
              "#bd3786"
             ],
             [
              0.5555555555555556,
              "#d8576b"
             ],
             [
              0.6666666666666666,
              "#ed7953"
             ],
             [
              0.7777777777777778,
              "#fb9f3a"
             ],
             [
              0.8888888888888888,
              "#fdca26"
             ],
             [
              1,
              "#f0f921"
             ]
            ],
            "type": "heatmap"
           }
          ],
          "heatmapgl": [
           {
            "colorbar": {
             "outlinewidth": 0,
             "ticks": ""
            },
            "colorscale": [
             [
              0,
              "#0d0887"
             ],
             [
              0.1111111111111111,
              "#46039f"
             ],
             [
              0.2222222222222222,
              "#7201a8"
             ],
             [
              0.3333333333333333,
              "#9c179e"
             ],
             [
              0.4444444444444444,
              "#bd3786"
             ],
             [
              0.5555555555555556,
              "#d8576b"
             ],
             [
              0.6666666666666666,
              "#ed7953"
             ],
             [
              0.7777777777777778,
              "#fb9f3a"
             ],
             [
              0.8888888888888888,
              "#fdca26"
             ],
             [
              1,
              "#f0f921"
             ]
            ],
            "type": "heatmapgl"
           }
          ],
          "histogram": [
           {
            "marker": {
             "pattern": {
              "fillmode": "overlay",
              "size": 10,
              "solidity": 0.2
             }
            },
            "type": "histogram"
           }
          ],
          "histogram2d": [
           {
            "colorbar": {
             "outlinewidth": 0,
             "ticks": ""
            },
            "colorscale": [
             [
              0,
              "#0d0887"
             ],
             [
              0.1111111111111111,
              "#46039f"
             ],
             [
              0.2222222222222222,
              "#7201a8"
             ],
             [
              0.3333333333333333,
              "#9c179e"
             ],
             [
              0.4444444444444444,
              "#bd3786"
             ],
             [
              0.5555555555555556,
              "#d8576b"
             ],
             [
              0.6666666666666666,
              "#ed7953"
             ],
             [
              0.7777777777777778,
              "#fb9f3a"
             ],
             [
              0.8888888888888888,
              "#fdca26"
             ],
             [
              1,
              "#f0f921"
             ]
            ],
            "type": "histogram2d"
           }
          ],
          "histogram2dcontour": [
           {
            "colorbar": {
             "outlinewidth": 0,
             "ticks": ""
            },
            "colorscale": [
             [
              0,
              "#0d0887"
             ],
             [
              0.1111111111111111,
              "#46039f"
             ],
             [
              0.2222222222222222,
              "#7201a8"
             ],
             [
              0.3333333333333333,
              "#9c179e"
             ],
             [
              0.4444444444444444,
              "#bd3786"
             ],
             [
              0.5555555555555556,
              "#d8576b"
             ],
             [
              0.6666666666666666,
              "#ed7953"
             ],
             [
              0.7777777777777778,
              "#fb9f3a"
             ],
             [
              0.8888888888888888,
              "#fdca26"
             ],
             [
              1,
              "#f0f921"
             ]
            ],
            "type": "histogram2dcontour"
           }
          ],
          "mesh3d": [
           {
            "colorbar": {
             "outlinewidth": 0,
             "ticks": ""
            },
            "type": "mesh3d"
           }
          ],
          "parcoords": [
           {
            "line": {
             "colorbar": {
              "outlinewidth": 0,
              "ticks": ""
             }
            },
            "type": "parcoords"
           }
          ],
          "pie": [
           {
            "automargin": true,
            "type": "pie"
           }
          ],
          "scatter": [
           {
            "fillpattern": {
             "fillmode": "overlay",
             "size": 10,
             "solidity": 0.2
            },
            "type": "scatter"
           }
          ],
          "scatter3d": [
           {
            "line": {
             "colorbar": {
              "outlinewidth": 0,
              "ticks": ""
             }
            },
            "marker": {
             "colorbar": {
              "outlinewidth": 0,
              "ticks": ""
             }
            },
            "type": "scatter3d"
           }
          ],
          "scattercarpet": [
           {
            "marker": {
             "colorbar": {
              "outlinewidth": 0,
              "ticks": ""
             }
            },
            "type": "scattercarpet"
           }
          ],
          "scattergeo": [
           {
            "marker": {
             "colorbar": {
              "outlinewidth": 0,
              "ticks": ""
             }
            },
            "type": "scattergeo"
           }
          ],
          "scattergl": [
           {
            "marker": {
             "colorbar": {
              "outlinewidth": 0,
              "ticks": ""
             }
            },
            "type": "scattergl"
           }
          ],
          "scattermapbox": [
           {
            "marker": {
             "colorbar": {
              "outlinewidth": 0,
              "ticks": ""
             }
            },
            "type": "scattermapbox"
           }
          ],
          "scatterpolar": [
           {
            "marker": {
             "colorbar": {
              "outlinewidth": 0,
              "ticks": ""
             }
            },
            "type": "scatterpolar"
           }
          ],
          "scatterpolargl": [
           {
            "marker": {
             "colorbar": {
              "outlinewidth": 0,
              "ticks": ""
             }
            },
            "type": "scatterpolargl"
           }
          ],
          "scatterternary": [
           {
            "marker": {
             "colorbar": {
              "outlinewidth": 0,
              "ticks": ""
             }
            },
            "type": "scatterternary"
           }
          ],
          "surface": [
           {
            "colorbar": {
             "outlinewidth": 0,
             "ticks": ""
            },
            "colorscale": [
             [
              0,
              "#0d0887"
             ],
             [
              0.1111111111111111,
              "#46039f"
             ],
             [
              0.2222222222222222,
              "#7201a8"
             ],
             [
              0.3333333333333333,
              "#9c179e"
             ],
             [
              0.4444444444444444,
              "#bd3786"
             ],
             [
              0.5555555555555556,
              "#d8576b"
             ],
             [
              0.6666666666666666,
              "#ed7953"
             ],
             [
              0.7777777777777778,
              "#fb9f3a"
             ],
             [
              0.8888888888888888,
              "#fdca26"
             ],
             [
              1,
              "#f0f921"
             ]
            ],
            "type": "surface"
           }
          ],
          "table": [
           {
            "cells": {
             "fill": {
              "color": "#EBF0F8"
             },
             "line": {
              "color": "white"
             }
            },
            "header": {
             "fill": {
              "color": "#C8D4E3"
             },
             "line": {
              "color": "white"
             }
            },
            "type": "table"
           }
          ]
         },
         "layout": {
          "annotationdefaults": {
           "arrowcolor": "#2a3f5f",
           "arrowhead": 0,
           "arrowwidth": 1
          },
          "autotypenumbers": "strict",
          "coloraxis": {
           "colorbar": {
            "outlinewidth": 0,
            "ticks": ""
           }
          },
          "colorscale": {
           "diverging": [
            [
             0,
             "#8e0152"
            ],
            [
             0.1,
             "#c51b7d"
            ],
            [
             0.2,
             "#de77ae"
            ],
            [
             0.3,
             "#f1b6da"
            ],
            [
             0.4,
             "#fde0ef"
            ],
            [
             0.5,
             "#f7f7f7"
            ],
            [
             0.6,
             "#e6f5d0"
            ],
            [
             0.7,
             "#b8e186"
            ],
            [
             0.8,
             "#7fbc41"
            ],
            [
             0.9,
             "#4d9221"
            ],
            [
             1,
             "#276419"
            ]
           ],
           "sequential": [
            [
             0,
             "#0d0887"
            ],
            [
             0.1111111111111111,
             "#46039f"
            ],
            [
             0.2222222222222222,
             "#7201a8"
            ],
            [
             0.3333333333333333,
             "#9c179e"
            ],
            [
             0.4444444444444444,
             "#bd3786"
            ],
            [
             0.5555555555555556,
             "#d8576b"
            ],
            [
             0.6666666666666666,
             "#ed7953"
            ],
            [
             0.7777777777777778,
             "#fb9f3a"
            ],
            [
             0.8888888888888888,
             "#fdca26"
            ],
            [
             1,
             "#f0f921"
            ]
           ],
           "sequentialminus": [
            [
             0,
             "#0d0887"
            ],
            [
             0.1111111111111111,
             "#46039f"
            ],
            [
             0.2222222222222222,
             "#7201a8"
            ],
            [
             0.3333333333333333,
             "#9c179e"
            ],
            [
             0.4444444444444444,
             "#bd3786"
            ],
            [
             0.5555555555555556,
             "#d8576b"
            ],
            [
             0.6666666666666666,
             "#ed7953"
            ],
            [
             0.7777777777777778,
             "#fb9f3a"
            ],
            [
             0.8888888888888888,
             "#fdca26"
            ],
            [
             1,
             "#f0f921"
            ]
           ]
          },
          "colorway": [
           "#636efa",
           "#EF553B",
           "#00cc96",
           "#ab63fa",
           "#FFA15A",
           "#19d3f3",
           "#FF6692",
           "#B6E880",
           "#FF97FF",
           "#FECB52"
          ],
          "font": {
           "color": "#2a3f5f"
          },
          "geo": {
           "bgcolor": "white",
           "lakecolor": "white",
           "landcolor": "#E5ECF6",
           "showlakes": true,
           "showland": true,
           "subunitcolor": "white"
          },
          "hoverlabel": {
           "align": "left"
          },
          "hovermode": "closest",
          "mapbox": {
           "style": "light"
          },
          "paper_bgcolor": "white",
          "plot_bgcolor": "#E5ECF6",
          "polar": {
           "angularaxis": {
            "gridcolor": "white",
            "linecolor": "white",
            "ticks": ""
           },
           "bgcolor": "#E5ECF6",
           "radialaxis": {
            "gridcolor": "white",
            "linecolor": "white",
            "ticks": ""
           }
          },
          "scene": {
           "xaxis": {
            "backgroundcolor": "#E5ECF6",
            "gridcolor": "white",
            "gridwidth": 2,
            "linecolor": "white",
            "showbackground": true,
            "ticks": "",
            "zerolinecolor": "white"
           },
           "yaxis": {
            "backgroundcolor": "#E5ECF6",
            "gridcolor": "white",
            "gridwidth": 2,
            "linecolor": "white",
            "showbackground": true,
            "ticks": "",
            "zerolinecolor": "white"
           },
           "zaxis": {
            "backgroundcolor": "#E5ECF6",
            "gridcolor": "white",
            "gridwidth": 2,
            "linecolor": "white",
            "showbackground": true,
            "ticks": "",
            "zerolinecolor": "white"
           }
          },
          "shapedefaults": {
           "line": {
            "color": "#2a3f5f"
           }
          },
          "ternary": {
           "aaxis": {
            "gridcolor": "white",
            "linecolor": "white",
            "ticks": ""
           },
           "baxis": {
            "gridcolor": "white",
            "linecolor": "white",
            "ticks": ""
           },
           "bgcolor": "#E5ECF6",
           "caxis": {
            "gridcolor": "white",
            "linecolor": "white",
            "ticks": ""
           }
          },
          "title": {
           "x": 0.05
          },
          "xaxis": {
           "automargin": true,
           "gridcolor": "white",
           "linecolor": "white",
           "ticks": "",
           "title": {
            "standoff": 15
           },
           "zerolinecolor": "white",
           "zerolinewidth": 2
          },
          "yaxis": {
           "automargin": true,
           "gridcolor": "white",
           "linecolor": "white",
           "ticks": "",
           "title": {
            "standoff": 15
           },
           "zerolinecolor": "white",
           "zerolinewidth": 2
          }
         }
        },
        "title": {
         "text": "Mean Temperature Profile",
         "x": 0.5
        },
        "width": 400,
        "xaxis": {
         "title": {
          "text": "Temperature (°C)"
         }
        },
        "yaxis": {
         "title": {
          "text": "Pressure (dbar)"
         }
        }
       }
      }
     },
     "metadata": {},
     "output_type": "display_data"
    }
   ],
   "source": [
    "# plot the mean of the 'temperature'\n",
    "import plotly.graph_objs as go\n",
    "\n",
    "mean_temperature = ds_cleaned['temperature'].mean(dim='nprof')\n",
    "lower_temperature = ds_cleaned['temperature'].quantile(q=0.05, dim='nprof')\n",
    "upper_temperature = ds_cleaned['temperature'].quantile(q=0.95, dim='nprof')\n",
    "\n",
    "fig = go.Figure()\n",
    "fig.add_trace(go.Scatter(x=mean_temperature, y=ds_cleaned['pressure'], mode='lines', name='Mean Temperature'))\n",
    "fig.add_trace(go.Scatter(x=lower_temperature, y=ds_cleaned['pressure'], mode='lines', name='5th Percentile'))\n",
    "fig.add_trace(go.Scatter(x=upper_temperature, y=ds_cleaned['pressure'], mode='lines', name='95th Percentile'))\n",
    "fig.update_layout(xaxis_title='Temperature (°C)', yaxis_title='Pressure (dbar)', title='Mean Temperature Profile', title_x=0.5, width=400, height=700)\n",
    "\n",
    "fig.show()\n"
   ]
  },
  {
   "cell_type": "code",
   "execution_count": null,
   "metadata": {},
   "outputs": [],
   "source": []
  },
  {
   "cell_type": "code",
   "execution_count": null,
   "metadata": {},
   "outputs": [],
   "source": []
  },
  {
   "cell_type": "code",
   "execution_count": null,
   "metadata": {},
   "outputs": [],
   "source": []
  },
  {
   "cell_type": "code",
   "execution_count": null,
   "metadata": {},
   "outputs": [],
   "source": []
  },
  {
   "cell_type": "code",
   "execution_count": null,
   "metadata": {},
   "outputs": [],
   "source": []
  }
 ],
 "metadata": {
  "kernelspec": {
   "display_name": "pz-env",
   "language": "python",
   "name": "python3"
  },
  "language_info": {
   "codemirror_mode": {
    "name": "ipython",
    "version": 3
   },
   "file_extension": ".py",
   "mimetype": "text/x-python",
   "name": "python",
   "nbconvert_exporter": "python",
   "pygments_lexer": "ipython3",
   "version": "3.10.8"
  },
  "orig_nbformat": 4
 },
 "nbformat": 4,
 "nbformat_minor": 2
}
