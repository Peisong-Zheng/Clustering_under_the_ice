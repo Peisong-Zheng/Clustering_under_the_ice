{
 "cells": [
  {
   "cell_type": "code",
   "execution_count": 1,
   "id": "7168dd9d",
   "metadata": {},
   "outputs": [],
   "source": [
    "# define the path of the data and project\n",
    "proj_path = 'D:/VScode/MRes/Clustering_under_the_ice/'\n",
    "data_path = 'D:/VScode/MRes/scienceweb.whoi.edu/itp/data/'"
   ]
  },
  {
   "cell_type": "code",
   "execution_count": 6,
   "id": "d588b394",
   "metadata": {},
   "outputs": [
    {
     "name": "stdout",
     "output_type": "stream",
     "text": [
      " File itp39_1final.tar.Z does not exist. Downloading...\n",
      "Download complete\n"
     ]
    }
   ],
   "source": [
    "#download zip data\n",
    "\n",
    "import requests\n",
    "from bs4 import BeautifulSoup\n",
    "import os\n",
    "\n",
    "'''get the filename list for files end with 'final.tar.Z' from the url'''\n",
    "def get_webfile_name(url):\n",
    "    response = requests.get(url)\n",
    "    soup = BeautifulSoup(response.text, 'html.parser')\n",
    "    file_name = []\n",
    "    for link in soup.find_all('a'):\n",
    "        if link.get('href').endswith('final.tar.Z'):\n",
    "            file_name.append(link.get('href'))\n",
    "    return file_name\n",
    "\n",
    "url = 'https://scienceweb.whoi.edu/itp/data/'\n",
    "file_name = get_webfile_name(url)\n",
    "\n",
    "# file_name = [name.replace('_1', '') if '_1final.tar.Z' in name else name for name in file_name]\n",
    "\n",
    "# check whether files on the online website exist in the data folder\n",
    "def check_file(file_name):\n",
    "    not_downloaded_files = []\n",
    "    for i in file_name:\n",
    "        file_path = os.path.join(data_path, i)\n",
    "        if not os.path.exists(file_path):\n",
    "            not_downloaded_files.append(i)\n",
    "    return not_downloaded_files\n",
    "\n",
    "file_name = check_file(file_name)\n",
    "\n",
    "#download the files if the file_name list is not empty\n",
    "def download_file(file_name,url):\n",
    "    os.chdir(data_path)\n",
    "    for i in file_name:\n",
    "        file_url = url + i\n",
    "        print(f' File {i} does not exist. Downloading...')\n",
    "        response = requests.get(file_url)\n",
    "        with open(i, 'wb') as f:\n",
    "            f.write(response.content)\n",
    "    os.chdir(proj_path)\n",
    "    print('Download complete')\n",
    "\n",
    "if len(file_name) > 0:\n",
    "    download_file(file_name,url)\n",
    "else:\n",
    "    print('All .tar.Z files exist')"
   ]
  },
  {
   "cell_type": "code",
   "execution_count": 9,
   "id": "27290ad3",
   "metadata": {},
   "outputs": [
    {
     "name": "stdout",
     "output_type": "stream",
     "text": [
      "rename itp39_1final.tar.Z to itp39final.tar.Z\n"
     ]
    }
   ],
   "source": [
    "# readname the tar.Z files with _1 in the name\n",
    "if os.path.exists(data_path+'/itp39_1final.tar.Z'):\n",
    "    if os.path.exists(data_path+'/itp39final.tar.Z'):\n",
    "        os.remove(data_path+'/itp39final.tar.Z')\n",
    "    else:\n",
    "        os.rename(data_path+'/itp39_1final.tar.Z', data_path+'/itp39final.tar.Z')\n",
    "        print('rename itp39_1final.tar.Z to itp39final.tar.Z')\n",
    "else:\n",
    "    print('itp39_1final.tar.Z does not exist')"
   ]
  },
  {
   "cell_type": "code",
   "execution_count": 35,
   "id": "a9d1b631",
   "metadata": {},
   "outputs": [
    {
     "name": "stdout",
     "output_type": "stream",
     "text": [
      "Collecting pyunpack\n",
      "  Downloading pyunpack-0.3-py2.py3-none-any.whl (4.1 kB)\n",
      "Collecting easyprocess\n",
      "  Downloading EasyProcess-1.1-py3-none-any.whl (8.7 kB)\n",
      "Collecting entrypoint2\n",
      "  Downloading entrypoint2-1.1-py2.py3-none-any.whl (9.9 kB)\n",
      "Installing collected packages: entrypoint2, easyprocess, pyunpack\n",
      "Successfully installed easyprocess-1.1 entrypoint2-1.1 pyunpack-0.3\n"
     ]
    },
    {
     "name": "stderr",
     "output_type": "stream",
     "text": [
      "WARNING: Ignoring invalid distribution -atplotlib (c:\\users\\zps19\\.conda\\envs\\pz-env\\lib\\site-packages)\n",
      "WARNING: Ignoring invalid distribution -atplotlib (c:\\users\\zps19\\.conda\\envs\\pz-env\\lib\\site-packages)\n",
      "WARNING: Ignoring invalid distribution -atplotlib (c:\\users\\zps19\\.conda\\envs\\pz-env\\lib\\site-packages)\n",
      "WARNING: Ignoring invalid distribution -atplotlib (c:\\users\\zps19\\.conda\\envs\\pz-env\\lib\\site-packages)\n",
      "WARNING: Ignoring invalid distribution -atplotlib (c:\\users\\zps19\\.conda\\envs\\pz-env\\lib\\site-packages)\n",
      "WARNING: Ignoring invalid distribution -atplotlib (c:\\users\\zps19\\.conda\\envs\\pz-env\\lib\\site-packages)\n",
      "WARNING: Ignoring invalid distribution -atplotlib (c:\\users\\zps19\\.conda\\envs\\pz-env\\lib\\site-packages)\n",
      "WARNING: Ignoring invalid distribution -atplotlib (c:\\users\\zps19\\.conda\\envs\\pz-env\\lib\\site-packages)\n",
      "WARNING: Ignoring invalid distribution -atplotlib (c:\\users\\zps19\\.conda\\envs\\pz-env\\lib\\site-packages)\n"
     ]
    }
   ],
   "source": [
    "!pip install pyunpack"
   ]
  },
  {
   "cell_type": "code",
   "execution_count": 53,
   "id": "44b1197c",
   "metadata": {},
   "outputs": [
    {
     "name": "stdout",
     "output_type": "stream",
     "text": [
      "Collecting patool\n",
      "  Downloading patool-1.12-py2.py3-none-any.whl (77 kB)\n",
      "     ---------------------------------------- 77.5/77.5 kB 4.2 MB/s eta 0:00:00\n",
      "Installing collected packages: patool\n",
      "Successfully installed patool-1.12\n"
     ]
    },
    {
     "name": "stderr",
     "output_type": "stream",
     "text": [
      "WARNING: Ignoring invalid distribution -atplotlib (c:\\users\\zps19\\.conda\\envs\\pz-env\\lib\\site-packages)\n",
      "WARNING: Ignoring invalid distribution -atplotlib (c:\\users\\zps19\\.conda\\envs\\pz-env\\lib\\site-packages)\n",
      "WARNING: Ignoring invalid distribution -atplotlib (c:\\users\\zps19\\.conda\\envs\\pz-env\\lib\\site-packages)\n",
      "WARNING: Ignoring invalid distribution -atplotlib (c:\\users\\zps19\\.conda\\envs\\pz-env\\lib\\site-packages)\n",
      "WARNING: Ignoring invalid distribution -atplotlib (c:\\users\\zps19\\.conda\\envs\\pz-env\\lib\\site-packages)\n",
      "WARNING: Ignoring invalid distribution -atplotlib (c:\\users\\zps19\\.conda\\envs\\pz-env\\lib\\site-packages)\n",
      "WARNING: Ignoring invalid distribution -atplotlib (c:\\users\\zps19\\.conda\\envs\\pz-env\\lib\\site-packages)\n"
     ]
    }
   ],
   "source": [
    "!pip install patool"
   ]
  },
  {
   "cell_type": "code",
   "execution_count": 10,
   "id": "84757052",
   "metadata": {},
   "outputs": [
    {
     "name": "stdout",
     "output_type": "stream",
     "text": [
      "All files been extracted\n"
     ]
    }
   ],
   "source": [
    "import os\n",
    "from pyunpack import Archive\n",
    "import re\n",
    "\n",
    "# Define a set to keep track of the sensor numbers of the .dat files that have been extracted\n",
    "extracted_sensors = set()\n",
    "\n",
    "# Loop over all the .dat files in the data directory to get the list of extracted sensor numbers\n",
    "for file in os.listdir(data_path):\n",
    "    if file.endswith('.dat'):\n",
    "        # Extract the sensor number from the file name\n",
    "        sensor_num = file.split('itp')[1]\n",
    "        sensor_num=re.split(r'\\D+', sensor_num)[0]\n",
    "        extracted_sensors.add(sensor_num)\n",
    "\n",
    "# Extract the .tar.Z files if they are not on the extracted_sensors list\n",
    "counter=0\n",
    "for file in os.listdir(data_path):\n",
    "    if file.endswith('.tar.Z'):\n",
    "        # Extract the sensor number from the file name\n",
    "        sensor_num = file.split('final')[0][3:]\n",
    "        if sensor_num not in extracted_sensors:\n",
    "            counter=counter+1\n",
    "            try:\n",
    "                # Extract the .tar.Z file\n",
    "                Archive(os.path.join(data_path, file)).extractall(data_path)\n",
    "                print(f'extrating {file}...')\n",
    "                # Add the extracted sensor number to the extracted_sensors set\n",
    "                extracted_sensors.add(sensor_num)\n",
    "                \n",
    "            except Exception as e:\n",
    "                print(f\"Error extracting {file}: {e}\")\n",
    "if counter==0:\n",
    "    print('All files been extracted')\n"
   ]
  },
  {
   "cell_type": "code",
   "execution_count": 2,
   "id": "da64280f",
   "metadata": {},
   "outputs": [],
   "source": [
    "# Define a function to process individual files\n",
    "import pandas as pd\n",
    "import xarray as xr\n",
    "import numpy as np\n",
    "\n",
    "def process_file(file,plevels):\n",
    "    with open(file) as infile:\n",
    "        metadata_names=infile.readline()\n",
    "        metadata_vals=infile.readline().split()\n",
    "\n",
    "    if metadata_vals[-1].isnumeric():\n",
    "        if int(metadata_vals[-1])>1:\n",
    "            ind=pd.read_csv(file,sep='\\s+',header=2,engine='python',skipfooter=1,index_col=0)\n",
    "            try:\n",
    "                ds=ind.to_xarray().rename({'%pressure(dbar)':'pressure','temperature(C)':'temperature'})\n",
    "                ds = xr.Dataset({'pressure': ds['pressure'],'temperature': ds['temperature'],'salinity':ds['salinity']})\n",
    "            except ValueError:\n",
    "                return None\n",
    "\n",
    "            ds=ds.assign_coords({'profiler':int(metadata_names.split(':')[0].split(',')[0].split(' ')[1]),\n",
    "                                 'date':np.datetime64(pd.Timestamp(metadata_vals[0])+pd.Timedelta(float(metadata_vals[1]),'D')),\n",
    "                                  'lon':float(metadata_vals[2]),\n",
    "                                  'lat':float(metadata_vals[3])}\n",
    "                                 )\n",
    "            ds=ds.drop_duplicates('pressure',keep='last')\n",
    "            if 'dissolved_oxygen' in ds:\n",
    "                ds=ds.drop('dissolved_oxygen')\n",
    "            if ds.pressure.size>1:    #ds['pressure'][-1].values>pend:\n",
    "                return ds.interp({'pressure':plevels},assume_sorted=True) # interpolate the pressure levels\n",
    "            else:\n",
    "                return None\n",
    "        else:\n",
    "            return None\n",
    "    else:\n",
    "        return None"
   ]
  },
  {
   "cell_type": "code",
   "execution_count": 10,
   "id": "5bf84dd1",
   "metadata": {},
   "outputs": [
    {
     "name": "stdout",
     "output_type": "stream",
     "text": [
      "Total 106013 files found.\n"
     ]
    }
   ],
   "source": [
    "import glob\n",
    "import numpy as np\n",
    "import pandas as pd\n",
    "import xarray as xr\n",
    "\n",
    "files = glob.glob(f'{data_path}/*.dat')\n",
    "print(f'Total {len(files)} files found.')\n",
    "\n",
    "pstart=10\n",
    "pend=750.\n",
    "plevels=np.arange(pstart,pend,5.)\n",
    "\n",
    "# define a list to hold the individual xarray datasets\n",
    "datasets = []\n",
    "\n",
    "counter=0\n",
    "# loop through files and process each one\n",
    "for file in files:\n",
    "    ds = process_file(file, plevels)\n",
    "    if ds is not None:\n",
    "        datasets.append(ds)\n",
    "        # counter=counter+1\n",
    "        # if counter==100:\n",
    "        #     break\n",
    "\n",
    "# concatenate the individual xarray datasets into a single xarray dataset\n",
    "ds_all = xr.concat(datasets, dim='nprof')"
   ]
  },
  {
   "cell_type": "code",
   "execution_count": 11,
   "id": "9d9fcaf8",
   "metadata": {},
   "outputs": [
    {
     "data": {
      "text/html": [
       "<div><svg style=\"position: absolute; width: 0; height: 0; overflow: hidden\">\n",
       "<defs>\n",
       "<symbol id=\"icon-database\" viewBox=\"0 0 32 32\">\n",
       "<path d=\"M16 0c-8.837 0-16 2.239-16 5v4c0 2.761 7.163 5 16 5s16-2.239 16-5v-4c0-2.761-7.163-5-16-5z\"></path>\n",
       "<path d=\"M16 17c-8.837 0-16-2.239-16-5v6c0 2.761 7.163 5 16 5s16-2.239 16-5v-6c0 2.761-7.163 5-16 5z\"></path>\n",
       "<path d=\"M16 26c-8.837 0-16-2.239-16-5v6c0 2.761 7.163 5 16 5s16-2.239 16-5v-6c0 2.761-7.163 5-16 5z\"></path>\n",
       "</symbol>\n",
       "<symbol id=\"icon-file-text2\" viewBox=\"0 0 32 32\">\n",
       "<path d=\"M28.681 7.159c-0.694-0.947-1.662-2.053-2.724-3.116s-2.169-2.030-3.116-2.724c-1.612-1.182-2.393-1.319-2.841-1.319h-15.5c-1.378 0-2.5 1.121-2.5 2.5v27c0 1.378 1.122 2.5 2.5 2.5h23c1.378 0 2.5-1.122 2.5-2.5v-19.5c0-0.448-0.137-1.23-1.319-2.841zM24.543 5.457c0.959 0.959 1.712 1.825 2.268 2.543h-4.811v-4.811c0.718 0.556 1.584 1.309 2.543 2.268zM28 29.5c0 0.271-0.229 0.5-0.5 0.5h-23c-0.271 0-0.5-0.229-0.5-0.5v-27c0-0.271 0.229-0.5 0.5-0.5 0 0 15.499-0 15.5 0v7c0 0.552 0.448 1 1 1h7v19.5z\"></path>\n",
       "<path d=\"M23 26h-14c-0.552 0-1-0.448-1-1s0.448-1 1-1h14c0.552 0 1 0.448 1 1s-0.448 1-1 1z\"></path>\n",
       "<path d=\"M23 22h-14c-0.552 0-1-0.448-1-1s0.448-1 1-1h14c0.552 0 1 0.448 1 1s-0.448 1-1 1z\"></path>\n",
       "<path d=\"M23 18h-14c-0.552 0-1-0.448-1-1s0.448-1 1-1h14c0.552 0 1 0.448 1 1s-0.448 1-1 1z\"></path>\n",
       "</symbol>\n",
       "</defs>\n",
       "</svg>\n",
       "<style>/* CSS stylesheet for displaying xarray objects in jupyterlab.\n",
       " *\n",
       " */\n",
       "\n",
       ":root {\n",
       "  --xr-font-color0: var(--jp-content-font-color0, rgba(0, 0, 0, 1));\n",
       "  --xr-font-color2: var(--jp-content-font-color2, rgba(0, 0, 0, 0.54));\n",
       "  --xr-font-color3: var(--jp-content-font-color3, rgba(0, 0, 0, 0.38));\n",
       "  --xr-border-color: var(--jp-border-color2, #e0e0e0);\n",
       "  --xr-disabled-color: var(--jp-layout-color3, #bdbdbd);\n",
       "  --xr-background-color: var(--jp-layout-color0, white);\n",
       "  --xr-background-color-row-even: var(--jp-layout-color1, white);\n",
       "  --xr-background-color-row-odd: var(--jp-layout-color2, #eeeeee);\n",
       "}\n",
       "\n",
       "html[theme=dark],\n",
       "body[data-theme=dark],\n",
       "body.vscode-dark {\n",
       "  --xr-font-color0: rgba(255, 255, 255, 1);\n",
       "  --xr-font-color2: rgba(255, 255, 255, 0.54);\n",
       "  --xr-font-color3: rgba(255, 255, 255, 0.38);\n",
       "  --xr-border-color: #1F1F1F;\n",
       "  --xr-disabled-color: #515151;\n",
       "  --xr-background-color: #111111;\n",
       "  --xr-background-color-row-even: #111111;\n",
       "  --xr-background-color-row-odd: #313131;\n",
       "}\n",
       "\n",
       ".xr-wrap {\n",
       "  display: block !important;\n",
       "  min-width: 300px;\n",
       "  max-width: 700px;\n",
       "}\n",
       "\n",
       ".xr-text-repr-fallback {\n",
       "  /* fallback to plain text repr when CSS is not injected (untrusted notebook) */\n",
       "  display: none;\n",
       "}\n",
       "\n",
       ".xr-header {\n",
       "  padding-top: 6px;\n",
       "  padding-bottom: 6px;\n",
       "  margin-bottom: 4px;\n",
       "  border-bottom: solid 1px var(--xr-border-color);\n",
       "}\n",
       "\n",
       ".xr-header > div,\n",
       ".xr-header > ul {\n",
       "  display: inline;\n",
       "  margin-top: 0;\n",
       "  margin-bottom: 0;\n",
       "}\n",
       "\n",
       ".xr-obj-type,\n",
       ".xr-array-name {\n",
       "  margin-left: 2px;\n",
       "  margin-right: 10px;\n",
       "}\n",
       "\n",
       ".xr-obj-type {\n",
       "  color: var(--xr-font-color2);\n",
       "}\n",
       "\n",
       ".xr-sections {\n",
       "  padding-left: 0 !important;\n",
       "  display: grid;\n",
       "  grid-template-columns: 150px auto auto 1fr 20px 20px;\n",
       "}\n",
       "\n",
       ".xr-section-item {\n",
       "  display: contents;\n",
       "}\n",
       "\n",
       ".xr-section-item input {\n",
       "  display: none;\n",
       "}\n",
       "\n",
       ".xr-section-item input + label {\n",
       "  color: var(--xr-disabled-color);\n",
       "}\n",
       "\n",
       ".xr-section-item input:enabled + label {\n",
       "  cursor: pointer;\n",
       "  color: var(--xr-font-color2);\n",
       "}\n",
       "\n",
       ".xr-section-item input:enabled + label:hover {\n",
       "  color: var(--xr-font-color0);\n",
       "}\n",
       "\n",
       ".xr-section-summary {\n",
       "  grid-column: 1;\n",
       "  color: var(--xr-font-color2);\n",
       "  font-weight: 500;\n",
       "}\n",
       "\n",
       ".xr-section-summary > span {\n",
       "  display: inline-block;\n",
       "  padding-left: 0.5em;\n",
       "}\n",
       "\n",
       ".xr-section-summary-in:disabled + label {\n",
       "  color: var(--xr-font-color2);\n",
       "}\n",
       "\n",
       ".xr-section-summary-in + label:before {\n",
       "  display: inline-block;\n",
       "  content: '►';\n",
       "  font-size: 11px;\n",
       "  width: 15px;\n",
       "  text-align: center;\n",
       "}\n",
       "\n",
       ".xr-section-summary-in:disabled + label:before {\n",
       "  color: var(--xr-disabled-color);\n",
       "}\n",
       "\n",
       ".xr-section-summary-in:checked + label:before {\n",
       "  content: '▼';\n",
       "}\n",
       "\n",
       ".xr-section-summary-in:checked + label > span {\n",
       "  display: none;\n",
       "}\n",
       "\n",
       ".xr-section-summary,\n",
       ".xr-section-inline-details {\n",
       "  padding-top: 4px;\n",
       "  padding-bottom: 4px;\n",
       "}\n",
       "\n",
       ".xr-section-inline-details {\n",
       "  grid-column: 2 / -1;\n",
       "}\n",
       "\n",
       ".xr-section-details {\n",
       "  display: none;\n",
       "  grid-column: 1 / -1;\n",
       "  margin-bottom: 5px;\n",
       "}\n",
       "\n",
       ".xr-section-summary-in:checked ~ .xr-section-details {\n",
       "  display: contents;\n",
       "}\n",
       "\n",
       ".xr-array-wrap {\n",
       "  grid-column: 1 / -1;\n",
       "  display: grid;\n",
       "  grid-template-columns: 20px auto;\n",
       "}\n",
       "\n",
       ".xr-array-wrap > label {\n",
       "  grid-column: 1;\n",
       "  vertical-align: top;\n",
       "}\n",
       "\n",
       ".xr-preview {\n",
       "  color: var(--xr-font-color3);\n",
       "}\n",
       "\n",
       ".xr-array-preview,\n",
       ".xr-array-data {\n",
       "  padding: 0 5px !important;\n",
       "  grid-column: 2;\n",
       "}\n",
       "\n",
       ".xr-array-data,\n",
       ".xr-array-in:checked ~ .xr-array-preview {\n",
       "  display: none;\n",
       "}\n",
       "\n",
       ".xr-array-in:checked ~ .xr-array-data,\n",
       ".xr-array-preview {\n",
       "  display: inline-block;\n",
       "}\n",
       "\n",
       ".xr-dim-list {\n",
       "  display: inline-block !important;\n",
       "  list-style: none;\n",
       "  padding: 0 !important;\n",
       "  margin: 0;\n",
       "}\n",
       "\n",
       ".xr-dim-list li {\n",
       "  display: inline-block;\n",
       "  padding: 0;\n",
       "  margin: 0;\n",
       "}\n",
       "\n",
       ".xr-dim-list:before {\n",
       "  content: '(';\n",
       "}\n",
       "\n",
       ".xr-dim-list:after {\n",
       "  content: ')';\n",
       "}\n",
       "\n",
       ".xr-dim-list li:not(:last-child):after {\n",
       "  content: ',';\n",
       "  padding-right: 5px;\n",
       "}\n",
       "\n",
       ".xr-has-index {\n",
       "  font-weight: bold;\n",
       "}\n",
       "\n",
       ".xr-var-list,\n",
       ".xr-var-item {\n",
       "  display: contents;\n",
       "}\n",
       "\n",
       ".xr-var-item > div,\n",
       ".xr-var-item label,\n",
       ".xr-var-item > .xr-var-name span {\n",
       "  background-color: var(--xr-background-color-row-even);\n",
       "  margin-bottom: 0;\n",
       "}\n",
       "\n",
       ".xr-var-item > .xr-var-name:hover span {\n",
       "  padding-right: 5px;\n",
       "}\n",
       "\n",
       ".xr-var-list > li:nth-child(odd) > div,\n",
       ".xr-var-list > li:nth-child(odd) > label,\n",
       ".xr-var-list > li:nth-child(odd) > .xr-var-name span {\n",
       "  background-color: var(--xr-background-color-row-odd);\n",
       "}\n",
       "\n",
       ".xr-var-name {\n",
       "  grid-column: 1;\n",
       "}\n",
       "\n",
       ".xr-var-dims {\n",
       "  grid-column: 2;\n",
       "}\n",
       "\n",
       ".xr-var-dtype {\n",
       "  grid-column: 3;\n",
       "  text-align: right;\n",
       "  color: var(--xr-font-color2);\n",
       "}\n",
       "\n",
       ".xr-var-preview {\n",
       "  grid-column: 4;\n",
       "}\n",
       "\n",
       ".xr-index-preview {\n",
       "  grid-column: 2 / 5;\n",
       "  color: var(--xr-font-color2);\n",
       "}\n",
       "\n",
       ".xr-var-name,\n",
       ".xr-var-dims,\n",
       ".xr-var-dtype,\n",
       ".xr-preview,\n",
       ".xr-attrs dt {\n",
       "  white-space: nowrap;\n",
       "  overflow: hidden;\n",
       "  text-overflow: ellipsis;\n",
       "  padding-right: 10px;\n",
       "}\n",
       "\n",
       ".xr-var-name:hover,\n",
       ".xr-var-dims:hover,\n",
       ".xr-var-dtype:hover,\n",
       ".xr-attrs dt:hover {\n",
       "  overflow: visible;\n",
       "  width: auto;\n",
       "  z-index: 1;\n",
       "}\n",
       "\n",
       ".xr-var-attrs,\n",
       ".xr-var-data,\n",
       ".xr-index-data {\n",
       "  display: none;\n",
       "  background-color: var(--xr-background-color) !important;\n",
       "  padding-bottom: 5px !important;\n",
       "}\n",
       "\n",
       ".xr-var-attrs-in:checked ~ .xr-var-attrs,\n",
       ".xr-var-data-in:checked ~ .xr-var-data,\n",
       ".xr-index-data-in:checked ~ .xr-index-data {\n",
       "  display: block;\n",
       "}\n",
       "\n",
       ".xr-var-data > table {\n",
       "  float: right;\n",
       "}\n",
       "\n",
       ".xr-var-name span,\n",
       ".xr-var-data,\n",
       ".xr-index-name div,\n",
       ".xr-index-data,\n",
       ".xr-attrs {\n",
       "  padding-left: 25px !important;\n",
       "}\n",
       "\n",
       ".xr-attrs,\n",
       ".xr-var-attrs,\n",
       ".xr-var-data,\n",
       ".xr-index-data {\n",
       "  grid-column: 1 / -1;\n",
       "}\n",
       "\n",
       "dl.xr-attrs {\n",
       "  padding: 0;\n",
       "  margin: 0;\n",
       "  display: grid;\n",
       "  grid-template-columns: 125px auto;\n",
       "}\n",
       "\n",
       ".xr-attrs dt,\n",
       ".xr-attrs dd {\n",
       "  padding: 0;\n",
       "  margin: 0;\n",
       "  float: left;\n",
       "  padding-right: 10px;\n",
       "  width: auto;\n",
       "}\n",
       "\n",
       ".xr-attrs dt {\n",
       "  font-weight: normal;\n",
       "  grid-column: 1;\n",
       "}\n",
       "\n",
       ".xr-attrs dt:hover span {\n",
       "  display: inline-block;\n",
       "  background: var(--xr-background-color);\n",
       "  padding-right: 10px;\n",
       "}\n",
       "\n",
       ".xr-attrs dd {\n",
       "  grid-column: 2;\n",
       "  white-space: pre-wrap;\n",
       "  word-break: break-all;\n",
       "}\n",
       "\n",
       ".xr-icon-database,\n",
       ".xr-icon-file-text2,\n",
       ".xr-no-icon {\n",
       "  display: inline-block;\n",
       "  vertical-align: middle;\n",
       "  width: 1em;\n",
       "  height: 1.5em !important;\n",
       "  stroke-width: 0;\n",
       "  stroke: currentColor;\n",
       "  fill: currentColor;\n",
       "}\n",
       "</style><pre class='xr-text-repr-fallback'>&lt;xarray.Dataset&gt;\n",
       "Dimensions:      (nprof: 88774, pressure: 148)\n",
       "Coordinates:\n",
       "    profiler     (nprof) int32 100 100 100 100 100 100 100 100 ... 9 9 9 9 9 9 9\n",
       "    date         (nprof) datetime64[ns] 2017-09-20T00:02:04.416000 ... 2009-0...\n",
       "    lon          (nprof) float64 -149.2 -149.1 -148.8 ... -95.51 -95.29 -95.09\n",
       "    lat          (nprof) float64 80.04 80.07 80.1 80.12 ... 82.75 82.76 82.76\n",
       "  * pressure     (pressure) float64 10.0 15.0 20.0 25.0 ... 735.0 740.0 745.0\n",
       "Dimensions without coordinates: nprof\n",
       "Data variables:\n",
       "    temperature  (nprof, pressure) float64 -1.495 -1.495 -1.342 ... 0.231 0.2258\n",
       "    salinity     (nprof, pressure) float64 27.8 27.81 28.08 ... 34.88 34.88</pre><div class='xr-wrap' style='display:none'><div class='xr-header'><div class='xr-obj-type'>xarray.Dataset</div></div><ul class='xr-sections'><li class='xr-section-item'><input id='section-4c09edac-8c57-4885-a673-870e046bbd42' class='xr-section-summary-in' type='checkbox' disabled ><label for='section-4c09edac-8c57-4885-a673-870e046bbd42' class='xr-section-summary'  title='Expand/collapse section'>Dimensions:</label><div class='xr-section-inline-details'><ul class='xr-dim-list'><li><span>nprof</span>: 88774</li><li><span class='xr-has-index'>pressure</span>: 148</li></ul></div><div class='xr-section-details'></div></li><li class='xr-section-item'><input id='section-3cb7b75c-d74d-4ff7-9db1-277ccc23b0b3' class='xr-section-summary-in' type='checkbox'  checked><label for='section-3cb7b75c-d74d-4ff7-9db1-277ccc23b0b3' class='xr-section-summary' >Coordinates: <span>(5)</span></label><div class='xr-section-inline-details'></div><div class='xr-section-details'><ul class='xr-var-list'><li class='xr-var-item'><div class='xr-var-name'><span>profiler</span></div><div class='xr-var-dims'>(nprof)</div><div class='xr-var-dtype'>int32</div><div class='xr-var-preview xr-preview'>100 100 100 100 100 ... 9 9 9 9 9</div><input id='attrs-fd2c4aa5-1ab0-40fd-9ec8-5960213f13ca' class='xr-var-attrs-in' type='checkbox' disabled><label for='attrs-fd2c4aa5-1ab0-40fd-9ec8-5960213f13ca' title='Show/Hide attributes'><svg class='icon xr-icon-file-text2'><use xlink:href='#icon-file-text2'></use></svg></label><input id='data-9a45a111-b99a-4e4e-8fc3-06a9a0499968' class='xr-var-data-in' type='checkbox'><label for='data-9a45a111-b99a-4e4e-8fc3-06a9a0499968' title='Show/Hide data repr'><svg class='icon xr-icon-database'><use xlink:href='#icon-database'></use></svg></label><div class='xr-var-attrs'><dl class='xr-attrs'></dl></div><div class='xr-var-data'><pre>array([100, 100, 100, ...,   9,   9,   9])</pre></div></li><li class='xr-var-item'><div class='xr-var-name'><span>date</span></div><div class='xr-var-dims'>(nprof)</div><div class='xr-var-dtype'>datetime64[ns]</div><div class='xr-var-preview xr-preview'>2017-09-20T00:02:04.416000 ... 2...</div><input id='attrs-01aa35e2-d556-4cf5-ae09-e691492a64b0' class='xr-var-attrs-in' type='checkbox' disabled><label for='attrs-01aa35e2-d556-4cf5-ae09-e691492a64b0' title='Show/Hide attributes'><svg class='icon xr-icon-file-text2'><use xlink:href='#icon-file-text2'></use></svg></label><input id='data-2a57fa88-75a4-468a-bbb8-baa6fe9ac5d4' class='xr-var-data-in' type='checkbox'><label for='data-2a57fa88-75a4-468a-bbb8-baa6fe9ac5d4' title='Show/Hide data repr'><svg class='icon xr-icon-database'><use xlink:href='#icon-database'></use></svg></label><div class='xr-var-attrs'><dl class='xr-attrs'></dl></div><div class='xr-var-data'><pre>array([&#x27;2017-09-20T00:02:04.416000000&#x27;, &#x27;2017-09-20T06:02:01.824000000&#x27;,\n",
       "       &#x27;2017-09-21T00:02:02.688000000&#x27;, ...,\n",
       "       &#x27;2009-01-15T00:24:18.432000000&#x27;, &#x27;2009-01-15T07:12:01.728000000&#x27;,\n",
       "       &#x27;2009-01-15T12:00:05.183999000&#x27;], dtype=&#x27;datetime64[ns]&#x27;)</pre></div></li><li class='xr-var-item'><div class='xr-var-name'><span>lon</span></div><div class='xr-var-dims'>(nprof)</div><div class='xr-var-dtype'>float64</div><div class='xr-var-preview xr-preview'>-149.2 -149.1 ... -95.29 -95.09</div><input id='attrs-c13d688d-7b30-4c0b-a550-80ece6ff20ae' class='xr-var-attrs-in' type='checkbox' disabled><label for='attrs-c13d688d-7b30-4c0b-a550-80ece6ff20ae' title='Show/Hide attributes'><svg class='icon xr-icon-file-text2'><use xlink:href='#icon-file-text2'></use></svg></label><input id='data-0e42fd79-59ed-4567-a8ac-f8bca071b4b5' class='xr-var-data-in' type='checkbox'><label for='data-0e42fd79-59ed-4567-a8ac-f8bca071b4b5' title='Show/Hide data repr'><svg class='icon xr-icon-database'><use xlink:href='#icon-database'></use></svg></label><div class='xr-var-attrs'><dl class='xr-attrs'></dl></div><div class='xr-var-data'><pre>array([-149.1544, -149.1395, -148.7704, ...,  -95.5062,  -95.2933,\n",
       "        -95.0876])</pre></div></li><li class='xr-var-item'><div class='xr-var-name'><span>lat</span></div><div class='xr-var-dims'>(nprof)</div><div class='xr-var-dtype'>float64</div><div class='xr-var-preview xr-preview'>80.04 80.07 80.1 ... 82.76 82.76</div><input id='attrs-84d55512-2ee5-4451-8ee7-d867c6aae6d6' class='xr-var-attrs-in' type='checkbox' disabled><label for='attrs-84d55512-2ee5-4451-8ee7-d867c6aae6d6' title='Show/Hide attributes'><svg class='icon xr-icon-file-text2'><use xlink:href='#icon-file-text2'></use></svg></label><input id='data-a1b7551f-3236-4813-b815-5a1b20a5a368' class='xr-var-data-in' type='checkbox'><label for='data-a1b7551f-3236-4813-b815-5a1b20a5a368' title='Show/Hide data repr'><svg class='icon xr-icon-database'><use xlink:href='#icon-database'></use></svg></label><div class='xr-var-attrs'><dl class='xr-attrs'></dl></div><div class='xr-var-data'><pre>array([80.0378, 80.069 , 80.0992, ..., 82.7462, 82.7572, 82.7638])</pre></div></li><li class='xr-var-item'><div class='xr-var-name'><span class='xr-has-index'>pressure</span></div><div class='xr-var-dims'>(pressure)</div><div class='xr-var-dtype'>float64</div><div class='xr-var-preview xr-preview'>10.0 15.0 20.0 ... 740.0 745.0</div><input id='attrs-69071d27-6472-49ac-ac6b-6cd3261388bf' class='xr-var-attrs-in' type='checkbox' disabled><label for='attrs-69071d27-6472-49ac-ac6b-6cd3261388bf' title='Show/Hide attributes'><svg class='icon xr-icon-file-text2'><use xlink:href='#icon-file-text2'></use></svg></label><input id='data-93912424-dc4c-4b13-9531-9422de0d2f63' class='xr-var-data-in' type='checkbox'><label for='data-93912424-dc4c-4b13-9531-9422de0d2f63' title='Show/Hide data repr'><svg class='icon xr-icon-database'><use xlink:href='#icon-database'></use></svg></label><div class='xr-var-attrs'><dl class='xr-attrs'></dl></div><div class='xr-var-data'><pre>array([ 10.,  15.,  20.,  25.,  30.,  35.,  40.,  45.,  50.,  55.,  60.,  65.,\n",
       "        70.,  75.,  80.,  85.,  90.,  95., 100., 105., 110., 115., 120., 125.,\n",
       "       130., 135., 140., 145., 150., 155., 160., 165., 170., 175., 180., 185.,\n",
       "       190., 195., 200., 205., 210., 215., 220., 225., 230., 235., 240., 245.,\n",
       "       250., 255., 260., 265., 270., 275., 280., 285., 290., 295., 300., 305.,\n",
       "       310., 315., 320., 325., 330., 335., 340., 345., 350., 355., 360., 365.,\n",
       "       370., 375., 380., 385., 390., 395., 400., 405., 410., 415., 420., 425.,\n",
       "       430., 435., 440., 445., 450., 455., 460., 465., 470., 475., 480., 485.,\n",
       "       490., 495., 500., 505., 510., 515., 520., 525., 530., 535., 540., 545.,\n",
       "       550., 555., 560., 565., 570., 575., 580., 585., 590., 595., 600., 605.,\n",
       "       610., 615., 620., 625., 630., 635., 640., 645., 650., 655., 660., 665.,\n",
       "       670., 675., 680., 685., 690., 695., 700., 705., 710., 715., 720., 725.,\n",
       "       730., 735., 740., 745.])</pre></div></li></ul></div></li><li class='xr-section-item'><input id='section-2d9d8ff0-04e6-463c-bd0a-fa3c72d297e7' class='xr-section-summary-in' type='checkbox'  checked><label for='section-2d9d8ff0-04e6-463c-bd0a-fa3c72d297e7' class='xr-section-summary' >Data variables: <span>(2)</span></label><div class='xr-section-inline-details'></div><div class='xr-section-details'><ul class='xr-var-list'><li class='xr-var-item'><div class='xr-var-name'><span>temperature</span></div><div class='xr-var-dims'>(nprof, pressure)</div><div class='xr-var-dtype'>float64</div><div class='xr-var-preview xr-preview'>-1.495 -1.495 ... 0.231 0.2258</div><input id='attrs-4c00dbb2-5850-4ded-a4ad-f941766ad148' class='xr-var-attrs-in' type='checkbox' disabled><label for='attrs-4c00dbb2-5850-4ded-a4ad-f941766ad148' title='Show/Hide attributes'><svg class='icon xr-icon-file-text2'><use xlink:href='#icon-file-text2'></use></svg></label><input id='data-d0eed705-dc6d-4082-9139-abd00006176b' class='xr-var-data-in' type='checkbox'><label for='data-d0eed705-dc6d-4082-9139-abd00006176b' title='Show/Hide data repr'><svg class='icon xr-icon-database'><use xlink:href='#icon-database'></use></svg></label><div class='xr-var-attrs'><dl class='xr-attrs'></dl></div><div class='xr-var-data'><pre>array([[-1.4952    , -1.4949    , -1.3418    , ...,  0.3476    ,\n",
       "         0.34165   ,  0.32863   ],\n",
       "       [        nan,         nan,         nan, ...,  0.3604    ,\n",
       "         0.349     ,  0.33879   ],\n",
       "       [-1.5139    , -1.5131    , -1.4878    , ...,  0.35241   ,\n",
       "         0.33981   ,  0.3305    ],\n",
       "       ...,\n",
       "       [-1.62180909, -1.62132727, -1.62070909, ...,  0.23908   ,\n",
       "         0.2263    ,  0.2201    ],\n",
       "       [-1.6221    , -1.6221    , -1.6217    , ...,         nan,\n",
       "                nan,         nan],\n",
       "       [        nan, -1.62099677, -1.6204    , ...,  0.2349    ,\n",
       "         0.231     ,  0.2258    ]])</pre></div></li><li class='xr-var-item'><div class='xr-var-name'><span>salinity</span></div><div class='xr-var-dims'>(nprof, pressure)</div><div class='xr-var-dtype'>float64</div><div class='xr-var-preview xr-preview'>27.8 27.81 28.08 ... 34.88 34.88</div><input id='attrs-4693213d-cee1-4c46-b74f-dec1557c2e52' class='xr-var-attrs-in' type='checkbox' disabled><label for='attrs-4693213d-cee1-4c46-b74f-dec1557c2e52' title='Show/Hide attributes'><svg class='icon xr-icon-file-text2'><use xlink:href='#icon-file-text2'></use></svg></label><input id='data-41132b80-b1cf-4aef-b506-ad8cfa0bd39c' class='xr-var-data-in' type='checkbox'><label for='data-41132b80-b1cf-4aef-b506-ad8cfa0bd39c' title='Show/Hide data repr'><svg class='icon xr-icon-database'><use xlink:href='#icon-database'></use></svg></label><div class='xr-var-attrs'><dl class='xr-attrs'></dl></div><div class='xr-var-data'><pre>array([[27.8048    , 27.8084    , 28.0753    , ..., 34.8645    ,\n",
       "        34.86468   , 34.86467   ],\n",
       "       [        nan,         nan,         nan, ..., 34.8646    ,\n",
       "        34.8644    , 34.86454   ],\n",
       "       [27.9807    , 28.2575    , 28.5077    , ..., 34.86478   ,\n",
       "        34.86483   , 34.86579   ],\n",
       "       ...,\n",
       "       [29.78349091, 29.78452727, 29.78638182, ..., 34.87723   ,\n",
       "        34.8787    , 34.8785    ],\n",
       "       [29.7837    , 29.7839    , 29.7855    , ...,         nan,\n",
       "                nan,         nan],\n",
       "       [        nan, 29.78573548, 29.7904    , ..., 34.8772    ,\n",
       "        34.8771    , 34.8776    ]])</pre></div></li></ul></div></li><li class='xr-section-item'><input id='section-25e8eec3-eff6-4cb8-8c85-99ae9937d3c3' class='xr-section-summary-in' type='checkbox'  ><label for='section-25e8eec3-eff6-4cb8-8c85-99ae9937d3c3' class='xr-section-summary' >Indexes: <span>(1)</span></label><div class='xr-section-inline-details'></div><div class='xr-section-details'><ul class='xr-var-list'><li class='xr-var-item'><div class='xr-index-name'><div>pressure</div></div><div class='xr-index-preview'>PandasIndex</div><div></div><input id='index-a1606ef3-e899-4dc4-9d4c-7fd82fd43589' class='xr-index-data-in' type='checkbox'/><label for='index-a1606ef3-e899-4dc4-9d4c-7fd82fd43589' title='Show/Hide index repr'><svg class='icon xr-icon-database'><use xlink:href='#icon-database'></use></svg></label><div class='xr-index-data'><pre>PandasIndex(Float64Index([ 10.0,  15.0,  20.0,  25.0,  30.0,  35.0,  40.0,  45.0,  50.0,\n",
       "               55.0,\n",
       "              ...\n",
       "              700.0, 705.0, 710.0, 715.0, 720.0, 725.0, 730.0, 735.0, 740.0,\n",
       "              745.0],\n",
       "             dtype=&#x27;float64&#x27;, name=&#x27;pressure&#x27;, length=148))</pre></div></li></ul></div></li><li class='xr-section-item'><input id='section-744d63b1-c753-47a5-9608-9878d20889dc' class='xr-section-summary-in' type='checkbox' disabled ><label for='section-744d63b1-c753-47a5-9608-9878d20889dc' class='xr-section-summary'  title='Expand/collapse section'>Attributes: <span>(0)</span></label><div class='xr-section-inline-details'></div><div class='xr-section-details'><dl class='xr-attrs'></dl></div></li></ul></div></div>"
      ],
      "text/plain": [
       "<xarray.Dataset>\n",
       "Dimensions:      (nprof: 88774, pressure: 148)\n",
       "Coordinates:\n",
       "    profiler     (nprof) int32 100 100 100 100 100 100 100 100 ... 9 9 9 9 9 9 9\n",
       "    date         (nprof) datetime64[ns] 2017-09-20T00:02:04.416000 ... 2009-0...\n",
       "    lon          (nprof) float64 -149.2 -149.1 -148.8 ... -95.51 -95.29 -95.09\n",
       "    lat          (nprof) float64 80.04 80.07 80.1 80.12 ... 82.75 82.76 82.76\n",
       "  * pressure     (pressure) float64 10.0 15.0 20.0 25.0 ... 735.0 740.0 745.0\n",
       "Dimensions without coordinates: nprof\n",
       "Data variables:\n",
       "    temperature  (nprof, pressure) float64 -1.495 -1.495 -1.342 ... 0.231 0.2258\n",
       "    salinity     (nprof, pressure) float64 27.8 27.81 28.08 ... 34.88 34.88"
      ]
     },
     "execution_count": 11,
     "metadata": {},
     "output_type": "execute_result"
    }
   ],
   "source": [
    "ds_all"
   ]
  },
  {
   "cell_type": "code",
   "execution_count": 1,
   "id": "eb300a94",
   "metadata": {},
   "outputs": [
    {
     "ename": "NameError",
     "evalue": "name 'ds_all' is not defined",
     "output_type": "error",
     "traceback": [
      "\u001b[1;31m---------------------------------------------------------------------------\u001b[0m",
      "\u001b[1;31mNameError\u001b[0m                                 Traceback (most recent call last)",
      "Cell \u001b[1;32mIn[1], line 2\u001b[0m\n\u001b[0;32m      1\u001b[0m \u001b[39m# save the xarry to local file\u001b[39;00m\n\u001b[1;32m----> 2\u001b[0m ds_all[\u001b[39m'\u001b[39m\u001b[39mpressure\u001b[39m\u001b[39m'\u001b[39m]\u001b[39m=\u001b[39m\u001b[39m-\u001b[39mds_all[\u001b[39m'\u001b[39m\u001b[39mpressure\u001b[39m\u001b[39m'\u001b[39m]\n\u001b[0;32m      3\u001b[0m ds_all\u001b[39m.\u001b[39mto_netcdf(\u001b[39mf\u001b[39m\u001b[39m\"\u001b[39m\u001b[39m{\u001b[39;00mdata_path\u001b[39m}\u001b[39;00m\u001b[39m/ds_all.nc\u001b[39m\u001b[39m\"\u001b[39m)\n",
      "\u001b[1;31mNameError\u001b[0m: name 'ds_all' is not defined"
     ]
    }
   ],
   "source": [
    "# save the xarry to local file\n",
    "ds_all.to_netcdf(f\"{data_path}/ds_all.nc\")"
   ]
  },
  {
   "cell_type": "code",
   "execution_count": 117,
   "id": "d74ab9f6",
   "metadata": {},
   "outputs": [
    {
     "data": {
      "text/html": [
       "<div><svg style=\"position: absolute; width: 0; height: 0; overflow: hidden\">\n",
       "<defs>\n",
       "<symbol id=\"icon-database\" viewBox=\"0 0 32 32\">\n",
       "<path d=\"M16 0c-8.837 0-16 2.239-16 5v4c0 2.761 7.163 5 16 5s16-2.239 16-5v-4c0-2.761-7.163-5-16-5z\"></path>\n",
       "<path d=\"M16 17c-8.837 0-16-2.239-16-5v6c0 2.761 7.163 5 16 5s16-2.239 16-5v-6c0 2.761-7.163 5-16 5z\"></path>\n",
       "<path d=\"M16 26c-8.837 0-16-2.239-16-5v6c0 2.761 7.163 5 16 5s16-2.239 16-5v-6c0 2.761-7.163 5-16 5z\"></path>\n",
       "</symbol>\n",
       "<symbol id=\"icon-file-text2\" viewBox=\"0 0 32 32\">\n",
       "<path d=\"M28.681 7.159c-0.694-0.947-1.662-2.053-2.724-3.116s-2.169-2.030-3.116-2.724c-1.612-1.182-2.393-1.319-2.841-1.319h-15.5c-1.378 0-2.5 1.121-2.5 2.5v27c0 1.378 1.122 2.5 2.5 2.5h23c1.378 0 2.5-1.122 2.5-2.5v-19.5c0-0.448-0.137-1.23-1.319-2.841zM24.543 5.457c0.959 0.959 1.712 1.825 2.268 2.543h-4.811v-4.811c0.718 0.556 1.584 1.309 2.543 2.268zM28 29.5c0 0.271-0.229 0.5-0.5 0.5h-23c-0.271 0-0.5-0.229-0.5-0.5v-27c0-0.271 0.229-0.5 0.5-0.5 0 0 15.499-0 15.5 0v7c0 0.552 0.448 1 1 1h7v19.5z\"></path>\n",
       "<path d=\"M23 26h-14c-0.552 0-1-0.448-1-1s0.448-1 1-1h14c0.552 0 1 0.448 1 1s-0.448 1-1 1z\"></path>\n",
       "<path d=\"M23 22h-14c-0.552 0-1-0.448-1-1s0.448-1 1-1h14c0.552 0 1 0.448 1 1s-0.448 1-1 1z\"></path>\n",
       "<path d=\"M23 18h-14c-0.552 0-1-0.448-1-1s0.448-1 1-1h14c0.552 0 1 0.448 1 1s-0.448 1-1 1z\"></path>\n",
       "</symbol>\n",
       "</defs>\n",
       "</svg>\n",
       "<style>/* CSS stylesheet for displaying xarray objects in jupyterlab.\n",
       " *\n",
       " */\n",
       "\n",
       ":root {\n",
       "  --xr-font-color0: var(--jp-content-font-color0, rgba(0, 0, 0, 1));\n",
       "  --xr-font-color2: var(--jp-content-font-color2, rgba(0, 0, 0, 0.54));\n",
       "  --xr-font-color3: var(--jp-content-font-color3, rgba(0, 0, 0, 0.38));\n",
       "  --xr-border-color: var(--jp-border-color2, #e0e0e0);\n",
       "  --xr-disabled-color: var(--jp-layout-color3, #bdbdbd);\n",
       "  --xr-background-color: var(--jp-layout-color0, white);\n",
       "  --xr-background-color-row-even: var(--jp-layout-color1, white);\n",
       "  --xr-background-color-row-odd: var(--jp-layout-color2, #eeeeee);\n",
       "}\n",
       "\n",
       "html[theme=dark],\n",
       "body[data-theme=dark],\n",
       "body.vscode-dark {\n",
       "  --xr-font-color0: rgba(255, 255, 255, 1);\n",
       "  --xr-font-color2: rgba(255, 255, 255, 0.54);\n",
       "  --xr-font-color3: rgba(255, 255, 255, 0.38);\n",
       "  --xr-border-color: #1F1F1F;\n",
       "  --xr-disabled-color: #515151;\n",
       "  --xr-background-color: #111111;\n",
       "  --xr-background-color-row-even: #111111;\n",
       "  --xr-background-color-row-odd: #313131;\n",
       "}\n",
       "\n",
       ".xr-wrap {\n",
       "  display: block !important;\n",
       "  min-width: 300px;\n",
       "  max-width: 700px;\n",
       "}\n",
       "\n",
       ".xr-text-repr-fallback {\n",
       "  /* fallback to plain text repr when CSS is not injected (untrusted notebook) */\n",
       "  display: none;\n",
       "}\n",
       "\n",
       ".xr-header {\n",
       "  padding-top: 6px;\n",
       "  padding-bottom: 6px;\n",
       "  margin-bottom: 4px;\n",
       "  border-bottom: solid 1px var(--xr-border-color);\n",
       "}\n",
       "\n",
       ".xr-header > div,\n",
       ".xr-header > ul {\n",
       "  display: inline;\n",
       "  margin-top: 0;\n",
       "  margin-bottom: 0;\n",
       "}\n",
       "\n",
       ".xr-obj-type,\n",
       ".xr-array-name {\n",
       "  margin-left: 2px;\n",
       "  margin-right: 10px;\n",
       "}\n",
       "\n",
       ".xr-obj-type {\n",
       "  color: var(--xr-font-color2);\n",
       "}\n",
       "\n",
       ".xr-sections {\n",
       "  padding-left: 0 !important;\n",
       "  display: grid;\n",
       "  grid-template-columns: 150px auto auto 1fr 20px 20px;\n",
       "}\n",
       "\n",
       ".xr-section-item {\n",
       "  display: contents;\n",
       "}\n",
       "\n",
       ".xr-section-item input {\n",
       "  display: none;\n",
       "}\n",
       "\n",
       ".xr-section-item input + label {\n",
       "  color: var(--xr-disabled-color);\n",
       "}\n",
       "\n",
       ".xr-section-item input:enabled + label {\n",
       "  cursor: pointer;\n",
       "  color: var(--xr-font-color2);\n",
       "}\n",
       "\n",
       ".xr-section-item input:enabled + label:hover {\n",
       "  color: var(--xr-font-color0);\n",
       "}\n",
       "\n",
       ".xr-section-summary {\n",
       "  grid-column: 1;\n",
       "  color: var(--xr-font-color2);\n",
       "  font-weight: 500;\n",
       "}\n",
       "\n",
       ".xr-section-summary > span {\n",
       "  display: inline-block;\n",
       "  padding-left: 0.5em;\n",
       "}\n",
       "\n",
       ".xr-section-summary-in:disabled + label {\n",
       "  color: var(--xr-font-color2);\n",
       "}\n",
       "\n",
       ".xr-section-summary-in + label:before {\n",
       "  display: inline-block;\n",
       "  content: '►';\n",
       "  font-size: 11px;\n",
       "  width: 15px;\n",
       "  text-align: center;\n",
       "}\n",
       "\n",
       ".xr-section-summary-in:disabled + label:before {\n",
       "  color: var(--xr-disabled-color);\n",
       "}\n",
       "\n",
       ".xr-section-summary-in:checked + label:before {\n",
       "  content: '▼';\n",
       "}\n",
       "\n",
       ".xr-section-summary-in:checked + label > span {\n",
       "  display: none;\n",
       "}\n",
       "\n",
       ".xr-section-summary,\n",
       ".xr-section-inline-details {\n",
       "  padding-top: 4px;\n",
       "  padding-bottom: 4px;\n",
       "}\n",
       "\n",
       ".xr-section-inline-details {\n",
       "  grid-column: 2 / -1;\n",
       "}\n",
       "\n",
       ".xr-section-details {\n",
       "  display: none;\n",
       "  grid-column: 1 / -1;\n",
       "  margin-bottom: 5px;\n",
       "}\n",
       "\n",
       ".xr-section-summary-in:checked ~ .xr-section-details {\n",
       "  display: contents;\n",
       "}\n",
       "\n",
       ".xr-array-wrap {\n",
       "  grid-column: 1 / -1;\n",
       "  display: grid;\n",
       "  grid-template-columns: 20px auto;\n",
       "}\n",
       "\n",
       ".xr-array-wrap > label {\n",
       "  grid-column: 1;\n",
       "  vertical-align: top;\n",
       "}\n",
       "\n",
       ".xr-preview {\n",
       "  color: var(--xr-font-color3);\n",
       "}\n",
       "\n",
       ".xr-array-preview,\n",
       ".xr-array-data {\n",
       "  padding: 0 5px !important;\n",
       "  grid-column: 2;\n",
       "}\n",
       "\n",
       ".xr-array-data,\n",
       ".xr-array-in:checked ~ .xr-array-preview {\n",
       "  display: none;\n",
       "}\n",
       "\n",
       ".xr-array-in:checked ~ .xr-array-data,\n",
       ".xr-array-preview {\n",
       "  display: inline-block;\n",
       "}\n",
       "\n",
       ".xr-dim-list {\n",
       "  display: inline-block !important;\n",
       "  list-style: none;\n",
       "  padding: 0 !important;\n",
       "  margin: 0;\n",
       "}\n",
       "\n",
       ".xr-dim-list li {\n",
       "  display: inline-block;\n",
       "  padding: 0;\n",
       "  margin: 0;\n",
       "}\n",
       "\n",
       ".xr-dim-list:before {\n",
       "  content: '(';\n",
       "}\n",
       "\n",
       ".xr-dim-list:after {\n",
       "  content: ')';\n",
       "}\n",
       "\n",
       ".xr-dim-list li:not(:last-child):after {\n",
       "  content: ',';\n",
       "  padding-right: 5px;\n",
       "}\n",
       "\n",
       ".xr-has-index {\n",
       "  font-weight: bold;\n",
       "}\n",
       "\n",
       ".xr-var-list,\n",
       ".xr-var-item {\n",
       "  display: contents;\n",
       "}\n",
       "\n",
       ".xr-var-item > div,\n",
       ".xr-var-item label,\n",
       ".xr-var-item > .xr-var-name span {\n",
       "  background-color: var(--xr-background-color-row-even);\n",
       "  margin-bottom: 0;\n",
       "}\n",
       "\n",
       ".xr-var-item > .xr-var-name:hover span {\n",
       "  padding-right: 5px;\n",
       "}\n",
       "\n",
       ".xr-var-list > li:nth-child(odd) > div,\n",
       ".xr-var-list > li:nth-child(odd) > label,\n",
       ".xr-var-list > li:nth-child(odd) > .xr-var-name span {\n",
       "  background-color: var(--xr-background-color-row-odd);\n",
       "}\n",
       "\n",
       ".xr-var-name {\n",
       "  grid-column: 1;\n",
       "}\n",
       "\n",
       ".xr-var-dims {\n",
       "  grid-column: 2;\n",
       "}\n",
       "\n",
       ".xr-var-dtype {\n",
       "  grid-column: 3;\n",
       "  text-align: right;\n",
       "  color: var(--xr-font-color2);\n",
       "}\n",
       "\n",
       ".xr-var-preview {\n",
       "  grid-column: 4;\n",
       "}\n",
       "\n",
       ".xr-index-preview {\n",
       "  grid-column: 2 / 5;\n",
       "  color: var(--xr-font-color2);\n",
       "}\n",
       "\n",
       ".xr-var-name,\n",
       ".xr-var-dims,\n",
       ".xr-var-dtype,\n",
       ".xr-preview,\n",
       ".xr-attrs dt {\n",
       "  white-space: nowrap;\n",
       "  overflow: hidden;\n",
       "  text-overflow: ellipsis;\n",
       "  padding-right: 10px;\n",
       "}\n",
       "\n",
       ".xr-var-name:hover,\n",
       ".xr-var-dims:hover,\n",
       ".xr-var-dtype:hover,\n",
       ".xr-attrs dt:hover {\n",
       "  overflow: visible;\n",
       "  width: auto;\n",
       "  z-index: 1;\n",
       "}\n",
       "\n",
       ".xr-var-attrs,\n",
       ".xr-var-data,\n",
       ".xr-index-data {\n",
       "  display: none;\n",
       "  background-color: var(--xr-background-color) !important;\n",
       "  padding-bottom: 5px !important;\n",
       "}\n",
       "\n",
       ".xr-var-attrs-in:checked ~ .xr-var-attrs,\n",
       ".xr-var-data-in:checked ~ .xr-var-data,\n",
       ".xr-index-data-in:checked ~ .xr-index-data {\n",
       "  display: block;\n",
       "}\n",
       "\n",
       ".xr-var-data > table {\n",
       "  float: right;\n",
       "}\n",
       "\n",
       ".xr-var-name span,\n",
       ".xr-var-data,\n",
       ".xr-index-name div,\n",
       ".xr-index-data,\n",
       ".xr-attrs {\n",
       "  padding-left: 25px !important;\n",
       "}\n",
       "\n",
       ".xr-attrs,\n",
       ".xr-var-attrs,\n",
       ".xr-var-data,\n",
       ".xr-index-data {\n",
       "  grid-column: 1 / -1;\n",
       "}\n",
       "\n",
       "dl.xr-attrs {\n",
       "  padding: 0;\n",
       "  margin: 0;\n",
       "  display: grid;\n",
       "  grid-template-columns: 125px auto;\n",
       "}\n",
       "\n",
       ".xr-attrs dt,\n",
       ".xr-attrs dd {\n",
       "  padding: 0;\n",
       "  margin: 0;\n",
       "  float: left;\n",
       "  padding-right: 10px;\n",
       "  width: auto;\n",
       "}\n",
       "\n",
       ".xr-attrs dt {\n",
       "  font-weight: normal;\n",
       "  grid-column: 1;\n",
       "}\n",
       "\n",
       ".xr-attrs dt:hover span {\n",
       "  display: inline-block;\n",
       "  background: var(--xr-background-color);\n",
       "  padding-right: 10px;\n",
       "}\n",
       "\n",
       ".xr-attrs dd {\n",
       "  grid-column: 2;\n",
       "  white-space: pre-wrap;\n",
       "  word-break: break-all;\n",
       "}\n",
       "\n",
       ".xr-icon-database,\n",
       ".xr-icon-file-text2,\n",
       ".xr-no-icon {\n",
       "  display: inline-block;\n",
       "  vertical-align: middle;\n",
       "  width: 1em;\n",
       "  height: 1.5em !important;\n",
       "  stroke-width: 0;\n",
       "  stroke: currentColor;\n",
       "  fill: currentColor;\n",
       "}\n",
       "</style><pre class='xr-text-repr-fallback'>&lt;xarray.Dataset&gt;\n",
       "Dimensions:      (nprof: 88774, pressure: 148)\n",
       "Coordinates:\n",
       "    profiler     (nprof) int32 ...\n",
       "    date         (nprof) datetime64[ns] ...\n",
       "    lon          (nprof) float64 ...\n",
       "    lat          (nprof) float64 ...\n",
       "  * pressure     (pressure) float64 -10.0 -15.0 -20.0 ... -735.0 -740.0 -745.0\n",
       "Dimensions without coordinates: nprof\n",
       "Data variables:\n",
       "    temperature  (nprof, pressure) float64 ...\n",
       "    salinity     (nprof, pressure) float64 ...</pre><div class='xr-wrap' style='display:none'><div class='xr-header'><div class='xr-obj-type'>xarray.Dataset</div></div><ul class='xr-sections'><li class='xr-section-item'><input id='section-d539fc91-9c1d-4e0c-9962-9361917533f6' class='xr-section-summary-in' type='checkbox' disabled ><label for='section-d539fc91-9c1d-4e0c-9962-9361917533f6' class='xr-section-summary'  title='Expand/collapse section'>Dimensions:</label><div class='xr-section-inline-details'><ul class='xr-dim-list'><li><span>nprof</span>: 88774</li><li><span class='xr-has-index'>pressure</span>: 148</li></ul></div><div class='xr-section-details'></div></li><li class='xr-section-item'><input id='section-28c487ab-e3ab-44b7-898a-15f6e8a04ce9' class='xr-section-summary-in' type='checkbox'  checked><label for='section-28c487ab-e3ab-44b7-898a-15f6e8a04ce9' class='xr-section-summary' >Coordinates: <span>(5)</span></label><div class='xr-section-inline-details'></div><div class='xr-section-details'><ul class='xr-var-list'><li class='xr-var-item'><div class='xr-var-name'><span>profiler</span></div><div class='xr-var-dims'>(nprof)</div><div class='xr-var-dtype'>int32</div><div class='xr-var-preview xr-preview'>...</div><input id='attrs-d528bb66-e401-4dc4-aa8e-79e100f2e7fc' class='xr-var-attrs-in' type='checkbox' disabled><label for='attrs-d528bb66-e401-4dc4-aa8e-79e100f2e7fc' title='Show/Hide attributes'><svg class='icon xr-icon-file-text2'><use xlink:href='#icon-file-text2'></use></svg></label><input id='data-3b4ac13b-9178-43ec-a245-22f89da6bbf6' class='xr-var-data-in' type='checkbox'><label for='data-3b4ac13b-9178-43ec-a245-22f89da6bbf6' title='Show/Hide data repr'><svg class='icon xr-icon-database'><use xlink:href='#icon-database'></use></svg></label><div class='xr-var-attrs'><dl class='xr-attrs'></dl></div><div class='xr-var-data'><pre>[88774 values with dtype=int32]</pre></div></li><li class='xr-var-item'><div class='xr-var-name'><span>date</span></div><div class='xr-var-dims'>(nprof)</div><div class='xr-var-dtype'>datetime64[ns]</div><div class='xr-var-preview xr-preview'>...</div><input id='attrs-bc26770d-ed3c-448f-b67d-b430ca9694c7' class='xr-var-attrs-in' type='checkbox' disabled><label for='attrs-bc26770d-ed3c-448f-b67d-b430ca9694c7' title='Show/Hide attributes'><svg class='icon xr-icon-file-text2'><use xlink:href='#icon-file-text2'></use></svg></label><input id='data-829cb5ff-cd18-4a7f-bda2-854e4eab998a' class='xr-var-data-in' type='checkbox'><label for='data-829cb5ff-cd18-4a7f-bda2-854e4eab998a' title='Show/Hide data repr'><svg class='icon xr-icon-database'><use xlink:href='#icon-database'></use></svg></label><div class='xr-var-attrs'><dl class='xr-attrs'></dl></div><div class='xr-var-data'><pre>[88774 values with dtype=datetime64[ns]]</pre></div></li><li class='xr-var-item'><div class='xr-var-name'><span>lon</span></div><div class='xr-var-dims'>(nprof)</div><div class='xr-var-dtype'>float64</div><div class='xr-var-preview xr-preview'>...</div><input id='attrs-2637cc77-7c5c-4b09-9527-47906d3421cf' class='xr-var-attrs-in' type='checkbox' disabled><label for='attrs-2637cc77-7c5c-4b09-9527-47906d3421cf' title='Show/Hide attributes'><svg class='icon xr-icon-file-text2'><use xlink:href='#icon-file-text2'></use></svg></label><input id='data-dc7f2d43-deea-4cfa-83b7-91a40516e11c' class='xr-var-data-in' type='checkbox'><label for='data-dc7f2d43-deea-4cfa-83b7-91a40516e11c' title='Show/Hide data repr'><svg class='icon xr-icon-database'><use xlink:href='#icon-database'></use></svg></label><div class='xr-var-attrs'><dl class='xr-attrs'></dl></div><div class='xr-var-data'><pre>[88774 values with dtype=float64]</pre></div></li><li class='xr-var-item'><div class='xr-var-name'><span>lat</span></div><div class='xr-var-dims'>(nprof)</div><div class='xr-var-dtype'>float64</div><div class='xr-var-preview xr-preview'>...</div><input id='attrs-e29d3793-5a3c-482f-ba81-87a37cf79b56' class='xr-var-attrs-in' type='checkbox' disabled><label for='attrs-e29d3793-5a3c-482f-ba81-87a37cf79b56' title='Show/Hide attributes'><svg class='icon xr-icon-file-text2'><use xlink:href='#icon-file-text2'></use></svg></label><input id='data-cb5d6459-95ed-4a4a-8d9c-4ce82fdde1a6' class='xr-var-data-in' type='checkbox'><label for='data-cb5d6459-95ed-4a4a-8d9c-4ce82fdde1a6' title='Show/Hide data repr'><svg class='icon xr-icon-database'><use xlink:href='#icon-database'></use></svg></label><div class='xr-var-attrs'><dl class='xr-attrs'></dl></div><div class='xr-var-data'><pre>[88774 values with dtype=float64]</pre></div></li><li class='xr-var-item'><div class='xr-var-name'><span class='xr-has-index'>pressure</span></div><div class='xr-var-dims'>(pressure)</div><div class='xr-var-dtype'>float64</div><div class='xr-var-preview xr-preview'>-10.0 -15.0 -20.0 ... -740.0 -745.0</div><input id='attrs-876a0dbe-9fd7-44dc-9351-e7491e527f7d' class='xr-var-attrs-in' type='checkbox' disabled><label for='attrs-876a0dbe-9fd7-44dc-9351-e7491e527f7d' title='Show/Hide attributes'><svg class='icon xr-icon-file-text2'><use xlink:href='#icon-file-text2'></use></svg></label><input id='data-eac5dc54-1de9-4bb8-9679-467f10faa93d' class='xr-var-data-in' type='checkbox'><label for='data-eac5dc54-1de9-4bb8-9679-467f10faa93d' title='Show/Hide data repr'><svg class='icon xr-icon-database'><use xlink:href='#icon-database'></use></svg></label><div class='xr-var-attrs'><dl class='xr-attrs'></dl></div><div class='xr-var-data'><pre>array([ -10.,  -15.,  -20.,  -25.,  -30.,  -35.,  -40.,  -45.,  -50.,  -55.,\n",
       "        -60.,  -65.,  -70.,  -75.,  -80.,  -85.,  -90.,  -95., -100., -105.,\n",
       "       -110., -115., -120., -125., -130., -135., -140., -145., -150., -155.,\n",
       "       -160., -165., -170., -175., -180., -185., -190., -195., -200., -205.,\n",
       "       -210., -215., -220., -225., -230., -235., -240., -245., -250., -255.,\n",
       "       -260., -265., -270., -275., -280., -285., -290., -295., -300., -305.,\n",
       "       -310., -315., -320., -325., -330., -335., -340., -345., -350., -355.,\n",
       "       -360., -365., -370., -375., -380., -385., -390., -395., -400., -405.,\n",
       "       -410., -415., -420., -425., -430., -435., -440., -445., -450., -455.,\n",
       "       -460., -465., -470., -475., -480., -485., -490., -495., -500., -505.,\n",
       "       -510., -515., -520., -525., -530., -535., -540., -545., -550., -555.,\n",
       "       -560., -565., -570., -575., -580., -585., -590., -595., -600., -605.,\n",
       "       -610., -615., -620., -625., -630., -635., -640., -645., -650., -655.,\n",
       "       -660., -665., -670., -675., -680., -685., -690., -695., -700., -705.,\n",
       "       -710., -715., -720., -725., -730., -735., -740., -745.])</pre></div></li></ul></div></li><li class='xr-section-item'><input id='section-a0cf2f11-4eb1-4e96-98f7-ab4e234b01e0' class='xr-section-summary-in' type='checkbox'  checked><label for='section-a0cf2f11-4eb1-4e96-98f7-ab4e234b01e0' class='xr-section-summary' >Data variables: <span>(2)</span></label><div class='xr-section-inline-details'></div><div class='xr-section-details'><ul class='xr-var-list'><li class='xr-var-item'><div class='xr-var-name'><span>temperature</span></div><div class='xr-var-dims'>(nprof, pressure)</div><div class='xr-var-dtype'>float64</div><div class='xr-var-preview xr-preview'>...</div><input id='attrs-cbf15f6a-ce3b-4661-be5a-5d06783ba66b' class='xr-var-attrs-in' type='checkbox' disabled><label for='attrs-cbf15f6a-ce3b-4661-be5a-5d06783ba66b' title='Show/Hide attributes'><svg class='icon xr-icon-file-text2'><use xlink:href='#icon-file-text2'></use></svg></label><input id='data-bdec3384-4fdb-49ed-bde6-d90560e93a2a' class='xr-var-data-in' type='checkbox'><label for='data-bdec3384-4fdb-49ed-bde6-d90560e93a2a' title='Show/Hide data repr'><svg class='icon xr-icon-database'><use xlink:href='#icon-database'></use></svg></label><div class='xr-var-attrs'><dl class='xr-attrs'></dl></div><div class='xr-var-data'><pre>[13138552 values with dtype=float64]</pre></div></li><li class='xr-var-item'><div class='xr-var-name'><span>salinity</span></div><div class='xr-var-dims'>(nprof, pressure)</div><div class='xr-var-dtype'>float64</div><div class='xr-var-preview xr-preview'>...</div><input id='attrs-b0c39f8a-5d3b-4b5a-9ce3-d19ef2f44f64' class='xr-var-attrs-in' type='checkbox' disabled><label for='attrs-b0c39f8a-5d3b-4b5a-9ce3-d19ef2f44f64' title='Show/Hide attributes'><svg class='icon xr-icon-file-text2'><use xlink:href='#icon-file-text2'></use></svg></label><input id='data-598ea5d5-0522-494a-b739-d0acaf6ed6fd' class='xr-var-data-in' type='checkbox'><label for='data-598ea5d5-0522-494a-b739-d0acaf6ed6fd' title='Show/Hide data repr'><svg class='icon xr-icon-database'><use xlink:href='#icon-database'></use></svg></label><div class='xr-var-attrs'><dl class='xr-attrs'></dl></div><div class='xr-var-data'><pre>[13138552 values with dtype=float64]</pre></div></li></ul></div></li><li class='xr-section-item'><input id='section-9bb25e3e-35ce-4939-8e98-7614608fb70d' class='xr-section-summary-in' type='checkbox'  ><label for='section-9bb25e3e-35ce-4939-8e98-7614608fb70d' class='xr-section-summary' >Indexes: <span>(1)</span></label><div class='xr-section-inline-details'></div><div class='xr-section-details'><ul class='xr-var-list'><li class='xr-var-item'><div class='xr-index-name'><div>pressure</div></div><div class='xr-index-preview'>PandasIndex</div><div></div><input id='index-bc29db63-015b-4900-a102-b7ee74151639' class='xr-index-data-in' type='checkbox'/><label for='index-bc29db63-015b-4900-a102-b7ee74151639' title='Show/Hide index repr'><svg class='icon xr-icon-database'><use xlink:href='#icon-database'></use></svg></label><div class='xr-index-data'><pre>PandasIndex(Float64Index([ -10.0,  -15.0,  -20.0,  -25.0,  -30.0,  -35.0,  -40.0,  -45.0,\n",
       "               -50.0,  -55.0,\n",
       "              ...\n",
       "              -700.0, -705.0, -710.0, -715.0, -720.0, -725.0, -730.0, -735.0,\n",
       "              -740.0, -745.0],\n",
       "             dtype=&#x27;float64&#x27;, name=&#x27;pressure&#x27;, length=148))</pre></div></li></ul></div></li><li class='xr-section-item'><input id='section-721cbe10-4bb3-4ca3-9131-92f4e437c8d5' class='xr-section-summary-in' type='checkbox' disabled ><label for='section-721cbe10-4bb3-4ca3-9131-92f4e437c8d5' class='xr-section-summary'  title='Expand/collapse section'>Attributes: <span>(0)</span></label><div class='xr-section-inline-details'></div><div class='xr-section-details'><dl class='xr-attrs'></dl></div></li></ul></div></div>"
      ],
      "text/plain": [
       "<xarray.Dataset>\n",
       "Dimensions:      (nprof: 88774, pressure: 148)\n",
       "Coordinates:\n",
       "    profiler     (nprof) int32 ...\n",
       "    date         (nprof) datetime64[ns] ...\n",
       "    lon          (nprof) float64 ...\n",
       "    lat          (nprof) float64 ...\n",
       "  * pressure     (pressure) float64 -10.0 -15.0 -20.0 ... -735.0 -740.0 -745.0\n",
       "Dimensions without coordinates: nprof\n",
       "Data variables:\n",
       "    temperature  (nprof, pressure) float64 ...\n",
       "    salinity     (nprof, pressure) float64 ..."
      ]
     },
     "execution_count": 117,
     "metadata": {},
     "output_type": "execute_result"
    }
   ],
   "source": [
    "# read the xarray from local file\n",
    "import xarray as xr\n",
    "ds_all=xr.open_dataset(f\"{data_path}/ds_all.nc\")\n",
    "ds_all['pressure']=-ds_all['pressure']\n",
    "ds_all"
   ]
  },
  {
   "cell_type": "code",
   "execution_count": 89,
   "id": "70d1cda4",
   "metadata": {},
   "outputs": [
    {
     "data": {
      "image/png": "[encoded data removed]",
      "text/plain": [
       "<Figure size 500x500 with 1 Axes>"
      ]
     },
     "metadata": {},
     "output_type": "display_data"
    }
   ],
   "source": [
    "# plot the locations of all data\n",
    "import plot_toolbox as ptb\n",
    "ptb.plot_data_location(ds_all,dpi=100)"
   ]
  },
  {
   "cell_type": "code",
   "execution_count": 118,
   "id": "a9470c22",
   "metadata": {},
   "outputs": [
    {
     "data": {
      "image/png": "[encoded data removed]",
      "text/plain": [
       "<Figure size 500x500 with 1 Axes>"
      ]
     },
     "metadata": {},
     "output_type": "display_data"
    }
   ],
   "source": [
    "# remove the data with lat<60\n",
    "ds_all=ds_all.where(ds_all.lat>60,drop=True)\n",
    "ptb.plot_data_location(ds_all,dpi=100)"
   ]
  },
  {
   "cell_type": "code",
   "execution_count": 119,
   "id": "0bf3315f",
   "metadata": {},
   "outputs": [
    {
     "data": {
      "text/html": [
       "<div><svg style=\"position: absolute; width: 0; height: 0; overflow: hidden\">\n",
       "<defs>\n",
       "<symbol id=\"icon-database\" viewBox=\"0 0 32 32\">\n",
       "<path d=\"M16 0c-8.837 0-16 2.239-16 5v4c0 2.761 7.163 5 16 5s16-2.239 16-5v-4c0-2.761-7.163-5-16-5z\"></path>\n",
       "<path d=\"M16 17c-8.837 0-16-2.239-16-5v6c0 2.761 7.163 5 16 5s16-2.239 16-5v-6c0 2.761-7.163 5-16 5z\"></path>\n",
       "<path d=\"M16 26c-8.837 0-16-2.239-16-5v6c0 2.761 7.163 5 16 5s16-2.239 16-5v-6c0 2.761-7.163 5-16 5z\"></path>\n",
       "</symbol>\n",
       "<symbol id=\"icon-file-text2\" viewBox=\"0 0 32 32\">\n",
       "<path d=\"M28.681 7.159c-0.694-0.947-1.662-2.053-2.724-3.116s-2.169-2.030-3.116-2.724c-1.612-1.182-2.393-1.319-2.841-1.319h-15.5c-1.378 0-2.5 1.121-2.5 2.5v27c0 1.378 1.122 2.5 2.5 2.5h23c1.378 0 2.5-1.122 2.5-2.5v-19.5c0-0.448-0.137-1.23-1.319-2.841zM24.543 5.457c0.959 0.959 1.712 1.825 2.268 2.543h-4.811v-4.811c0.718 0.556 1.584 1.309 2.543 2.268zM28 29.5c0 0.271-0.229 0.5-0.5 0.5h-23c-0.271 0-0.5-0.229-0.5-0.5v-27c0-0.271 0.229-0.5 0.5-0.5 0 0 15.499-0 15.5 0v7c0 0.552 0.448 1 1 1h7v19.5z\"></path>\n",
       "<path d=\"M23 26h-14c-0.552 0-1-0.448-1-1s0.448-1 1-1h14c0.552 0 1 0.448 1 1s-0.448 1-1 1z\"></path>\n",
       "<path d=\"M23 22h-14c-0.552 0-1-0.448-1-1s0.448-1 1-1h14c0.552 0 1 0.448 1 1s-0.448 1-1 1z\"></path>\n",
       "<path d=\"M23 18h-14c-0.552 0-1-0.448-1-1s0.448-1 1-1h14c0.552 0 1 0.448 1 1s-0.448 1-1 1z\"></path>\n",
       "</symbol>\n",
       "</defs>\n",
       "</svg>\n",
       "<style>/* CSS stylesheet for displaying xarray objects in jupyterlab.\n",
       " *\n",
       " */\n",
       "\n",
       ":root {\n",
       "  --xr-font-color0: var(--jp-content-font-color0, rgba(0, 0, 0, 1));\n",
       "  --xr-font-color2: var(--jp-content-font-color2, rgba(0, 0, 0, 0.54));\n",
       "  --xr-font-color3: var(--jp-content-font-color3, rgba(0, 0, 0, 0.38));\n",
       "  --xr-border-color: var(--jp-border-color2, #e0e0e0);\n",
       "  --xr-disabled-color: var(--jp-layout-color3, #bdbdbd);\n",
       "  --xr-background-color: var(--jp-layout-color0, white);\n",
       "  --xr-background-color-row-even: var(--jp-layout-color1, white);\n",
       "  --xr-background-color-row-odd: var(--jp-layout-color2, #eeeeee);\n",
       "}\n",
       "\n",
       "html[theme=dark],\n",
       "body[data-theme=dark],\n",
       "body.vscode-dark {\n",
       "  --xr-font-color0: rgba(255, 255, 255, 1);\n",
       "  --xr-font-color2: rgba(255, 255, 255, 0.54);\n",
       "  --xr-font-color3: rgba(255, 255, 255, 0.38);\n",
       "  --xr-border-color: #1F1F1F;\n",
       "  --xr-disabled-color: #515151;\n",
       "  --xr-background-color: #111111;\n",
       "  --xr-background-color-row-even: #111111;\n",
       "  --xr-background-color-row-odd: #313131;\n",
       "}\n",
       "\n",
       ".xr-wrap {\n",
       "  display: block !important;\n",
       "  min-width: 300px;\n",
       "  max-width: 700px;\n",
       "}\n",
       "\n",
       ".xr-text-repr-fallback {\n",
       "  /* fallback to plain text repr when CSS is not injected (untrusted notebook) */\n",
       "  display: none;\n",
       "}\n",
       "\n",
       ".xr-header {\n",
       "  padding-top: 6px;\n",
       "  padding-bottom: 6px;\n",
       "  margin-bottom: 4px;\n",
       "  border-bottom: solid 1px var(--xr-border-color);\n",
       "}\n",
       "\n",
       ".xr-header > div,\n",
       ".xr-header > ul {\n",
       "  display: inline;\n",
       "  margin-top: 0;\n",
       "  margin-bottom: 0;\n",
       "}\n",
       "\n",
       ".xr-obj-type,\n",
       ".xr-array-name {\n",
       "  margin-left: 2px;\n",
       "  margin-right: 10px;\n",
       "}\n",
       "\n",
       ".xr-obj-type {\n",
       "  color: var(--xr-font-color2);\n",
       "}\n",
       "\n",
       ".xr-sections {\n",
       "  padding-left: 0 !important;\n",
       "  display: grid;\n",
       "  grid-template-columns: 150px auto auto 1fr 20px 20px;\n",
       "}\n",
       "\n",
       ".xr-section-item {\n",
       "  display: contents;\n",
       "}\n",
       "\n",
       ".xr-section-item input {\n",
       "  display: none;\n",
       "}\n",
       "\n",
       ".xr-section-item input + label {\n",
       "  color: var(--xr-disabled-color);\n",
       "}\n",
       "\n",
       ".xr-section-item input:enabled + label {\n",
       "  cursor: pointer;\n",
       "  color: var(--xr-font-color2);\n",
       "}\n",
       "\n",
       ".xr-section-item input:enabled + label:hover {\n",
       "  color: var(--xr-font-color0);\n",
       "}\n",
       "\n",
       ".xr-section-summary {\n",
       "  grid-column: 1;\n",
       "  color: var(--xr-font-color2);\n",
       "  font-weight: 500;\n",
       "}\n",
       "\n",
       ".xr-section-summary > span {\n",
       "  display: inline-block;\n",
       "  padding-left: 0.5em;\n",
       "}\n",
       "\n",
       ".xr-section-summary-in:disabled + label {\n",
       "  color: var(--xr-font-color2);\n",
       "}\n",
       "\n",
       ".xr-section-summary-in + label:before {\n",
       "  display: inline-block;\n",
       "  content: '►';\n",
       "  font-size: 11px;\n",
       "  width: 15px;\n",
       "  text-align: center;\n",
       "}\n",
       "\n",
       ".xr-section-summary-in:disabled + label:before {\n",
       "  color: var(--xr-disabled-color);\n",
       "}\n",
       "\n",
       ".xr-section-summary-in:checked + label:before {\n",
       "  content: '▼';\n",
       "}\n",
       "\n",
       ".xr-section-summary-in:checked + label > span {\n",
       "  display: none;\n",
       "}\n",
       "\n",
       ".xr-section-summary,\n",
       ".xr-section-inline-details {\n",
       "  padding-top: 4px;\n",
       "  padding-bottom: 4px;\n",
       "}\n",
       "\n",
       ".xr-section-inline-details {\n",
       "  grid-column: 2 / -1;\n",
       "}\n",
       "\n",
       ".xr-section-details {\n",
       "  display: none;\n",
       "  grid-column: 1 / -1;\n",
       "  margin-bottom: 5px;\n",
       "}\n",
       "\n",
       ".xr-section-summary-in:checked ~ .xr-section-details {\n",
       "  display: contents;\n",
       "}\n",
       "\n",
       ".xr-array-wrap {\n",
       "  grid-column: 1 / -1;\n",
       "  display: grid;\n",
       "  grid-template-columns: 20px auto;\n",
       "}\n",
       "\n",
       ".xr-array-wrap > label {\n",
       "  grid-column: 1;\n",
       "  vertical-align: top;\n",
       "}\n",
       "\n",
       ".xr-preview {\n",
       "  color: var(--xr-font-color3);\n",
       "}\n",
       "\n",
       ".xr-array-preview,\n",
       ".xr-array-data {\n",
       "  padding: 0 5px !important;\n",
       "  grid-column: 2;\n",
       "}\n",
       "\n",
       ".xr-array-data,\n",
       ".xr-array-in:checked ~ .xr-array-preview {\n",
       "  display: none;\n",
       "}\n",
       "\n",
       ".xr-array-in:checked ~ .xr-array-data,\n",
       ".xr-array-preview {\n",
       "  display: inline-block;\n",
       "}\n",
       "\n",
       ".xr-dim-list {\n",
       "  display: inline-block !important;\n",
       "  list-style: none;\n",
       "  padding: 0 !important;\n",
       "  margin: 0;\n",
       "}\n",
       "\n",
       ".xr-dim-list li {\n",
       "  display: inline-block;\n",
       "  padding: 0;\n",
       "  margin: 0;\n",
       "}\n",
       "\n",
       ".xr-dim-list:before {\n",
       "  content: '(';\n",
       "}\n",
       "\n",
       ".xr-dim-list:after {\n",
       "  content: ')';\n",
       "}\n",
       "\n",
       ".xr-dim-list li:not(:last-child):after {\n",
       "  content: ',';\n",
       "  padding-right: 5px;\n",
       "}\n",
       "\n",
       ".xr-has-index {\n",
       "  font-weight: bold;\n",
       "}\n",
       "\n",
       ".xr-var-list,\n",
       ".xr-var-item {\n",
       "  display: contents;\n",
       "}\n",
       "\n",
       ".xr-var-item > div,\n",
       ".xr-var-item label,\n",
       ".xr-var-item > .xr-var-name span {\n",
       "  background-color: var(--xr-background-color-row-even);\n",
       "  margin-bottom: 0;\n",
       "}\n",
       "\n",
       ".xr-var-item > .xr-var-name:hover span {\n",
       "  padding-right: 5px;\n",
       "}\n",
       "\n",
       ".xr-var-list > li:nth-child(odd) > div,\n",
       ".xr-var-list > li:nth-child(odd) > label,\n",
       ".xr-var-list > li:nth-child(odd) > .xr-var-name span {\n",
       "  background-color: var(--xr-background-color-row-odd);\n",
       "}\n",
       "\n",
       ".xr-var-name {\n",
       "  grid-column: 1;\n",
       "}\n",
       "\n",
       ".xr-var-dims {\n",
       "  grid-column: 2;\n",
       "}\n",
       "\n",
       ".xr-var-dtype {\n",
       "  grid-column: 3;\n",
       "  text-align: right;\n",
       "  color: var(--xr-font-color2);\n",
       "}\n",
       "\n",
       ".xr-var-preview {\n",
       "  grid-column: 4;\n",
       "}\n",
       "\n",
       ".xr-index-preview {\n",
       "  grid-column: 2 / 5;\n",
       "  color: var(--xr-font-color2);\n",
       "}\n",
       "\n",
       ".xr-var-name,\n",
       ".xr-var-dims,\n",
       ".xr-var-dtype,\n",
       ".xr-preview,\n",
       ".xr-attrs dt {\n",
       "  white-space: nowrap;\n",
       "  overflow: hidden;\n",
       "  text-overflow: ellipsis;\n",
       "  padding-right: 10px;\n",
       "}\n",
       "\n",
       ".xr-var-name:hover,\n",
       ".xr-var-dims:hover,\n",
       ".xr-var-dtype:hover,\n",
       ".xr-attrs dt:hover {\n",
       "  overflow: visible;\n",
       "  width: auto;\n",
       "  z-index: 1;\n",
       "}\n",
       "\n",
       ".xr-var-attrs,\n",
       ".xr-var-data,\n",
       ".xr-index-data {\n",
       "  display: none;\n",
       "  background-color: var(--xr-background-color) !important;\n",
       "  padding-bottom: 5px !important;\n",
       "}\n",
       "\n",
       ".xr-var-attrs-in:checked ~ .xr-var-attrs,\n",
       ".xr-var-data-in:checked ~ .xr-var-data,\n",
       ".xr-index-data-in:checked ~ .xr-index-data {\n",
       "  display: block;\n",
       "}\n",
       "\n",
       ".xr-var-data > table {\n",
       "  float: right;\n",
       "}\n",
       "\n",
       ".xr-var-name span,\n",
       ".xr-var-data,\n",
       ".xr-index-name div,\n",
       ".xr-index-data,\n",
       ".xr-attrs {\n",
       "  padding-left: 25px !important;\n",
       "}\n",
       "\n",
       ".xr-attrs,\n",
       ".xr-var-attrs,\n",
       ".xr-var-data,\n",
       ".xr-index-data {\n",
       "  grid-column: 1 / -1;\n",
       "}\n",
       "\n",
       "dl.xr-attrs {\n",
       "  padding: 0;\n",
       "  margin: 0;\n",
       "  display: grid;\n",
       "  grid-template-columns: 125px auto;\n",
       "}\n",
       "\n",
       ".xr-attrs dt,\n",
       ".xr-attrs dd {\n",
       "  padding: 0;\n",
       "  margin: 0;\n",
       "  float: left;\n",
       "  padding-right: 10px;\n",
       "  width: auto;\n",
       "}\n",
       "\n",
       ".xr-attrs dt {\n",
       "  font-weight: normal;\n",
       "  grid-column: 1;\n",
       "}\n",
       "\n",
       ".xr-attrs dt:hover span {\n",
       "  display: inline-block;\n",
       "  background: var(--xr-background-color);\n",
       "  padding-right: 10px;\n",
       "}\n",
       "\n",
       ".xr-attrs dd {\n",
       "  grid-column: 2;\n",
       "  white-space: pre-wrap;\n",
       "  word-break: break-all;\n",
       "}\n",
       "\n",
       ".xr-icon-database,\n",
       ".xr-icon-file-text2,\n",
       ".xr-no-icon {\n",
       "  display: inline-block;\n",
       "  vertical-align: middle;\n",
       "  width: 1em;\n",
       "  height: 1.5em !important;\n",
       "  stroke-width: 0;\n",
       "  stroke: currentColor;\n",
       "  fill: currentColor;\n",
       "}\n",
       "</style><pre class='xr-text-repr-fallback'>&lt;xarray.Dataset&gt;\n",
       "Dimensions:      (nprof: 88492, pressure: 148)\n",
       "Coordinates:\n",
       "    profiler     (nprof) int32 100 100 100 100 100 100 100 100 ... 9 9 9 9 9 9 9\n",
       "    date         (nprof) datetime64[ns] 2017-09-20T00:02:04.416000 ... 2009-0...\n",
       "    lon          (nprof) float64 -149.2 -149.1 -148.8 ... -95.51 -95.29 -95.09\n",
       "    lat          (nprof) float64 80.04 80.07 80.1 80.12 ... 82.75 82.76 82.76\n",
       "  * pressure     (pressure) float64 -10.0 -15.0 -20.0 ... -735.0 -740.0 -745.0\n",
       "Dimensions without coordinates: nprof\n",
       "Data variables:\n",
       "    temperature  (nprof, pressure) float64 -1.495 -1.495 -1.342 ... 0.231 0.2258\n",
       "    salinity     (nprof, pressure) float64 27.8 27.81 28.08 ... 34.88 34.88</pre><div class='xr-wrap' style='display:none'><div class='xr-header'><div class='xr-obj-type'>xarray.Dataset</div></div><ul class='xr-sections'><li class='xr-section-item'><input id='section-5a036c8a-7b4b-4739-9f7f-01fe8d9621ab' class='xr-section-summary-in' type='checkbox' disabled ><label for='section-5a036c8a-7b4b-4739-9f7f-01fe8d9621ab' class='xr-section-summary'  title='Expand/collapse section'>Dimensions:</label><div class='xr-section-inline-details'><ul class='xr-dim-list'><li><span>nprof</span>: 88492</li><li><span class='xr-has-index'>pressure</span>: 148</li></ul></div><div class='xr-section-details'></div></li><li class='xr-section-item'><input id='section-a81c4b69-ba54-4e1a-b7c2-ac7967677255' class='xr-section-summary-in' type='checkbox'  checked><label for='section-a81c4b69-ba54-4e1a-b7c2-ac7967677255' class='xr-section-summary' >Coordinates: <span>(5)</span></label><div class='xr-section-inline-details'></div><div class='xr-section-details'><ul class='xr-var-list'><li class='xr-var-item'><div class='xr-var-name'><span>profiler</span></div><div class='xr-var-dims'>(nprof)</div><div class='xr-var-dtype'>int32</div><div class='xr-var-preview xr-preview'>100 100 100 100 100 ... 9 9 9 9 9</div><input id='attrs-aef8df05-80f6-4ad0-874d-8f76a8811843' class='xr-var-attrs-in' type='checkbox' disabled><label for='attrs-aef8df05-80f6-4ad0-874d-8f76a8811843' title='Show/Hide attributes'><svg class='icon xr-icon-file-text2'><use xlink:href='#icon-file-text2'></use></svg></label><input id='data-d987d9af-6acb-4f9a-aa83-35298a9c873e' class='xr-var-data-in' type='checkbox'><label for='data-d987d9af-6acb-4f9a-aa83-35298a9c873e' title='Show/Hide data repr'><svg class='icon xr-icon-database'><use xlink:href='#icon-database'></use></svg></label><div class='xr-var-attrs'><dl class='xr-attrs'></dl></div><div class='xr-var-data'><pre>array([100, 100, 100, ...,   9,   9,   9])</pre></div></li><li class='xr-var-item'><div class='xr-var-name'><span>date</span></div><div class='xr-var-dims'>(nprof)</div><div class='xr-var-dtype'>datetime64[ns]</div><div class='xr-var-preview xr-preview'>2017-09-20T00:02:04.416000 ... 2...</div><input id='attrs-1e71ba68-4bb7-4ce4-9042-7f248edf90ac' class='xr-var-attrs-in' type='checkbox' disabled><label for='attrs-1e71ba68-4bb7-4ce4-9042-7f248edf90ac' title='Show/Hide attributes'><svg class='icon xr-icon-file-text2'><use xlink:href='#icon-file-text2'></use></svg></label><input id='data-c8bf48f3-9d04-420d-9553-a043c0f31369' class='xr-var-data-in' type='checkbox'><label for='data-c8bf48f3-9d04-420d-9553-a043c0f31369' title='Show/Hide data repr'><svg class='icon xr-icon-database'><use xlink:href='#icon-database'></use></svg></label><div class='xr-var-attrs'><dl class='xr-attrs'></dl></div><div class='xr-var-data'><pre>array([&#x27;2017-09-20T00:02:04.416000000&#x27;, &#x27;2017-09-20T06:02:01.824000000&#x27;,\n",
       "       &#x27;2017-09-21T00:02:02.688000000&#x27;, ...,\n",
       "       &#x27;2009-01-15T00:24:18.432000000&#x27;, &#x27;2009-01-15T07:12:01.728000000&#x27;,\n",
       "       &#x27;2009-01-15T12:00:05.183999000&#x27;], dtype=&#x27;datetime64[ns]&#x27;)</pre></div></li><li class='xr-var-item'><div class='xr-var-name'><span>lon</span></div><div class='xr-var-dims'>(nprof)</div><div class='xr-var-dtype'>float64</div><div class='xr-var-preview xr-preview'>-149.2 -149.1 ... -95.29 -95.09</div><input id='attrs-c904c798-5305-40fd-9046-915cbb256937' class='xr-var-attrs-in' type='checkbox' disabled><label for='attrs-c904c798-5305-40fd-9046-915cbb256937' title='Show/Hide attributes'><svg class='icon xr-icon-file-text2'><use xlink:href='#icon-file-text2'></use></svg></label><input id='data-74a38d5e-d6ad-487d-91cc-8d857a17d86c' class='xr-var-data-in' type='checkbox'><label for='data-74a38d5e-d6ad-487d-91cc-8d857a17d86c' title='Show/Hide data repr'><svg class='icon xr-icon-database'><use xlink:href='#icon-database'></use></svg></label><div class='xr-var-attrs'><dl class='xr-attrs'></dl></div><div class='xr-var-data'><pre>array([-149.1544, -149.1395, -148.7704, ...,  -95.5062,  -95.2933,\n",
       "        -95.0876])</pre></div></li><li class='xr-var-item'><div class='xr-var-name'><span>lat</span></div><div class='xr-var-dims'>(nprof)</div><div class='xr-var-dtype'>float64</div><div class='xr-var-preview xr-preview'>80.04 80.07 80.1 ... 82.76 82.76</div><input id='attrs-0f7c9c84-24e0-4733-bfa1-3b9850c543aa' class='xr-var-attrs-in' type='checkbox' disabled><label for='attrs-0f7c9c84-24e0-4733-bfa1-3b9850c543aa' title='Show/Hide attributes'><svg class='icon xr-icon-file-text2'><use xlink:href='#icon-file-text2'></use></svg></label><input id='data-328bbb50-9d2f-4b22-b58a-61c936ef9e99' class='xr-var-data-in' type='checkbox'><label for='data-328bbb50-9d2f-4b22-b58a-61c936ef9e99' title='Show/Hide data repr'><svg class='icon xr-icon-database'><use xlink:href='#icon-database'></use></svg></label><div class='xr-var-attrs'><dl class='xr-attrs'></dl></div><div class='xr-var-data'><pre>array([80.0378, 80.069 , 80.0992, ..., 82.7462, 82.7572, 82.7638])</pre></div></li><li class='xr-var-item'><div class='xr-var-name'><span class='xr-has-index'>pressure</span></div><div class='xr-var-dims'>(pressure)</div><div class='xr-var-dtype'>float64</div><div class='xr-var-preview xr-preview'>-10.0 -15.0 -20.0 ... -740.0 -745.0</div><input id='attrs-e79c580f-db7a-4ccb-a65b-2e6a2fdcaac8' class='xr-var-attrs-in' type='checkbox' disabled><label for='attrs-e79c580f-db7a-4ccb-a65b-2e6a2fdcaac8' title='Show/Hide attributes'><svg class='icon xr-icon-file-text2'><use xlink:href='#icon-file-text2'></use></svg></label><input id='data-5d5ee7c4-1f9a-45b2-b499-e8a5942ba44f' class='xr-var-data-in' type='checkbox'><label for='data-5d5ee7c4-1f9a-45b2-b499-e8a5942ba44f' title='Show/Hide data repr'><svg class='icon xr-icon-database'><use xlink:href='#icon-database'></use></svg></label><div class='xr-var-attrs'><dl class='xr-attrs'></dl></div><div class='xr-var-data'><pre>array([ -10.,  -15.,  -20.,  -25.,  -30.,  -35.,  -40.,  -45.,  -50.,  -55.,\n",
       "        -60.,  -65.,  -70.,  -75.,  -80.,  -85.,  -90.,  -95., -100., -105.,\n",
       "       -110., -115., -120., -125., -130., -135., -140., -145., -150., -155.,\n",
       "       -160., -165., -170., -175., -180., -185., -190., -195., -200., -205.,\n",
       "       -210., -215., -220., -225., -230., -235., -240., -245., -250., -255.,\n",
       "       -260., -265., -270., -275., -280., -285., -290., -295., -300., -305.,\n",
       "       -310., -315., -320., -325., -330., -335., -340., -345., -350., -355.,\n",
       "       -360., -365., -370., -375., -380., -385., -390., -395., -400., -405.,\n",
       "       -410., -415., -420., -425., -430., -435., -440., -445., -450., -455.,\n",
       "       -460., -465., -470., -475., -480., -485., -490., -495., -500., -505.,\n",
       "       -510., -515., -520., -525., -530., -535., -540., -545., -550., -555.,\n",
       "       -560., -565., -570., -575., -580., -585., -590., -595., -600., -605.,\n",
       "       -610., -615., -620., -625., -630., -635., -640., -645., -650., -655.,\n",
       "       -660., -665., -670., -675., -680., -685., -690., -695., -700., -705.,\n",
       "       -710., -715., -720., -725., -730., -735., -740., -745.])</pre></div></li></ul></div></li><li class='xr-section-item'><input id='section-14faa9f5-12f0-4ea5-9754-d582ba52266c' class='xr-section-summary-in' type='checkbox'  checked><label for='section-14faa9f5-12f0-4ea5-9754-d582ba52266c' class='xr-section-summary' >Data variables: <span>(2)</span></label><div class='xr-section-inline-details'></div><div class='xr-section-details'><ul class='xr-var-list'><li class='xr-var-item'><div class='xr-var-name'><span>temperature</span></div><div class='xr-var-dims'>(nprof, pressure)</div><div class='xr-var-dtype'>float64</div><div class='xr-var-preview xr-preview'>-1.495 -1.495 ... 0.231 0.2258</div><input id='attrs-67bd72be-a1b3-4fd4-828a-4973343881a9' class='xr-var-attrs-in' type='checkbox' disabled><label for='attrs-67bd72be-a1b3-4fd4-828a-4973343881a9' title='Show/Hide attributes'><svg class='icon xr-icon-file-text2'><use xlink:href='#icon-file-text2'></use></svg></label><input id='data-16c00d35-9e35-4a66-9b04-61e0e78c3f8e' class='xr-var-data-in' type='checkbox'><label for='data-16c00d35-9e35-4a66-9b04-61e0e78c3f8e' title='Show/Hide data repr'><svg class='icon xr-icon-database'><use xlink:href='#icon-database'></use></svg></label><div class='xr-var-attrs'><dl class='xr-attrs'></dl></div><div class='xr-var-data'><pre>array([[-1.4952    , -1.4949    , -1.3418    , ...,  0.3476    ,\n",
       "         0.34165   ,  0.32863   ],\n",
       "       [        nan,         nan,         nan, ...,  0.3604    ,\n",
       "         0.349     ,  0.33879   ],\n",
       "       [-1.5139    , -1.5131    , -1.4878    , ...,  0.35241   ,\n",
       "         0.33981   ,  0.3305    ],\n",
       "       ...,\n",
       "       [-1.62180909, -1.62132727, -1.62070909, ...,  0.23908   ,\n",
       "         0.2263    ,  0.2201    ],\n",
       "       [-1.6221    , -1.6221    , -1.6217    , ...,         nan,\n",
       "                nan,         nan],\n",
       "       [        nan, -1.62099677, -1.6204    , ...,  0.2349    ,\n",
       "         0.231     ,  0.2258    ]])</pre></div></li><li class='xr-var-item'><div class='xr-var-name'><span>salinity</span></div><div class='xr-var-dims'>(nprof, pressure)</div><div class='xr-var-dtype'>float64</div><div class='xr-var-preview xr-preview'>27.8 27.81 28.08 ... 34.88 34.88</div><input id='attrs-27c3f82e-71e1-422d-b2cb-dcbea72bea8a' class='xr-var-attrs-in' type='checkbox' disabled><label for='attrs-27c3f82e-71e1-422d-b2cb-dcbea72bea8a' title='Show/Hide attributes'><svg class='icon xr-icon-file-text2'><use xlink:href='#icon-file-text2'></use></svg></label><input id='data-10786285-fadf-406e-814f-b3261614e9a8' class='xr-var-data-in' type='checkbox'><label for='data-10786285-fadf-406e-814f-b3261614e9a8' title='Show/Hide data repr'><svg class='icon xr-icon-database'><use xlink:href='#icon-database'></use></svg></label><div class='xr-var-attrs'><dl class='xr-attrs'></dl></div><div class='xr-var-data'><pre>array([[27.8048    , 27.8084    , 28.0753    , ..., 34.8645    ,\n",
       "        34.86468   , 34.86467   ],\n",
       "       [        nan,         nan,         nan, ..., 34.8646    ,\n",
       "        34.8644    , 34.86454   ],\n",
       "       [27.9807    , 28.2575    , 28.5077    , ..., 34.86478   ,\n",
       "        34.86483   , 34.86579   ],\n",
       "       ...,\n",
       "       [29.78349091, 29.78452727, 29.78638182, ..., 34.87723   ,\n",
       "        34.8787    , 34.8785    ],\n",
       "       [29.7837    , 29.7839    , 29.7855    , ...,         nan,\n",
       "                nan,         nan],\n",
       "       [        nan, 29.78573548, 29.7904    , ..., 34.8772    ,\n",
       "        34.8771    , 34.8776    ]])</pre></div></li></ul></div></li><li class='xr-section-item'><input id='section-4075bbf6-4ada-46ed-a1b2-0de22b2fd4c5' class='xr-section-summary-in' type='checkbox'  ><label for='section-4075bbf6-4ada-46ed-a1b2-0de22b2fd4c5' class='xr-section-summary' >Indexes: <span>(1)</span></label><div class='xr-section-inline-details'></div><div class='xr-section-details'><ul class='xr-var-list'><li class='xr-var-item'><div class='xr-index-name'><div>pressure</div></div><div class='xr-index-preview'>PandasIndex</div><div></div><input id='index-275959ae-28db-45e8-af67-8e7b991bb407' class='xr-index-data-in' type='checkbox'/><label for='index-275959ae-28db-45e8-af67-8e7b991bb407' title='Show/Hide index repr'><svg class='icon xr-icon-database'><use xlink:href='#icon-database'></use></svg></label><div class='xr-index-data'><pre>PandasIndex(Float64Index([ -10.0,  -15.0,  -20.0,  -25.0,  -30.0,  -35.0,  -40.0,  -45.0,\n",
       "               -50.0,  -55.0,\n",
       "              ...\n",
       "              -700.0, -705.0, -710.0, -715.0, -720.0, -725.0, -730.0, -735.0,\n",
       "              -740.0, -745.0],\n",
       "             dtype=&#x27;float64&#x27;, name=&#x27;pressure&#x27;, length=148))</pre></div></li></ul></div></li><li class='xr-section-item'><input id='section-c9663111-27cb-43d6-ac71-115a7acce39b' class='xr-section-summary-in' type='checkbox' disabled ><label for='section-c9663111-27cb-43d6-ac71-115a7acce39b' class='xr-section-summary'  title='Expand/collapse section'>Attributes: <span>(0)</span></label><div class='xr-section-inline-details'></div><div class='xr-section-details'><dl class='xr-attrs'></dl></div></li></ul></div></div>"
      ],
      "text/plain": [
       "<xarray.Dataset>\n",
       "Dimensions:      (nprof: 88492, pressure: 148)\n",
       "Coordinates:\n",
       "    profiler     (nprof) int32 100 100 100 100 100 100 100 100 ... 9 9 9 9 9 9 9\n",
       "    date         (nprof) datetime64[ns] 2017-09-20T00:02:04.416000 ... 2009-0...\n",
       "    lon          (nprof) float64 -149.2 -149.1 -148.8 ... -95.51 -95.29 -95.09\n",
       "    lat          (nprof) float64 80.04 80.07 80.1 80.12 ... 82.75 82.76 82.76\n",
       "  * pressure     (pressure) float64 -10.0 -15.0 -20.0 ... -735.0 -740.0 -745.0\n",
       "Dimensions without coordinates: nprof\n",
       "Data variables:\n",
       "    temperature  (nprof, pressure) float64 -1.495 -1.495 -1.342 ... 0.231 0.2258\n",
       "    salinity     (nprof, pressure) float64 27.8 27.81 28.08 ... 34.88 34.88"
      ]
     },
     "execution_count": 119,
     "metadata": {},
     "output_type": "execute_result"
    }
   ],
   "source": [
    "ds_all"
   ]
  },
  {
   "cell_type": "code",
   "execution_count": 110,
   "id": "6449e499",
   "metadata": {},
   "outputs": [
    {
     "data": {
      "application/vnd.plotly.v1+json": {
       "config": {
        "plotlyServerURL": "https://plot.ly"
       },
       "data": [
        {
         "mode": "markers",
         "type": "scatter",
         "x": [
          -400,
          -410,
          -420,
          -430,
          -440,
          -450,
          -460,
          -470,
          -480,
          -490,
          -500,
          -510,
          -520,
          -530,
          -540,
          -550,
          -560,
          -570,
          -580,
          -590,
          -600,
          -610,
          -620,
          -630,
          -640,
          -650,
          -660,
          -670,
          -680,
          -690,
          -700,
          -710,
          -720,
          -730,
          -740
         ],
         "y": [
          48353,
          48311,
          48228,
          48204,
          48178,
          48145,
          48039,
          48001,
          47961,
          47923,
          47890,
          47460,
          45685,
          45673,
          45652,
          45640,
          45621,
          45605,
          45590,
          45573,
          45545,
          45524,
          45501,
          45474,
          45453,
          45432,
          45417,
          45393,
          45341,
          45294,
          45226,
          45165,
          45111,
          45026,
          44859
         ]
        }
       ],
       "layout": {
        "template": {
         "data": {
          "bar": [
           {
            "error_x": {
             "color": "#2a3f5f"
            },
            "error_y": {
             "color": "#2a3f5f"
            },
            "marker": {
             "line": {
              "color": "#E5ECF6",
              "width": 0.5
             },
             "pattern": {
              "fillmode": "overlay",
              "size": 10,
              "solidity": 0.2
             }
            },
            "type": "bar"
           }
          ],
          "barpolar": [
           {
            "marker": {
             "line": {
              "color": "#E5ECF6",
              "width": 0.5
             },
             "pattern": {
              "fillmode": "overlay",
              "size": 10,
              "solidity": 0.2
             }
            },
            "type": "barpolar"
           }
          ],
          "carpet": [
           {
            "aaxis": {
             "endlinecolor": "#2a3f5f",
             "gridcolor": "white",
             "linecolor": "white",
             "minorgridcolor": "white",
             "startlinecolor": "#2a3f5f"
            },
            "baxis": {
             "endlinecolor": "#2a3f5f",
             "gridcolor": "white",
             "linecolor": "white",
             "minorgridcolor": "white",
             "startlinecolor": "#2a3f5f"
            },
            "type": "carpet"
           }
          ],
          "choropleth": [
           {
            "colorbar": {
             "outlinewidth": 0,
             "ticks": ""
            },
            "type": "choropleth"
           }
          ],
          "contour": [
           {
            "colorbar": {
             "outlinewidth": 0,
             "ticks": ""
            },
            "colorscale": [
             [
              0,
              "#0d0887"
             ],
             [
              0.1111111111111111,
              "#46039f"
             ],
             [
              0.2222222222222222,
              "#7201a8"
             ],
             [
              0.3333333333333333,
              "#9c179e"
             ],
             [
              0.4444444444444444,
              "#bd3786"
             ],
             [
              0.5555555555555556,
              "#d8576b"
             ],
             [
              0.6666666666666666,
              "#ed7953"
             ],
             [
              0.7777777777777778,
              "#fb9f3a"
             ],
             [
              0.8888888888888888,
              "#fdca26"
             ],
             [
              1,
              "#f0f921"
             ]
            ],
            "type": "contour"
           }
          ],
          "contourcarpet": [
           {
            "colorbar": {
             "outlinewidth": 0,
             "ticks": ""
            },
            "type": "contourcarpet"
           }
          ],
          "heatmap": [
           {
            "colorbar": {
             "outlinewidth": 0,
             "ticks": ""
            },
            "colorscale": [
             [
              0,
              "#0d0887"
             ],
             [
              0.1111111111111111,
              "#46039f"
             ],
             [
              0.2222222222222222,
              "#7201a8"
             ],
             [
              0.3333333333333333,
              "#9c179e"
             ],
             [
              0.4444444444444444,
              "#bd3786"
             ],
             [
              0.5555555555555556,
              "#d8576b"
             ],
             [
              0.6666666666666666,
              "#ed7953"
             ],
             [
              0.7777777777777778,
              "#fb9f3a"
             ],
             [
              0.8888888888888888,
              "#fdca26"
             ],
             [
              1,
              "#f0f921"
             ]
            ],
            "type": "heatmap"
           }
          ],
          "heatmapgl": [
           {
            "colorbar": {
             "outlinewidth": 0,
             "ticks": ""
            },
            "colorscale": [
             [
              0,
              "#0d0887"
             ],
             [
              0.1111111111111111,
              "#46039f"
             ],
             [
              0.2222222222222222,
              "#7201a8"
             ],
             [
              0.3333333333333333,
              "#9c179e"
             ],
             [
              0.4444444444444444,
              "#bd3786"
             ],
             [
              0.5555555555555556,
              "#d8576b"
             ],
             [
              0.6666666666666666,
              "#ed7953"
             ],
             [
              0.7777777777777778,
              "#fb9f3a"
             ],
             [
              0.8888888888888888,
              "#fdca26"
             ],
             [
              1,
              "#f0f921"
             ]
            ],
            "type": "heatmapgl"
           }
          ],
          "histogram": [
           {
            "marker": {
             "pattern": {
              "fillmode": "overlay",
              "size": 10,
              "solidity": 0.2
             }
            },
            "type": "histogram"
           }
          ],
          "histogram2d": [
           {
            "colorbar": {
             "outlinewidth": 0,
             "ticks": ""
            },
            "colorscale": [
             [
              0,
              "#0d0887"
             ],
             [
              0.1111111111111111,
              "#46039f"
             ],
             [
              0.2222222222222222,
              "#7201a8"
             ],
             [
              0.3333333333333333,
              "#9c179e"
             ],
             [
              0.4444444444444444,
              "#bd3786"
             ],
             [
              0.5555555555555556,
              "#d8576b"
             ],
             [
              0.6666666666666666,
              "#ed7953"
             ],
             [
              0.7777777777777778,
              "#fb9f3a"
             ],
             [
              0.8888888888888888,
              "#fdca26"
             ],
             [
              1,
              "#f0f921"
             ]
            ],
            "type": "histogram2d"
           }
          ],
          "histogram2dcontour": [
           {
            "colorbar": {
             "outlinewidth": 0,
             "ticks": ""
            },
            "colorscale": [
             [
              0,
              "#0d0887"
             ],
             [
              0.1111111111111111,
              "#46039f"
             ],
             [
              0.2222222222222222,
              "#7201a8"
             ],
             [
              0.3333333333333333,
              "#9c179e"
             ],
             [
              0.4444444444444444,
              "#bd3786"
             ],
             [
              0.5555555555555556,
              "#d8576b"
             ],
             [
              0.6666666666666666,
              "#ed7953"
             ],
             [
              0.7777777777777778,
              "#fb9f3a"
             ],
             [
              0.8888888888888888,
              "#fdca26"
             ],
             [
              1,
              "#f0f921"
             ]
            ],
            "type": "histogram2dcontour"
           }
          ],
          "mesh3d": [
           {
            "colorbar": {
             "outlinewidth": 0,
             "ticks": ""
            },
            "type": "mesh3d"
           }
          ],
          "parcoords": [
           {
            "line": {
             "colorbar": {
              "outlinewidth": 0,
              "ticks": ""
             }
            },
            "type": "parcoords"
           }
          ],
          "pie": [
           {
            "automargin": true,
            "type": "pie"
           }
          ],
          "scatter": [
           {
            "fillpattern": {
             "fillmode": "overlay",
             "size": 10,
             "solidity": 0.2
            },
            "type": "scatter"
           }
          ],
          "scatter3d": [
           {
            "line": {
             "colorbar": {
              "outlinewidth": 0,
              "ticks": ""
             }
            },
            "marker": {
             "colorbar": {
              "outlinewidth": 0,
              "ticks": ""
             }
            },
            "type": "scatter3d"
           }
          ],
          "scattercarpet": [
           {
            "marker": {
             "colorbar": {
              "outlinewidth": 0,
              "ticks": ""
             }
            },
            "type": "scattercarpet"
           }
          ],
          "scattergeo": [
           {
            "marker": {
             "colorbar": {
              "outlinewidth": 0,
              "ticks": ""
             }
            },
            "type": "scattergeo"
           }
          ],
          "scattergl": [
           {
            "marker": {
             "colorbar": {
              "outlinewidth": 0,
              "ticks": ""
             }
            },
            "type": "scattergl"
           }
          ],
          "scattermapbox": [
           {
            "marker": {
             "colorbar": {
              "outlinewidth": 0,
              "ticks": ""
             }
            },
            "type": "scattermapbox"
           }
          ],
          "scatterpolar": [
           {
            "marker": {
             "colorbar": {
              "outlinewidth": 0,
              "ticks": ""
             }
            },
            "type": "scatterpolar"
           }
          ],
          "scatterpolargl": [
           {
            "marker": {
             "colorbar": {
              "outlinewidth": 0,
              "ticks": ""
             }
            },
            "type": "scatterpolargl"
           }
          ],
          "scatterternary": [
           {
            "marker": {
             "colorbar": {
              "outlinewidth": 0,
              "ticks": ""
             }
            },
            "type": "scatterternary"
           }
          ],
          "surface": [
           {
            "colorbar": {
             "outlinewidth": 0,
             "ticks": ""
            },
            "colorscale": [
             [
              0,
              "#0d0887"
             ],
             [
              0.1111111111111111,
              "#46039f"
             ],
             [
              0.2222222222222222,
              "#7201a8"
             ],
             [
              0.3333333333333333,
              "#9c179e"
             ],
             [
              0.4444444444444444,
              "#bd3786"
             ],
             [
              0.5555555555555556,
              "#d8576b"
             ],
             [
              0.6666666666666666,
              "#ed7953"
             ],
             [
              0.7777777777777778,
              "#fb9f3a"
             ],
             [
              0.8888888888888888,
              "#fdca26"
             ],
             [
              1,
              "#f0f921"
             ]
            ],
            "type": "surface"
           }
          ],
          "table": [
           {
            "cells": {
             "fill": {
              "color": "#EBF0F8"
             },
             "line": {
              "color": "white"
             }
            },
            "header": {
             "fill": {
              "color": "#C8D4E3"
             },
             "line": {
              "color": "white"
             }
            },
            "type": "table"
           }
          ]
         },
         "layout": {
          "annotationdefaults": {
           "arrowcolor": "#2a3f5f",
           "arrowhead": 0,
           "arrowwidth": 1
          },
          "autotypenumbers": "strict",
          "coloraxis": {
           "colorbar": {
            "outlinewidth": 0,
            "ticks": ""
           }
          },
          "colorscale": {
           "diverging": [
            [
             0,
             "#8e0152"
            ],
            [
             0.1,
             "#c51b7d"
            ],
            [
             0.2,
             "#de77ae"
            ],
            [
             0.3,
             "#f1b6da"
            ],
            [
             0.4,
             "#fde0ef"
            ],
            [
             0.5,
             "#f7f7f7"
            ],
            [
             0.6,
             "#e6f5d0"
            ],
            [
             0.7,
             "#b8e186"
            ],
            [
             0.8,
             "#7fbc41"
            ],
            [
             0.9,
             "#4d9221"
            ],
            [
             1,
             "#276419"
            ]
           ],
           "sequential": [
            [
             0,
             "#0d0887"
            ],
            [
             0.1111111111111111,
             "#46039f"
            ],
            [
             0.2222222222222222,
             "#7201a8"
            ],
            [
             0.3333333333333333,
             "#9c179e"
            ],
            [
             0.4444444444444444,
             "#bd3786"
            ],
            [
             0.5555555555555556,
             "#d8576b"
            ],
            [
             0.6666666666666666,
             "#ed7953"
            ],
            [
             0.7777777777777778,
             "#fb9f3a"
            ],
            [
             0.8888888888888888,
             "#fdca26"
            ],
            [
             1,
             "#f0f921"
            ]
           ],
           "sequentialminus": [
            [
             0,
             "#0d0887"
            ],
            [
             0.1111111111111111,
             "#46039f"
            ],
            [
             0.2222222222222222,
             "#7201a8"
            ],
            [
             0.3333333333333333,
             "#9c179e"
            ],
            [
             0.4444444444444444,
             "#bd3786"
            ],
            [
             0.5555555555555556,
             "#d8576b"
            ],
            [
             0.6666666666666666,
             "#ed7953"
            ],
            [
             0.7777777777777778,
             "#fb9f3a"
            ],
            [
             0.8888888888888888,
             "#fdca26"
            ],
            [
             1,
             "#f0f921"
            ]
           ]
          },
          "colorway": [
           "#636efa",
           "#EF553B",
           "#00cc96",
           "#ab63fa",
           "#FFA15A",
           "#19d3f3",
           "#FF6692",
           "#B6E880",
           "#FF97FF",
           "#FECB52"
          ],
          "font": {
           "color": "#2a3f5f"
          },
          "geo": {
           "bgcolor": "white",
           "lakecolor": "white",
           "landcolor": "#E5ECF6",
           "showlakes": true,
           "showland": true,
           "subunitcolor": "white"
          },
          "hoverlabel": {
           "align": "left"
          },
          "hovermode": "closest",
          "mapbox": {
           "style": "light"
          },
          "paper_bgcolor": "white",
          "plot_bgcolor": "#E5ECF6",
          "polar": {
           "angularaxis": {
            "gridcolor": "white",
            "linecolor": "white",
            "ticks": ""
           },
           "bgcolor": "#E5ECF6",
           "radialaxis": {
            "gridcolor": "white",
            "linecolor": "white",
            "ticks": ""
           }
          },
          "scene": {
           "xaxis": {
            "backgroundcolor": "#E5ECF6",
            "gridcolor": "white",
            "gridwidth": 2,
            "linecolor": "white",
            "showbackground": true,
            "ticks": "",
            "zerolinecolor": "white"
           },
           "yaxis": {
            "backgroundcolor": "#E5ECF6",
            "gridcolor": "white",
            "gridwidth": 2,
            "linecolor": "white",
            "showbackground": true,
            "ticks": "",
            "zerolinecolor": "white"
           },
           "zaxis": {
            "backgroundcolor": "#E5ECF6",
            "gridcolor": "white",
            "gridwidth": 2,
            "linecolor": "white",
            "showbackground": true,
            "ticks": "",
            "zerolinecolor": "white"
           }
          },
          "shapedefaults": {
           "line": {
            "color": "#2a3f5f"
           }
          },
          "ternary": {
           "aaxis": {
            "gridcolor": "white",
            "linecolor": "white",
            "ticks": ""
           },
           "baxis": {
            "gridcolor": "white",
            "linecolor": "white",
            "ticks": ""
           },
           "bgcolor": "#E5ECF6",
           "caxis": {
            "gridcolor": "white",
            "linecolor": "white",
            "ticks": ""
           }
          },
          "title": {
           "x": 0.05
          },
          "xaxis": {
           "automargin": true,
           "gridcolor": "white",
           "linecolor": "white",
           "ticks": "",
           "title": {
            "standoff": 15
           },
           "zerolinecolor": "white",
           "zerolinewidth": 2
          },
          "yaxis": {
           "automargin": true,
           "gridcolor": "white",
           "linecolor": "white",
           "ticks": "",
           "title": {
            "standoff": 15
           },
           "zerolinecolor": "white",
           "zerolinewidth": 2
          }
         }
        },
        "title": {
         "text": "Size vs Pend Plot"
        },
        "xaxis": {
         "title": {
          "text": "Pend"
         }
        },
        "yaxis": {
         "title": {
          "text": "Size"
         }
        }
       }
      }
     },
     "metadata": {},
     "output_type": "display_data"
    }
   ],
   "source": [
    "# choose the proper cut-off pressure for temperature and salinity\n",
    "pstart=-10.\n",
    "pend=np.arange(-400,-745,-10)\n",
    "\n",
    "# store the size of the dataset after each iteration\n",
    "nprof_size = []\n",
    "\n",
    "for p in pend:\n",
    "    ds_cleaned=ds_all.sel(pressure=slice(pstart,p)).dropna('nprof')\n",
    "    nprof_size.append(ds_cleaned.nprof.size)\n",
    "\n",
    "# plot the size vs pend\n",
    "import plotly.graph_objs as go\n",
    "\n",
    "fig = go.Figure(data=go.Scatter(x=pend, y=nprof_size, mode='markers'))\n",
    "fig.update_layout(title='Size vs Pend Plot',\n",
    "                  xaxis_title='Pend',\n",
    "                  yaxis_title='Size')\n",
    "fig.show()\n",
    "\n"
   ]
  },
  {
   "cell_type": "code",
   "execution_count": 121,
   "id": "922002f4",
   "metadata": {},
   "outputs": [
    {
     "data": {
      "text/html": [
       "<div><svg style=\"position: absolute; width: 0; height: 0; overflow: hidden\">\n",
       "<defs>\n",
       "<symbol id=\"icon-database\" viewBox=\"0 0 32 32\">\n",
       "<path d=\"M16 0c-8.837 0-16 2.239-16 5v4c0 2.761 7.163 5 16 5s16-2.239 16-5v-4c0-2.761-7.163-5-16-5z\"></path>\n",
       "<path d=\"M16 17c-8.837 0-16-2.239-16-5v6c0 2.761 7.163 5 16 5s16-2.239 16-5v-6c0 2.761-7.163 5-16 5z\"></path>\n",
       "<path d=\"M16 26c-8.837 0-16-2.239-16-5v6c0 2.761 7.163 5 16 5s16-2.239 16-5v-6c0 2.761-7.163 5-16 5z\"></path>\n",
       "</symbol>\n",
       "<symbol id=\"icon-file-text2\" viewBox=\"0 0 32 32\">\n",
       "<path d=\"M28.681 7.159c-0.694-0.947-1.662-2.053-2.724-3.116s-2.169-2.030-3.116-2.724c-1.612-1.182-2.393-1.319-2.841-1.319h-15.5c-1.378 0-2.5 1.121-2.5 2.5v27c0 1.378 1.122 2.5 2.5 2.5h23c1.378 0 2.5-1.122 2.5-2.5v-19.5c0-0.448-0.137-1.23-1.319-2.841zM24.543 5.457c0.959 0.959 1.712 1.825 2.268 2.543h-4.811v-4.811c0.718 0.556 1.584 1.309 2.543 2.268zM28 29.5c0 0.271-0.229 0.5-0.5 0.5h-23c-0.271 0-0.5-0.229-0.5-0.5v-27c0-0.271 0.229-0.5 0.5-0.5 0 0 15.499-0 15.5 0v7c0 0.552 0.448 1 1 1h7v19.5z\"></path>\n",
       "<path d=\"M23 26h-14c-0.552 0-1-0.448-1-1s0.448-1 1-1h14c0.552 0 1 0.448 1 1s-0.448 1-1 1z\"></path>\n",
       "<path d=\"M23 22h-14c-0.552 0-1-0.448-1-1s0.448-1 1-1h14c0.552 0 1 0.448 1 1s-0.448 1-1 1z\"></path>\n",
       "<path d=\"M23 18h-14c-0.552 0-1-0.448-1-1s0.448-1 1-1h14c0.552 0 1 0.448 1 1s-0.448 1-1 1z\"></path>\n",
       "</symbol>\n",
       "</defs>\n",
       "</svg>\n",
       "<style>/* CSS stylesheet for displaying xarray objects in jupyterlab.\n",
       " *\n",
       " */\n",
       "\n",
       ":root {\n",
       "  --xr-font-color0: var(--jp-content-font-color0, rgba(0, 0, 0, 1));\n",
       "  --xr-font-color2: var(--jp-content-font-color2, rgba(0, 0, 0, 0.54));\n",
       "  --xr-font-color3: var(--jp-content-font-color3, rgba(0, 0, 0, 0.38));\n",
       "  --xr-border-color: var(--jp-border-color2, #e0e0e0);\n",
       "  --xr-disabled-color: var(--jp-layout-color3, #bdbdbd);\n",
       "  --xr-background-color: var(--jp-layout-color0, white);\n",
       "  --xr-background-color-row-even: var(--jp-layout-color1, white);\n",
       "  --xr-background-color-row-odd: var(--jp-layout-color2, #eeeeee);\n",
       "}\n",
       "\n",
       "html[theme=dark],\n",
       "body[data-theme=dark],\n",
       "body.vscode-dark {\n",
       "  --xr-font-color0: rgba(255, 255, 255, 1);\n",
       "  --xr-font-color2: rgba(255, 255, 255, 0.54);\n",
       "  --xr-font-color3: rgba(255, 255, 255, 0.38);\n",
       "  --xr-border-color: #1F1F1F;\n",
       "  --xr-disabled-color: #515151;\n",
       "  --xr-background-color: #111111;\n",
       "  --xr-background-color-row-even: #111111;\n",
       "  --xr-background-color-row-odd: #313131;\n",
       "}\n",
       "\n",
       ".xr-wrap {\n",
       "  display: block !important;\n",
       "  min-width: 300px;\n",
       "  max-width: 700px;\n",
       "}\n",
       "\n",
       ".xr-text-repr-fallback {\n",
       "  /* fallback to plain text repr when CSS is not injected (untrusted notebook) */\n",
       "  display: none;\n",
       "}\n",
       "\n",
       ".xr-header {\n",
       "  padding-top: 6px;\n",
       "  padding-bottom: 6px;\n",
       "  margin-bottom: 4px;\n",
       "  border-bottom: solid 1px var(--xr-border-color);\n",
       "}\n",
       "\n",
       ".xr-header > div,\n",
       ".xr-header > ul {\n",
       "  display: inline;\n",
       "  margin-top: 0;\n",
       "  margin-bottom: 0;\n",
       "}\n",
       "\n",
       ".xr-obj-type,\n",
       ".xr-array-name {\n",
       "  margin-left: 2px;\n",
       "  margin-right: 10px;\n",
       "}\n",
       "\n",
       ".xr-obj-type {\n",
       "  color: var(--xr-font-color2);\n",
       "}\n",
       "\n",
       ".xr-sections {\n",
       "  padding-left: 0 !important;\n",
       "  display: grid;\n",
       "  grid-template-columns: 150px auto auto 1fr 20px 20px;\n",
       "}\n",
       "\n",
       ".xr-section-item {\n",
       "  display: contents;\n",
       "}\n",
       "\n",
       ".xr-section-item input {\n",
       "  display: none;\n",
       "}\n",
       "\n",
       ".xr-section-item input + label {\n",
       "  color: var(--xr-disabled-color);\n",
       "}\n",
       "\n",
       ".xr-section-item input:enabled + label {\n",
       "  cursor: pointer;\n",
       "  color: var(--xr-font-color2);\n",
       "}\n",
       "\n",
       ".xr-section-item input:enabled + label:hover {\n",
       "  color: var(--xr-font-color0);\n",
       "}\n",
       "\n",
       ".xr-section-summary {\n",
       "  grid-column: 1;\n",
       "  color: var(--xr-font-color2);\n",
       "  font-weight: 500;\n",
       "}\n",
       "\n",
       ".xr-section-summary > span {\n",
       "  display: inline-block;\n",
       "  padding-left: 0.5em;\n",
       "}\n",
       "\n",
       ".xr-section-summary-in:disabled + label {\n",
       "  color: var(--xr-font-color2);\n",
       "}\n",
       "\n",
       ".xr-section-summary-in + label:before {\n",
       "  display: inline-block;\n",
       "  content: '►';\n",
       "  font-size: 11px;\n",
       "  width: 15px;\n",
       "  text-align: center;\n",
       "}\n",
       "\n",
       ".xr-section-summary-in:disabled + label:before {\n",
       "  color: var(--xr-disabled-color);\n",
       "}\n",
       "\n",
       ".xr-section-summary-in:checked + label:before {\n",
       "  content: '▼';\n",
       "}\n",
       "\n",
       ".xr-section-summary-in:checked + label > span {\n",
       "  display: none;\n",
       "}\n",
       "\n",
       ".xr-section-summary,\n",
       ".xr-section-inline-details {\n",
       "  padding-top: 4px;\n",
       "  padding-bottom: 4px;\n",
       "}\n",
       "\n",
       ".xr-section-inline-details {\n",
       "  grid-column: 2 / -1;\n",
       "}\n",
       "\n",
       ".xr-section-details {\n",
       "  display: none;\n",
       "  grid-column: 1 / -1;\n",
       "  margin-bottom: 5px;\n",
       "}\n",
       "\n",
       ".xr-section-summary-in:checked ~ .xr-section-details {\n",
       "  display: contents;\n",
       "}\n",
       "\n",
       ".xr-array-wrap {\n",
       "  grid-column: 1 / -1;\n",
       "  display: grid;\n",
       "  grid-template-columns: 20px auto;\n",
       "}\n",
       "\n",
       ".xr-array-wrap > label {\n",
       "  grid-column: 1;\n",
       "  vertical-align: top;\n",
       "}\n",
       "\n",
       ".xr-preview {\n",
       "  color: var(--xr-font-color3);\n",
       "}\n",
       "\n",
       ".xr-array-preview,\n",
       ".xr-array-data {\n",
       "  padding: 0 5px !important;\n",
       "  grid-column: 2;\n",
       "}\n",
       "\n",
       ".xr-array-data,\n",
       ".xr-array-in:checked ~ .xr-array-preview {\n",
       "  display: none;\n",
       "}\n",
       "\n",
       ".xr-array-in:checked ~ .xr-array-data,\n",
       ".xr-array-preview {\n",
       "  display: inline-block;\n",
       "}\n",
       "\n",
       ".xr-dim-list {\n",
       "  display: inline-block !important;\n",
       "  list-style: none;\n",
       "  padding: 0 !important;\n",
       "  margin: 0;\n",
       "}\n",
       "\n",
       ".xr-dim-list li {\n",
       "  display: inline-block;\n",
       "  padding: 0;\n",
       "  margin: 0;\n",
       "}\n",
       "\n",
       ".xr-dim-list:before {\n",
       "  content: '(';\n",
       "}\n",
       "\n",
       ".xr-dim-list:after {\n",
       "  content: ')';\n",
       "}\n",
       "\n",
       ".xr-dim-list li:not(:last-child):after {\n",
       "  content: ',';\n",
       "  padding-right: 5px;\n",
       "}\n",
       "\n",
       ".xr-has-index {\n",
       "  font-weight: bold;\n",
       "}\n",
       "\n",
       ".xr-var-list,\n",
       ".xr-var-item {\n",
       "  display: contents;\n",
       "}\n",
       "\n",
       ".xr-var-item > div,\n",
       ".xr-var-item label,\n",
       ".xr-var-item > .xr-var-name span {\n",
       "  background-color: var(--xr-background-color-row-even);\n",
       "  margin-bottom: 0;\n",
       "}\n",
       "\n",
       ".xr-var-item > .xr-var-name:hover span {\n",
       "  padding-right: 5px;\n",
       "}\n",
       "\n",
       ".xr-var-list > li:nth-child(odd) > div,\n",
       ".xr-var-list > li:nth-child(odd) > label,\n",
       ".xr-var-list > li:nth-child(odd) > .xr-var-name span {\n",
       "  background-color: var(--xr-background-color-row-odd);\n",
       "}\n",
       "\n",
       ".xr-var-name {\n",
       "  grid-column: 1;\n",
       "}\n",
       "\n",
       ".xr-var-dims {\n",
       "  grid-column: 2;\n",
       "}\n",
       "\n",
       ".xr-var-dtype {\n",
       "  grid-column: 3;\n",
       "  text-align: right;\n",
       "  color: var(--xr-font-color2);\n",
       "}\n",
       "\n",
       ".xr-var-preview {\n",
       "  grid-column: 4;\n",
       "}\n",
       "\n",
       ".xr-index-preview {\n",
       "  grid-column: 2 / 5;\n",
       "  color: var(--xr-font-color2);\n",
       "}\n",
       "\n",
       ".xr-var-name,\n",
       ".xr-var-dims,\n",
       ".xr-var-dtype,\n",
       ".xr-preview,\n",
       ".xr-attrs dt {\n",
       "  white-space: nowrap;\n",
       "  overflow: hidden;\n",
       "  text-overflow: ellipsis;\n",
       "  padding-right: 10px;\n",
       "}\n",
       "\n",
       ".xr-var-name:hover,\n",
       ".xr-var-dims:hover,\n",
       ".xr-var-dtype:hover,\n",
       ".xr-attrs dt:hover {\n",
       "  overflow: visible;\n",
       "  width: auto;\n",
       "  z-index: 1;\n",
       "}\n",
       "\n",
       ".xr-var-attrs,\n",
       ".xr-var-data,\n",
       ".xr-index-data {\n",
       "  display: none;\n",
       "  background-color: var(--xr-background-color) !important;\n",
       "  padding-bottom: 5px !important;\n",
       "}\n",
       "\n",
       ".xr-var-attrs-in:checked ~ .xr-var-attrs,\n",
       ".xr-var-data-in:checked ~ .xr-var-data,\n",
       ".xr-index-data-in:checked ~ .xr-index-data {\n",
       "  display: block;\n",
       "}\n",
       "\n",
       ".xr-var-data > table {\n",
       "  float: right;\n",
       "}\n",
       "\n",
       ".xr-var-name span,\n",
       ".xr-var-data,\n",
       ".xr-index-name div,\n",
       ".xr-index-data,\n",
       ".xr-attrs {\n",
       "  padding-left: 25px !important;\n",
       "}\n",
       "\n",
       ".xr-attrs,\n",
       ".xr-var-attrs,\n",
       ".xr-var-data,\n",
       ".xr-index-data {\n",
       "  grid-column: 1 / -1;\n",
       "}\n",
       "\n",
       "dl.xr-attrs {\n",
       "  padding: 0;\n",
       "  margin: 0;\n",
       "  display: grid;\n",
       "  grid-template-columns: 125px auto;\n",
       "}\n",
       "\n",
       ".xr-attrs dt,\n",
       ".xr-attrs dd {\n",
       "  padding: 0;\n",
       "  margin: 0;\n",
       "  float: left;\n",
       "  padding-right: 10px;\n",
       "  width: auto;\n",
       "}\n",
       "\n",
       ".xr-attrs dt {\n",
       "  font-weight: normal;\n",
       "  grid-column: 1;\n",
       "}\n",
       "\n",
       ".xr-attrs dt:hover span {\n",
       "  display: inline-block;\n",
       "  background: var(--xr-background-color);\n",
       "  padding-right: 10px;\n",
       "}\n",
       "\n",
       ".xr-attrs dd {\n",
       "  grid-column: 2;\n",
       "  white-space: pre-wrap;\n",
       "  word-break: break-all;\n",
       "}\n",
       "\n",
       ".xr-icon-database,\n",
       ".xr-icon-file-text2,\n",
       ".xr-no-icon {\n",
       "  display: inline-block;\n",
       "  vertical-align: middle;\n",
       "  width: 1em;\n",
       "  height: 1.5em !important;\n",
       "  stroke-width: 0;\n",
       "  stroke: currentColor;\n",
       "  fill: currentColor;\n",
       "}\n",
       "</style><pre class='xr-text-repr-fallback'>&lt;xarray.Dataset&gt;\n",
       "Dimensions:      (nprof: 47890, pressure: 99)\n",
       "Coordinates:\n",
       "    profiler     (nprof) int32 100 100 100 100 100 100 100 100 ... 9 9 9 9 9 9 9\n",
       "    date         (nprof) datetime64[ns] 2017-09-20T00:02:04.416000 ... 2009-0...\n",
       "    lon          (nprof) float64 -149.2 -148.8 -148.0 ... -97.41 -95.51 -95.29\n",
       "    lat          (nprof) float64 80.04 80.1 80.18 80.28 ... 82.65 82.75 82.76\n",
       "  * pressure     (pressure) float64 -10.0 -15.0 -20.0 ... -490.0 -495.0 -500.0\n",
       "Dimensions without coordinates: nprof\n",
       "Data variables:\n",
       "    temperature  (nprof, pressure) float64 -1.495 -1.495 -1.342 ... 0.422 0.4203\n",
       "    salinity     (nprof, pressure) float64 27.8 27.81 28.08 ... 34.84 34.84</pre><div class='xr-wrap' style='display:none'><div class='xr-header'><div class='xr-obj-type'>xarray.Dataset</div></div><ul class='xr-sections'><li class='xr-section-item'><input id='section-a8addf58-4023-4246-834c-bdc6e66afb27' class='xr-section-summary-in' type='checkbox' disabled ><label for='section-a8addf58-4023-4246-834c-bdc6e66afb27' class='xr-section-summary'  title='Expand/collapse section'>Dimensions:</label><div class='xr-section-inline-details'><ul class='xr-dim-list'><li><span>nprof</span>: 47890</li><li><span class='xr-has-index'>pressure</span>: 99</li></ul></div><div class='xr-section-details'></div></li><li class='xr-section-item'><input id='section-090d96b4-ed76-4624-a165-a325a1780341' class='xr-section-summary-in' type='checkbox'  checked><label for='section-090d96b4-ed76-4624-a165-a325a1780341' class='xr-section-summary' >Coordinates: <span>(5)</span></label><div class='xr-section-inline-details'></div><div class='xr-section-details'><ul class='xr-var-list'><li class='xr-var-item'><div class='xr-var-name'><span>profiler</span></div><div class='xr-var-dims'>(nprof)</div><div class='xr-var-dtype'>int32</div><div class='xr-var-preview xr-preview'>100 100 100 100 100 ... 9 9 9 9 9</div><input id='attrs-401405bf-8f71-44b2-b2ae-bf71ed8cd29e' class='xr-var-attrs-in' type='checkbox' disabled><label for='attrs-401405bf-8f71-44b2-b2ae-bf71ed8cd29e' title='Show/Hide attributes'><svg class='icon xr-icon-file-text2'><use xlink:href='#icon-file-text2'></use></svg></label><input id='data-73866fe8-0a9f-48b4-abb6-4cbb94b901ed' class='xr-var-data-in' type='checkbox'><label for='data-73866fe8-0a9f-48b4-abb6-4cbb94b901ed' title='Show/Hide data repr'><svg class='icon xr-icon-database'><use xlink:href='#icon-database'></use></svg></label><div class='xr-var-attrs'><dl class='xr-attrs'></dl></div><div class='xr-var-data'><pre>array([100, 100, 100, ...,   9,   9,   9])</pre></div></li><li class='xr-var-item'><div class='xr-var-name'><span>date</span></div><div class='xr-var-dims'>(nprof)</div><div class='xr-var-dtype'>datetime64[ns]</div><div class='xr-var-preview xr-preview'>2017-09-20T00:02:04.416000 ... 2...</div><input id='attrs-c490d7e6-402c-4681-842a-30d73ebfe720' class='xr-var-attrs-in' type='checkbox' disabled><label for='attrs-c490d7e6-402c-4681-842a-30d73ebfe720' title='Show/Hide attributes'><svg class='icon xr-icon-file-text2'><use xlink:href='#icon-file-text2'></use></svg></label><input id='data-1e2e7670-4c43-4221-be77-d449512c3648' class='xr-var-data-in' type='checkbox'><label for='data-1e2e7670-4c43-4221-be77-d449512c3648' title='Show/Hide data repr'><svg class='icon xr-icon-database'><use xlink:href='#icon-database'></use></svg></label><div class='xr-var-attrs'><dl class='xr-attrs'></dl></div><div class='xr-var-data'><pre>array([&#x27;2017-09-20T00:02:04.416000000&#x27;, &#x27;2017-09-21T00:02:02.688000000&#x27;,\n",
       "       &#x27;2017-09-22T00:02:02.688000000&#x27;, ...,\n",
       "       &#x27;2008-12-05T12:00:05.183999000&#x27;, &#x27;2009-01-15T00:24:18.432000000&#x27;,\n",
       "       &#x27;2009-01-15T07:12:01.728000000&#x27;], dtype=&#x27;datetime64[ns]&#x27;)</pre></div></li><li class='xr-var-item'><div class='xr-var-name'><span>lon</span></div><div class='xr-var-dims'>(nprof)</div><div class='xr-var-dtype'>float64</div><div class='xr-var-preview xr-preview'>-149.2 -148.8 ... -95.51 -95.29</div><input id='attrs-27181947-241a-49a1-8f24-1aca304eb5e5' class='xr-var-attrs-in' type='checkbox' disabled><label for='attrs-27181947-241a-49a1-8f24-1aca304eb5e5' title='Show/Hide attributes'><svg class='icon xr-icon-file-text2'><use xlink:href='#icon-file-text2'></use></svg></label><input id='data-c0e6a2a1-f3e5-431d-9fe2-06a11ef4e8e7' class='xr-var-data-in' type='checkbox'><label for='data-c0e6a2a1-f3e5-431d-9fe2-06a11ef4e8e7' title='Show/Hide data repr'><svg class='icon xr-icon-database'><use xlink:href='#icon-database'></use></svg></label><div class='xr-var-attrs'><dl class='xr-attrs'></dl></div><div class='xr-var-data'><pre>array([-149.1544, -148.7704, -147.9601, ...,  -97.4092,  -95.5062,\n",
       "        -95.2933])</pre></div></li><li class='xr-var-item'><div class='xr-var-name'><span>lat</span></div><div class='xr-var-dims'>(nprof)</div><div class='xr-var-dtype'>float64</div><div class='xr-var-preview xr-preview'>80.04 80.1 80.18 ... 82.75 82.76</div><input id='attrs-77e9ee7a-c0b1-45ee-9e10-ff4ce207acc5' class='xr-var-attrs-in' type='checkbox' disabled><label for='attrs-77e9ee7a-c0b1-45ee-9e10-ff4ce207acc5' title='Show/Hide attributes'><svg class='icon xr-icon-file-text2'><use xlink:href='#icon-file-text2'></use></svg></label><input id='data-ae91adad-2620-4d92-b45d-494a2bfd91c2' class='xr-var-data-in' type='checkbox'><label for='data-ae91adad-2620-4d92-b45d-494a2bfd91c2' title='Show/Hide data repr'><svg class='icon xr-icon-database'><use xlink:href='#icon-database'></use></svg></label><div class='xr-var-attrs'><dl class='xr-attrs'></dl></div><div class='xr-var-data'><pre>array([80.0378, 80.0992, 80.1768, ..., 82.6484, 82.7462, 82.7572])</pre></div></li><li class='xr-var-item'><div class='xr-var-name'><span class='xr-has-index'>pressure</span></div><div class='xr-var-dims'>(pressure)</div><div class='xr-var-dtype'>float64</div><div class='xr-var-preview xr-preview'>-10.0 -15.0 -20.0 ... -495.0 -500.0</div><input id='attrs-c1a4cfb0-fbbd-4b85-b2d5-9444110374a6' class='xr-var-attrs-in' type='checkbox' disabled><label for='attrs-c1a4cfb0-fbbd-4b85-b2d5-9444110374a6' title='Show/Hide attributes'><svg class='icon xr-icon-file-text2'><use xlink:href='#icon-file-text2'></use></svg></label><input id='data-40648f60-4b04-430e-97f1-6968bea6eaea' class='xr-var-data-in' type='checkbox'><label for='data-40648f60-4b04-430e-97f1-6968bea6eaea' title='Show/Hide data repr'><svg class='icon xr-icon-database'><use xlink:href='#icon-database'></use></svg></label><div class='xr-var-attrs'><dl class='xr-attrs'></dl></div><div class='xr-var-data'><pre>array([ -10.,  -15.,  -20.,  -25.,  -30.,  -35.,  -40.,  -45.,  -50.,  -55.,\n",
       "        -60.,  -65.,  -70.,  -75.,  -80.,  -85.,  -90.,  -95., -100., -105.,\n",
       "       -110., -115., -120., -125., -130., -135., -140., -145., -150., -155.,\n",
       "       -160., -165., -170., -175., -180., -185., -190., -195., -200., -205.,\n",
       "       -210., -215., -220., -225., -230., -235., -240., -245., -250., -255.,\n",
       "       -260., -265., -270., -275., -280., -285., -290., -295., -300., -305.,\n",
       "       -310., -315., -320., -325., -330., -335., -340., -345., -350., -355.,\n",
       "       -360., -365., -370., -375., -380., -385., -390., -395., -400., -405.,\n",
       "       -410., -415., -420., -425., -430., -435., -440., -445., -450., -455.,\n",
       "       -460., -465., -470., -475., -480., -485., -490., -495., -500.])</pre></div></li></ul></div></li><li class='xr-section-item'><input id='section-4c00e955-7451-44c1-a720-432a008b001e' class='xr-section-summary-in' type='checkbox'  checked><label for='section-4c00e955-7451-44c1-a720-432a008b001e' class='xr-section-summary' >Data variables: <span>(2)</span></label><div class='xr-section-inline-details'></div><div class='xr-section-details'><ul class='xr-var-list'><li class='xr-var-item'><div class='xr-var-name'><span>temperature</span></div><div class='xr-var-dims'>(nprof, pressure)</div><div class='xr-var-dtype'>float64</div><div class='xr-var-preview xr-preview'>-1.495 -1.495 ... 0.422 0.4203</div><input id='attrs-5ffed151-275e-44c3-8f0c-074a4670792c' class='xr-var-attrs-in' type='checkbox' disabled><label for='attrs-5ffed151-275e-44c3-8f0c-074a4670792c' title='Show/Hide attributes'><svg class='icon xr-icon-file-text2'><use xlink:href='#icon-file-text2'></use></svg></label><input id='data-a6e6ebd4-de11-488d-9748-d1e16e11fdc7' class='xr-var-data-in' type='checkbox'><label for='data-a6e6ebd4-de11-488d-9748-d1e16e11fdc7' title='Show/Hide data repr'><svg class='icon xr-icon-database'><use xlink:href='#icon-database'></use></svg></label><div class='xr-var-attrs'><dl class='xr-attrs'></dl></div><div class='xr-var-data'><pre>array([[-1.4952    , -1.4949    , -1.3418    , ...,  0.8325    ,\n",
       "         0.83611818,  0.82901818],\n",
       "       [-1.5139    , -1.5131    , -1.4878    , ...,  0.838     ,\n",
       "         0.8495    ,  0.8336    ],\n",
       "       [-1.53845   , -1.5409    , -1.5384    , ...,  0.8388    ,\n",
       "         0.8229    ,  0.8161    ],\n",
       "       ...,\n",
       "       [-1.6245    , -1.6245    , -1.6245    , ...,  0.41811818,\n",
       "         0.4229    ,  0.4242    ],\n",
       "       [-1.62180909, -1.62132727, -1.62070909, ...,  0.4193    ,\n",
       "         0.41908182,  0.4191    ],\n",
       "       [-1.6221    , -1.6221    , -1.6217    , ...,  0.42148   ,\n",
       "         0.42203636,  0.42028   ]])</pre></div></li><li class='xr-var-item'><div class='xr-var-name'><span>salinity</span></div><div class='xr-var-dims'>(nprof, pressure)</div><div class='xr-var-dtype'>float64</div><div class='xr-var-preview xr-preview'>27.8 27.81 28.08 ... 34.84 34.84</div><input id='attrs-b6ff5398-714e-4cfd-8360-bbd15dcfe55a' class='xr-var-attrs-in' type='checkbox' disabled><label for='attrs-b6ff5398-714e-4cfd-8360-bbd15dcfe55a' title='Show/Hide attributes'><svg class='icon xr-icon-file-text2'><use xlink:href='#icon-file-text2'></use></svg></label><input id='data-6a9c9f20-e081-48b7-9023-84796cf5686a' class='xr-var-data-in' type='checkbox'><label for='data-6a9c9f20-e081-48b7-9023-84796cf5686a' title='Show/Hide data repr'><svg class='icon xr-icon-database'><use xlink:href='#icon-database'></use></svg></label><div class='xr-var-attrs'><dl class='xr-attrs'></dl></div><div class='xr-var-data'><pre>array([[27.8048    , 27.8084    , 28.0753    , ..., 34.8453    ,\n",
       "        34.8496    , 34.85068182],\n",
       "       [27.9807    , 28.2575    , 28.5077    , ..., 34.8468    ,\n",
       "        34.8515    , 34.8509    ],\n",
       "       [28.36185833, 28.4512    , 28.4726    , ..., 34.8519    ,\n",
       "        34.8517    , 34.8532    ],\n",
       "       ...,\n",
       "       [29.7689    , 29.76981667, 29.7702    , ..., 34.83952727,\n",
       "        34.8415    , 34.843     ],\n",
       "       [29.78349091, 29.78452727, 29.78638182, ..., 34.8332    ,\n",
       "        34.83563636, 34.8366    ],\n",
       "       [29.7837    , 29.7839    , 29.7855    , ..., 34.83742   ,\n",
       "        34.83930909, 34.83987   ]])</pre></div></li></ul></div></li><li class='xr-section-item'><input id='section-a00c10e1-5611-4faf-9748-a3ed531f9609' class='xr-section-summary-in' type='checkbox'  ><label for='section-a00c10e1-5611-4faf-9748-a3ed531f9609' class='xr-section-summary' >Indexes: <span>(1)</span></label><div class='xr-section-inline-details'></div><div class='xr-section-details'><ul class='xr-var-list'><li class='xr-var-item'><div class='xr-index-name'><div>pressure</div></div><div class='xr-index-preview'>PandasIndex</div><div></div><input id='index-37d531b9-5570-4416-b892-95190638e572' class='xr-index-data-in' type='checkbox'/><label for='index-37d531b9-5570-4416-b892-95190638e572' title='Show/Hide index repr'><svg class='icon xr-icon-database'><use xlink:href='#icon-database'></use></svg></label><div class='xr-index-data'><pre>PandasIndex(Float64Index([ -10.0,  -15.0,  -20.0,  -25.0,  -30.0,  -35.0,  -40.0,  -45.0,\n",
       "               -50.0,  -55.0,  -60.0,  -65.0,  -70.0,  -75.0,  -80.0,  -85.0,\n",
       "               -90.0,  -95.0, -100.0, -105.0, -110.0, -115.0, -120.0, -125.0,\n",
       "              -130.0, -135.0, -140.0, -145.0, -150.0, -155.0, -160.0, -165.0,\n",
       "              -170.0, -175.0, -180.0, -185.0, -190.0, -195.0, -200.0, -205.0,\n",
       "              -210.0, -215.0, -220.0, -225.0, -230.0, -235.0, -240.0, -245.0,\n",
       "              -250.0, -255.0, -260.0, -265.0, -270.0, -275.0, -280.0, -285.0,\n",
       "              -290.0, -295.0, -300.0, -305.0, -310.0, -315.0, -320.0, -325.0,\n",
       "              -330.0, -335.0, -340.0, -345.0, -350.0, -355.0, -360.0, -365.0,\n",
       "              -370.0, -375.0, -380.0, -385.0, -390.0, -395.0, -400.0, -405.0,\n",
       "              -410.0, -415.0, -420.0, -425.0, -430.0, -435.0, -440.0, -445.0,\n",
       "              -450.0, -455.0, -460.0, -465.0, -470.0, -475.0, -480.0, -485.0,\n",
       "              -490.0, -495.0, -500.0],\n",
       "             dtype=&#x27;float64&#x27;, name=&#x27;pressure&#x27;))</pre></div></li></ul></div></li><li class='xr-section-item'><input id='section-3a11afd9-7781-4bb6-8f6b-805d3ac01ec0' class='xr-section-summary-in' type='checkbox' disabled ><label for='section-3a11afd9-7781-4bb6-8f6b-805d3ac01ec0' class='xr-section-summary'  title='Expand/collapse section'>Attributes: <span>(0)</span></label><div class='xr-section-inline-details'></div><div class='xr-section-details'><dl class='xr-attrs'></dl></div></li></ul></div></div>"
      ],
      "text/plain": [
       "<xarray.Dataset>\n",
       "Dimensions:      (nprof: 47890, pressure: 99)\n",
       "Coordinates:\n",
       "    profiler     (nprof) int32 100 100 100 100 100 100 100 100 ... 9 9 9 9 9 9 9\n",
       "    date         (nprof) datetime64[ns] 2017-09-20T00:02:04.416000 ... 2009-0...\n",
       "    lon          (nprof) float64 -149.2 -148.8 -148.0 ... -97.41 -95.51 -95.29\n",
       "    lat          (nprof) float64 80.04 80.1 80.18 80.28 ... 82.65 82.75 82.76\n",
       "  * pressure     (pressure) float64 -10.0 -15.0 -20.0 ... -490.0 -495.0 -500.0\n",
       "Dimensions without coordinates: nprof\n",
       "Data variables:\n",
       "    temperature  (nprof, pressure) float64 -1.495 -1.495 -1.342 ... 0.422 0.4203\n",
       "    salinity     (nprof, pressure) float64 27.8 27.81 28.08 ... 34.84 34.84"
      ]
     },
     "execution_count": 121,
     "metadata": {},
     "output_type": "execute_result"
    }
   ],
   "source": [
    "# select a pressure range\n",
    "pstart=-10.\n",
    "pend=-500.\n",
    "\n",
    "ds_cleaned=ds_all.sel(pressure=slice(pstart,pend)).dropna('nprof')\n",
    "ds_cleaned"
   ]
  },
  {
   "cell_type": "code",
   "execution_count": 122,
   "id": "57e1fe03",
   "metadata": {},
   "outputs": [],
   "source": [
    "# save the cleaned xarry to local file\n",
    "ds_cleaned.to_netcdf(f\"{data_path}/ds_cleaned.nc\")"
   ]
  },
  {
   "cell_type": "code",
   "execution_count": 123,
   "id": "fe151ca0",
   "metadata": {},
   "outputs": [],
   "source": [
    "# read the cleaned xarray from local file\n",
    "import xarray as xr\n",
    "ds_cleaned=xr.open_dataset(f\"{data_path}/ds_cleaned.nc\")"
   ]
  },
  {
   "cell_type": "code",
   "execution_count": 124,
   "id": "400c4d1b",
   "metadata": {},
   "outputs": [
    {
     "data": {
      "image/png": "[encoded data removed]",
      "text/plain": [
       "<Figure size 500x500 with 1 Axes>"
      ]
     },
     "metadata": {},
     "output_type": "display_data"
    }
   ],
   "source": [
    "# plot the locations of cleaned data\n",
    "import plot_toolbox as ptb\n",
    "ptb.plot_data_location(ds_cleaned,dpi=100)"
   ]
  }
 ],
 "metadata": {
  "kernelspec": {
   "display_name": "pz-env",
   "language": "python",
   "name": "python3"
  },
  "language_info": {
   "codemirror_mode": {
    "name": "ipython",
    "version": 3
   },
   "file_extension": ".py",
   "mimetype": "text/x-python",
   "name": "python",
   "nbconvert_exporter": "python",
   "pygments_lexer": "ipython3",
   "version": "3.10.8"
  }
 },
 "nbformat": 4,
 "nbformat_minor": 5
}
